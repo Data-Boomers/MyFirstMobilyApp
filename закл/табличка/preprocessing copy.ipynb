{
 "cells": [
  {
   "cell_type": "code",
   "execution_count": null,
   "id": "c9f09862-398b-4eb7-9ae1-b34070760610",
   "metadata": {},
   "outputs": [],
   "source": [
    "%pip install pandarallel tsfresh -q"
   ]
  },
  {
   "cell_type": "code",
   "execution_count": 1,
   "id": "135f5973-4635-4e0a-bc5e-2ddab1529844",
   "metadata": {},
   "outputs": [
    {
     "name": "stderr",
     "output_type": "stream",
     "text": [
      "C:\\Users\\Mi\\AppData\\Roaming\\Python\\Python311\\site-packages\\pandas\\core\\arrays\\masked.py:60: UserWarning: Pandas requires version '1.3.6' or newer of 'bottleneck' (version '1.3.5' currently installed).\n",
      "  from pandas.core import (\n"
     ]
    },
    {
     "name": "stdout",
     "output_type": "stream",
     "text": [
      "INFO: Pandarallel will run on 4 workers.\n",
      "INFO: Pandarallel will use standard multiprocessing data transfer (pipe) to transfer data between the main process and workers.\n",
      "\n",
      "WARNING: You are on Windows. If you detect any issue with pandarallel, be sure you checked out the Troubleshooting page:\n",
      "https://nalepae.github.io/pandarallel/troubleshooting/\n"
     ]
    }
   ],
   "source": [
    "# Other tools\n",
    "import random\n",
    "import os\n",
    "import gc\n",
    "from collections import Counter\n",
    "\n",
    "from tqdm import tqdm\n",
    "#pandarallel for parallezation\n",
    "from pandarallel import pandarallel\n",
    "pandarallel.initialize(progress_bar=True)\n",
    "\n",
    "# Train\n",
    "from sklearn.impute import SimpleImputer\n",
    "import sklearn\n",
    "\n",
    "# Visual\n",
    "import matplotlib.pyplot as plt\n",
    "import seaborn as sns\n",
    "\n",
    "# Preprocessing\n",
    "import pandas as pd\n",
    "import numpy as np\n",
    "\n",
    "# Model\n",
    "import lightgbm as lgb\n",
    "import xgboost as xgb\n",
    "\n",
    "from catboost import Pool\n",
    "#local imports\n",
    "from utils import set_seed_no_torch, reduce_mem_usage, find_cat_features, cpu_usage\n",
    "\n",
    "import warnings\n",
    "import pickle\n",
    "import math\n",
    "import geopandas as gpd\n",
    "from sklearn.decomposition import PCA\n",
    "\n",
    "# feature generation\n",
    "# import spacy\n",
    "\n",
    "#ts based features\n",
    "# from tsfresh.utilities.dataframe_functions import roll_time_series\n",
    "# from tsfresh.feature_extraction import MinimalFCParameters, EfficientFCParameters\n",
    "# from tsfresh import extract_features\n",
    "\n",
    "# some settings\n",
    "pd.set_option('display.max_rows', 15)\n",
    "\n",
    "plt.rcParams['font.weight'] = 'semibold'\n",
    "plt.rcParams['figure.figsize'] = 14, 8\n",
    "plt.rcParams['font.size'] = 18\n",
    "\n",
    "plt.rcParams['savefig.format'] = 'pdf'\n",
    "\n",
    "warnings.filterwarnings('ignore')"
   ]
  },
  {
   "cell_type": "code",
   "execution_count": 2,
   "id": "bcd27785-9749-431a-a12d-51d0fd38cfb4",
   "metadata": {},
   "outputs": [],
   "source": [
    "SEED = 11\n",
    "set_seed_no_torch(SEED)"
   ]
  },
  {
   "cell_type": "markdown",
   "id": "bc9bafd4",
   "metadata": {},
   "source": [
    "### Reading data"
   ]
  },
  {
   "cell_type": "code",
   "execution_count": null,
   "id": "0eb43b8a-9b09-4b6e-b7d0-66aa5867b45a",
   "metadata": {},
   "outputs": [],
   "source": [
    "# import pyarrow.parquet as pq\n",
    "\n",
    "#loading with chunks\n",
    "# parquet_file = pq.ParquetFile('example.parquet')\n",
    "\n",
    "# for batch in parquet_file.iter_batches():\n",
    "#     batch_df = batch.to_pandas()\n",
    "\n",
    "# chunksize = 10e9\n",
    "# sep = ','\n",
    "# train = pd.read_csv(\"../shared/Rutube_v2.0/train.parquet\", chunksize=chunksize, sep=sep)\n",
    "# test = pd.read_csv(\"../shared/Rutube_v2.0/test.parquet\", chunksize=chunksize, sep=sep)\n",
    "# videos = pd.read_csv(\"../shared/Rutube_v2.0/video_stat.parquet\", chunksize=chunksize, sep=sep)\n",
    "\n",
    "# train = pd.read_parquet(\"../shared/Rutube_v2.0/train.parquet\")\n",
    "# test = pd.read_parquet(\"../shared/Rutube_v2.0/test.parquet\")\n",
    "# videos = pd.read_parquet(\"../shared/Rutube_v2.0/video_stat.parquet\")"
   ]
  },
  {
   "cell_type": "markdown",
   "id": "8db50992",
   "metadata": {},
   "source": [
    "### working with nas"
   ]
  },
  {
   "cell_type": "code",
   "execution_count": 3,
   "id": "bedfa848-b5f9-4577-82db-4886c1e5a0d0",
   "metadata": {},
   "outputs": [],
   "source": [
    "def fillnas(train, cols2check, cat_features, test=None):\n",
    "    for col in cols2check:\n",
    "      if col not in cat_features:\n",
    "        imp = SimpleImputer(strategy=\"median\").fit(train[col].values.reshape(-1, 1))\n",
    "        train[col] = imp.transform(train[col].values.reshape(-1, 1))\n",
    "        if test is not None:\n",
    "            test[col] = imp.transform(test[col].values.reshape(-1, 1))\n",
    "      else:\n",
    "        # val = statistics.mode(train[col].values)\n",
    "        val = -1\n",
    "        train[col].fillna(val, inplace=True)\n",
    "        if train[col] is not None:\n",
    "            test[col].fillna(val, inplace=True)\n",
    "    return train, test"
   ]
  },
  {
   "cell_type": "markdown",
   "id": "450704c6",
   "metadata": {},
   "source": [
    "### date and geo features"
   ]
  },
  {
   "cell_type": "code",
   "execution_count": 4,
   "id": "a65126d7-cb2d-4f13-a4ca-ce541c6153b5",
   "metadata": {},
   "outputs": [],
   "source": [
    "def generate_date_features(df, date_cols):\n",
    "\n",
    "  for date_col in date_cols:\n",
    "\n",
    "      df[date_col] = pd.to_datetime(df[date_col])\n",
    "    \n",
    "      # Извлечение базовых признаков\n",
    "      df[f'{date_col}_year'] = df[date_col].dt.year\n",
    "      df[f'{date_col}_month'] = df[date_col].dt.month\n",
    "      df[f'{date_col}_day'] = df[date_col].dt.day\n",
    "      df[f'{date_col}_day_of_week'] = df[date_col].dt.dayofweek\n",
    "      df[f'{date_col}_hour'] = df[date_col].dt.hour\n",
    "      df[f'{date_col}_hour_weekofyear'] = df[date_col].apply(lambda x : x.weekofyear)\n",
    "      df[f'{date_col}_week_hour'] = df[f'{date_col}_day_of_week'] * 24 + df[f'{date_col}_hour']\n",
    "\n",
    "    \n",
    "      # Бинарные признаки\n",
    "      df[f'{date_col}_is_weekend'] = df[f'{date_col}_day_of_week'].isin([5, 6]).astype(int)  # Суббота и воскресенье\n",
    "      # df['is_holiday'] = df['timestamp'].dt.strftime('%m-%d').isin(['01-01', '07-04', '12-25']).astype(int)  # Пример праздников\n",
    "    \n",
    "      # Циклические признаки\n",
    "      df[f'{date_col}_hour_sin'] = np.sin(2 * np.pi * df[f'{date_col}_hour'] / 24)\n",
    "      df[f'{date_col}_hour_cos'] = np.cos(2 * np.pi * df[f'{date_col}_hour'] / 24)\n",
    "      df[f'{date_col}_month_sin'] = np.sin(2 * np.pi * df[f'{date_col}_month'] / 12)\n",
    "      df[f'{date_col}_month_cos'] = np.cos(2 * np.pi * df[f'{date_col}_month'] / 12)\n",
    "      df[date_col] = df[date_col].apply(lambda x: x.timestamp())\n",
    "    \n",
    "  return df\n",
    "\n",
    "def generate_geo_features(df, pois):\n",
    "  #cities - https://github.com/epogrebnyak/ru-cities/blob/main/assets/towns.csv\n",
    "  from sklearn.cluster import KMeans, DBSCAN\n",
    "  from geopy.distance import geodesic \n",
    "\n",
    "  for poi in pois:\n",
    "    df[f'distance_to_{poi[\"name\"]}'] = df.parallel_apply(lambda row: geodesic((row['latitude'], row['longitude']), poi['coords']).km, axis=1)\n",
    "  \n",
    "  kmeans = KMeans(n_clusters=10)\n",
    "  df['geo_cluster_kmeans'] = kmeans.fit_predict(df[['latitude', 'longitude']])\n",
    "  # df['geo_cluster_dbscan'] = DBSCAN(min_samples=2).fit_predict(df[['latitude', 'longitude']])\n",
    "\n",
    "  # Признаки синус-косинус для направления\n",
    "  df['lat_sin'] = np.sin(np.radians(df['latitude']))\n",
    "  df['lat_cos'] = np.cos(np.radians(df['latitude']))\n",
    "  df['lon_sin'] = np.sin(np.radians(df['longitude']))\n",
    "  df['lon_cos'] = np.cos(np.radians(df['longitude']))\n",
    "\n",
    "  df['lan_lon'] = df['latitude'] / df['longitude']\n",
    "  df['lon_lat'] = df['longitude'] / df['latitude']\n",
    "\n",
    "  df['lat_rad'] = df['latitude'].apply(lambda x: math.radians(x))\n",
    "  df['lon_rad'] = df['longitude'].apply(lambda x: math.radians(x))\n",
    "\n",
    "  return df\n",
    "\n",
    "def base_coords_cleanup(df):\n",
    "    return df[\n",
    "        (df['latitude'] >= -90) & \\\n",
    "        (df['latitude'] <= 90) & \\\n",
    "        (df['longitude'] >= -180) & \\\n",
    "        (df['longitude'] <= 180) & \\\n",
    "        (df['longitude'] != 0) & \\\n",
    "        (df['latitude'] != 0)\n",
    "    ]"
   ]
  },
  {
   "cell_type": "code",
   "execution_count": 5,
   "id": "ad1cb969",
   "metadata": {},
   "outputs": [],
   "source": [
    "def visualize(data):\n",
    "  '''\n",
    "  input: dataframe containing Latitude(x) and Longitude(y)\n",
    "  '''\n",
    "  data[['x','y']].scatter(color='blue', s=1, alpha=0.1)\n",
    "  plt.title('Visualization of Latitude and Longitude')\n",
    "  plt.ylabel('latitude')\n",
    "  plt.xlabel('longitude')\n",
    "  plt.show()"
   ]
  },
  {
   "cell_type": "code",
   "execution_count": 7,
   "id": "8510e28e-4f2e-4614-9fd2-894c5ddd964a",
   "metadata": {},
   "outputs": [],
   "source": [
    "#generate geo features\n",
    "# pois = {'name' : 'moscow_center', 'coords' : (55.751244, 37.618423)}\n",
    "# train = generate_geo_features(train, pois).\n",
    "# test = generate_geo_features(test, pois)"
   ]
  },
  {
   "cell_type": "markdown",
   "id": "c7f80d79",
   "metadata": {},
   "source": [
    "#### PCA"
   ]
  },
  {
   "cell_type": "code",
   "execution_count": 5,
   "id": "fd4be412",
   "metadata": {},
   "outputs": [],
   "source": [
    "def pca_(df):\n",
    "\n",
    "    pca = PCA().fit(df[['latitude', 'longitude']].values)\n",
    "    df['pca0'] = pca.transform(df[['latitude', 'longitude']])[:, 0]\n",
    "    df['pca1'] = pca.transform(df[['latitude', 'longitude']])[:, 1]\n",
    "\n",
    "    return df\n",
    "\n",
    "def visualize(data):\n",
    "  '''\n",
    "  input: dataframe containing Latitude(x) and Longitude(y)\n",
    "  '''\n",
    "  sns.scatterplot(x=data['longitude'], y=data['latitude'], color='blue')\n",
    "  plt.title('Visualization of Latitude and Longitude')\n",
    "  plt.ylabel('latitude')\n",
    "  plt.xlabel('longitude')\n",
    "  plt.show()"
   ]
  },
  {
   "cell_type": "markdown",
   "id": "837b35f5",
   "metadata": {},
   "source": [
    "#### Distances"
   ]
  },
  {
   "cell_type": "code",
   "execution_count": 6,
   "id": "9607d6be",
   "metadata": {},
   "outputs": [],
   "source": [
    "from geopy.distance import geodesic\n",
    "\n",
    "def find_nearest_k(geometry, tr_gdf, tt_gdf, k):\n",
    "    distances_tr = tr_gdf.geometry.distance(geometry)\n",
    "    distances_tt = tt_gdf.geometry.distance(geometry)\n",
    "    # nearest_index = distances[distances.values != 0].idxmin()\n",
    "    # nearest = gdf.loc[nearest_index, 'geometry']\n",
    "    # return geodesic((geometry.x, geometry.y), (nearest.x, nearest.y)).km\n",
    "    return (distances_tr[distances_tr.values != 0].sort_values()[:k].mean() + \\\n",
    "        distances_tt[distances_tt.values != 0].sort_values()[:k].mean()) / 2\n",
    "\n",
    "\n",
    "def find_nearest(geometry, tr_gdf, tt_gdf):\n",
    "    distances_tr = tr_gdf.geometry.distance(geometry)\n",
    "    distances_tt = tt_gdf.geometry.distance(geometry)\n",
    "    # nearest_index = distances[distances.values != 0].idxmin()\n",
    "    # nearest = gdf.loc[nearest_index, 'geometry']\n",
    "    # return geodesic((geometry.x, geometry.y), (nearest.x, nearest.y)).km\n",
    "    return min(\n",
    "        distances_tr[distances_tr.values != 0].min(),\n",
    "        distances_tt[distances_tt.values != 0].min(),\n",
    "    )"
   ]
  },
  {
   "cell_type": "markdown",
   "id": "14e37b0e",
   "metadata": {},
   "source": [
    "#### Densities"
   ]
  },
  {
   "cell_type": "code",
   "execution_count": 7,
   "id": "a22d1d15",
   "metadata": {},
   "outputs": [],
   "source": [
    "def compute_densities(gpd1, gpd2):\n",
    "\n",
    "    # gpd1 = gpd1.to_crs('EPSG:32633')\n",
    "    # gpd2 = gpd2.to_crs('EPSG:32633')\n",
    "    gpd1['buffer'] = gpd1.geometry.buffer(10)\n",
    "    gpd1['count'] = gpd1.apply(\n",
    "        lambda row: gpd1.intersects(row.buffer).sum() + \\\n",
    "        gpd2.intersects(row.buffer).sum()\n",
    "    , axis=1)\n",
    "    print(gpd1['count'])\n",
    "    return gpd1['count'] / 1  # заменить константу"
   ]
  },
  {
   "cell_type": "markdown",
   "id": "51a01912",
   "metadata": {},
   "source": [
    "#### Grid"
   ]
  },
  {
   "cell_type": "code",
   "execution_count": 8,
   "id": "4d0d92eb",
   "metadata": {},
   "outputs": [],
   "source": [
    "def get_grid(gdf):\n",
    "  grid_size = 100  # Определение размера сетки\n",
    "  # gdf['grid_x'] = (gdf.geometry.x // grid_size).astype(int)\n",
    "  # gdf['grid_y'] = (gdf.geometry.y // grid_size).astype(int)\n",
    "  \n",
    "  R = 6371  # Радиус Земли в км\n",
    "  gdf['x_sphere'] = R * np.radians(gdf.geometry.x) * np.cos(np.radians(gdf.geometry.y))\n",
    "  gdf['y_sphere'] = R * np.radians(gdf.geometry.y)\n",
    "  return gdf['grid_x'], gdf['grid_y'], gdf['x_sphere'], gdf['y_sphere']"
   ]
  },
  {
   "cell_type": "markdown",
   "id": "2b00182a",
   "metadata": {},
   "source": [
    "### Grid and Bin\n"
   ]
  },
  {
   "cell_type": "code",
   "execution_count": 9,
   "id": "fd2d3e75",
   "metadata": {},
   "outputs": [],
   "source": [
    "def get_grid_v2(df):\n",
    "    grid = {}\n",
    "    c = 0\n",
    "    for i in range(100):\n",
    "        for j in range(100):\n",
    "            grid[(i, j)] = c\n",
    "            c += 1\n",
    "\n",
    "    def grid_x(x):\n",
    "        return  grid.get((x.lon_bin, x.lat_bin), -1)\n",
    "    \n",
    "    if str(df['latitude'].dtype) != 'float64':\n",
    "        df['latitude'] = df['latitude'].astype(np.float64)\n",
    "\n",
    "    if str(df['longitude'].dtype) != 'float64':\n",
    "        df['longitude'] = df['longitude'].astype(np.float64)\n",
    "\n",
    "    df['lat_bin'] = pd.cut(df['latitude'], np.linspace(df['latitude'].min(), df['latitude'].max(), 100), labels=np.arange(100 - 1)).cat.add_categories([-1]).fillna(-1).astype(int)\n",
    "    df['lon_bin'] = pd.cut(df['longitude'], np.linspace(df['longitude'].min(), df['longitude'].max(), 100), labels=np.arange(100 - 1)).cat.add_categories([-1]).fillna(-1).astype(int)\n",
    "    df['grid_bin'] = df.apply(grid_x, axis=1)\n",
    "    return df"
   ]
  },
  {
   "cell_type": "code",
   "execution_count": 10,
   "id": "ab341a53",
   "metadata": {},
   "outputs": [],
   "source": [
    "def create_grid(feature, shape, side_length, proj):\n",
    "    from shapely import Polygon, box\n",
    "    '''Create a grid consisting of either rectangles or hexagons with a specified side length that covers the extent of input feature.'''\n",
    "\n",
    "    # Slightly displace the minimum and maximum values of the feature extent by creating a buffer\n",
    "    # This decreases likelihood that a feature will fall directly on a cell boundary (in between two cells)\n",
    "    # Buffer is projection dependent (due to units)\n",
    "    feature = feature.buffer(20)\n",
    "\n",
    "    # Get extent of buffered input feature\n",
    "    min_x, min_y, max_x, max_y = feature.total_bounds\n",
    "\n",
    "\n",
    "    # Create empty list to hold individual cells that will make up the grid\n",
    "    cells_list = []\n",
    "\n",
    "    # Create grid of squares if specified\n",
    "    if shape in [\"square\", \"rectangle\", \"box\"]:\n",
    "\n",
    "        # Adapted from https://james-brennan.github.io/posts/fast_gridding_geopandas/\n",
    "        # Create and iterate through list of x values that will define column positions with specified side length\n",
    "        for x in np.arange(min_x - side_length, max_x + side_length, side_length):\n",
    "\n",
    "            # Create and iterate through list of y values that will define row positions with specified side length\n",
    "            for y in np.arange(min_y - side_length, max_y + side_length, side_length):\n",
    "\n",
    "                # Create a box with specified side length and append to list\n",
    "                cells_list.append(box(x, y, x + side_length, y + side_length))\n",
    "\n",
    "\n",
    "    # Otherwise, create grid of hexagons\n",
    "    elif shape == \"hexagon\":\n",
    "\n",
    "        # Set horizontal displacement that will define column positions with specified side length (based on normal hexagon)\n",
    "        x_step = 1.5 * side_length\n",
    "\n",
    "        # Set vertical displacement that will define row positions with specified side length (based on normal hexagon)\n",
    "        # This is the distance between the centers of two hexagons stacked on top of each other (vertically)\n",
    "        y_step = math.sqrt(3) * side_length\n",
    "\n",
    "        # Get apothem (distance between center and midpoint of a side, based on normal hexagon)\n",
    "        apothem = (math.sqrt(3) * side_length / 2)\n",
    "\n",
    "        # Set column number\n",
    "        column_number = 0\n",
    "\n",
    "        # Create and iterate through list of x values that will define column positions with vertical displacement\n",
    "        for x in tqdm(np.arange(min_x, max_x + x_step, x_step)):\n",
    "\n",
    "            # Create and iterate through list of y values that will define column positions with horizontal displacement\n",
    "            for y in tqdm(np.arange(min_y, max_y + y_step, y_step)):\n",
    "\n",
    "                # Create hexagon with specified side length\n",
    "                hexagon = [[x + math.cos(math.radians(angle)) * side_length, y + math.sin(math.radians(angle)) * side_length] for angle in range(0, 360, 60)]\n",
    "\n",
    "                # Append hexagon to list\n",
    "                cells_list.append(Polygon(hexagon))\n",
    "\n",
    "            # Check if column number is even\n",
    "            if column_number % 2 == 0:\n",
    "\n",
    "                # If even, expand minimum and maximum y values by apothem value to vertically displace next row\n",
    "                # Expand values so as to not miss any features near the feature extent\n",
    "                min_y -= apothem\n",
    "                max_y += apothem\n",
    "\n",
    "            # Else, odd\n",
    "            else:\n",
    "\n",
    "                # Revert minimum and maximum y values back to original\n",
    "                min_y += apothem\n",
    "                max_y -= apothem\n",
    "\n",
    "            # Increase column number by 1\n",
    "            column_number += 1\n",
    "\n",
    "    # Else, raise error\n",
    "    else:\n",
    "        raise Exception(\"Specify a rectangle or hexagon as the grid shape.\")\n",
    "\n",
    "    # Create grid from list of cells\n",
    "    grid = gpd.GeoDataFrame(cells_list, columns = ['geometry'], crs = proj)\n",
    "\n",
    "    # Create a column that assigns each grid a number\n",
    "    grid[\"Grid_ID\"] = np.arange(len(grid))\n",
    "\n",
    "    # Return grid\n",
    "    return grid"
   ]
  },
  {
   "cell_type": "code",
   "execution_count": 11,
   "id": "848e2317",
   "metadata": {},
   "outputs": [],
   "source": [
    "# def add_extra_manh_features(df):\n",
    "#     df['Euclidean'] = (df.abs_diff_latitude**2 + df.abs_diff_longitude**2)**0.5 ### as the crow flies  \n",
    "#     df['delta_manh_long'] = (df.Euclidean*np.sin(np.arctan(df.abs_diff_longitude / df.abs_diff_latitude)-meas_ang)).abs()\n",
    "#     df['delta_manh_lat'] = (df.Euclidean*np.cos(np.arctan(df.abs_diff_longitude / df.abs_diff_latitude)-meas_ang)).abs()\n",
    "#     df['manh_length'] = df.delta_manh_long + df.delta_manh_lat\n",
    "#     df['Euc_error'] = (df['manh_length'] - df['Euclidean'])*100 /  df['Euclidean']\n",
    "\n",
    "# add_extra_manh_features(train_df)\n",
    "\n",
    "# gby_cols = ['pickup_hour', 'pickup_date', 'pickup_dt_bin',\n",
    "#                'pickup_week_hour', 'pickup_cluster', 'dropoff_cluster']\n",
    "\n",
    "# mean_cols = ['avg_speed_h', 'avg_speed_m', 'log_trip_duration']\n",
    "\n",
    "# for gby_col in gby_cols:\n",
    "#     gby = train.groupby(gby_col)[mean_cols].mean()\n",
    "#     gby.columns = ['%s_gby_%s' % (col, gby_col) for col in gby.columns]\n",
    "#     train = pd.merge(train, gby, how='left', left_on=gby_col, right_index=True)\n",
    "#     test = pd.merge(test, gby, how='left', left_on=gby_col, right_index=True)"
   ]
  },
  {
   "cell_type": "markdown",
   "id": "6b795e7f",
   "metadata": {},
   "source": [
    "#### metro and city features"
   ]
  },
  {
   "cell_type": "code",
   "execution_count": 105,
   "id": "3ce20c5f",
   "metadata": {},
   "outputs": [],
   "source": [
    "from functools import partial\n",
    "\n",
    "def find_nearest_features(point, gstations=None):\n",
    "    point_geo = point.geometry\n",
    "    distances = gstations.geometry.distance(point_geo)\n",
    "    ind = distances.idxmin()\n",
    "    point['nearest_metro_distance'] = distances[ind]\n",
    "    # point['city_name'] = gstations.loc[ind, 'city']\n",
    "    point['nearest_metro_name'] = gstations.loc[ind, 'name']\n",
    "    return point"
   ]
  },
  {
   "cell_type": "code",
   "execution_count": 13,
   "id": "b5bda58b",
   "metadata": {},
   "outputs": [
    {
     "data": {
      "text/plain": [
       "<module 'pandas' from 'C:\\\\Users\\\\Mi\\\\AppData\\\\Roaming\\\\Python\\\\Python311\\\\site-packages\\\\pandas\\\\__init__.py'>"
      ]
     },
     "execution_count": 13,
     "metadata": {},
     "output_type": "execute_result"
    }
   ],
   "source": [
    "pd "
   ]
  },
  {
   "cell_type": "code",
   "execution_count": 125,
   "id": "f369ad0d",
   "metadata": {},
   "outputs": [
    {
     "data": {
      "text/plain": [
       "array([19, 39, 59, 79])"
      ]
     },
     "execution_count": 125,
     "metadata": {},
     "output_type": "execute_result"
    }
   ],
   "source": [
    "pd.cut([1, 2, 3, 4], np.linspace(0, 5, 100), labels=np.arange(99)).fillna(0).astype(int)"
   ]
  },
  {
   "cell_type": "markdown",
   "id": "a03a8af5",
   "metadata": {},
   "source": [
    "### Text features"
   ]
  },
  {
   "cell_type": "code",
   "execution_count": 13,
   "id": "838b95b7-35cf-415b-af77-b9f7b13fe7c8",
   "metadata": {},
   "outputs": [],
   "source": [
    "def generate_text_features(df, text_columns):\n",
    "\n",
    "    def count_mean_length(x):\n",
    "        words_lens = [len(w) for w in x.split(\" \")]\n",
    "        return sum(words_lens) / len(words_lens)\n",
    "    \n",
    "    for text_col in text_columns:\n",
    "\n",
    "        df[f'{text_col}_num_letters'] = df[f'{text_col}'].parallel_apply(lambda x: len(x))\n",
    "        df[f'{text_col}_num_words'] = df[f'{text_col}'].parallel_apply(lambda x: len(x.split(\" \")))\n",
    "        df[f'{text_col}_mean_word_length'] = df[f'{text_col}'].parallel_apply(count_mean_length)\n",
    "\n",
    "    return df"
   ]
  },
  {
   "cell_type": "code",
   "execution_count": null,
   "id": "9a4ef014-fcf3-4544-aaa4-f697311da7a0",
   "metadata": {},
   "outputs": [],
   "source": [
    "# videos = generate_text_features(videos, ['title', 'description'])"
   ]
  },
  {
   "cell_type": "markdown",
   "id": "9e9f822d",
   "metadata": {},
   "source": [
    "### Ts features"
   ]
  },
  {
   "cell_type": "code",
   "execution_count": 14,
   "id": "4580684c-a314-44d5-854b-04438b081a01",
   "metadata": {},
   "outputs": [],
   "source": [
    "#ts features\n",
    "def extract_ts_features(df, target_columns, time_col, id_col, window_size=None, param_type=\"min\"):\n",
    "    # params EfficientFCParameters works for feature count <= 5\n",
    "    # params MinimalFCParameters works for every feature count\n",
    "\n",
    "    target_df = df.loc[:, target_columns + [id_col, time_col]]\n",
    "\n",
    "    del df\n",
    "    gc.collect()\n",
    "\n",
    "    extracted_df_features = extract_features(\n",
    "        target_df,\n",
    "        column_id=id_col,\n",
    "        column_sort=time_col,\n",
    "        n_jobs=6,\n",
    "        default_fc_parameters=(MinimalFCParameters() if param_type==\"min\" else EfficientFCParameters())\n",
    "    )\n",
    "\n",
    "    return extracted_df_features\n",
    "\n",
    "# Sort the data\n",
    "def add_shifted_features(df, sort_index, id_col, target_columns=[], lags=[1]):\n",
    "\n",
    "  df = df.sort_values(by=sort_index).reset_index(drop=True)\n",
    "\n",
    "  def add_lagged_features(group, lags, target_column):\n",
    "      for lag in lags:\n",
    "          group[f'{target_column}_lag_{lag}'] = group[target_column].shift(lag)\n",
    "      return group\n",
    "\n",
    "  new_features = []\n",
    "\n",
    "  for target_column in tqdm(target_columns):\n",
    "\n",
    "    grouped_data_df = df.groupby(id_col)[target_columns].apply(\n",
    "        add_lagged_features,\n",
    "        lags=lags,\n",
    "        target_column=target_column\n",
    "      )\n",
    "\n",
    "    new_features_target_col = [f'{target_column}_lag_{lag}' for lag in lags]\n",
    "\n",
    "    df.loc[:, new_features_target_col] = df[new_features_target_col]\n",
    "\n",
    "    new_features.extend(new_features_target_col)\n",
    "\n",
    "  return df, new_features\n",
    "\n",
    "def applyftt(df, timestamp_column, target_column, plot=False):\n",
    "  \n",
    "    df = df.copy()\n",
    "    \n",
    "    df.sort_values(by=timestamp_column, inplace=True)\n",
    "    df.reset_index(drop=True, inplace=True)\n",
    "    \n",
    "    time = df[timestamp_column].values\n",
    "    timestep = np.mean(np.diff(time))\n",
    "    numeric_columns = df.select_dtypes(include=[np.number]).columns.drop([timestamp_column, target_column])\n",
    "    \n",
    "    def fft_transform(signal, timestep, plot_title=None):\n",
    "        n = len(signal)\n",
    "        fft_result = np.fft.fft(signal)\n",
    "        freq = np.fft.fftfreq(n, d=timestep)\n",
    "        amplitude = np.abs(fft_result)\n",
    "        \n",
    "        positive_freq = freq > 0\n",
    "        freq = freq[positive_freq]\n",
    "        amplitude = amplitude[positive_freq]\n",
    "        \n",
    "        return freq, amplitude\n",
    "\n",
    "    target_signal = df[target_column].values\n",
    "    freq, amplitude = fft_transform(target_signal, timestep, plot_title=target_column)\n",
    "\n",
    "    top_frequencies = freq[np.argsort(-amplitude)[:3]]\n",
    "    for i, f in enumerate(top_frequencies):\n",
    "        df[f'sin_freq_{i+1}'] = np.sin(2 * np.pi * f * df[timestamp_column])\n",
    "        df[f'cos_freq_{i+1}'] = np.cos(2 * np.pi * f * df[timestamp_column])\n",
    "    \n",
    "    for col in numeric_columns:\n",
    "        signal = df[col].values\n",
    "        _, amplitude = fft_transform(signal, timestep, plot_title=col)\n",
    "        df[f'{col}_max_fft_amp'] = amplitude.max()\n",
    "    \n",
    "    return df\n"
   ]
  },
  {
   "cell_type": "code",
   "execution_count": null,
   "id": "0b431256",
   "metadata": {},
   "outputs": [],
   "source": [
    "# train_feats = extract_ts_features(train, target_columns=list(videos.columns[2:12]), id_col='user_id', time_col='event_timestamp')\n",
    "# test_feats = extract_ts_features(test, target_columns=list(videos.columns[2:12]), id_col='user_id', time_col='event_timestamp')\n",
    "# train_feats = add_shifted_features(train, sort_index=['event_timestamp'], target_columns=list(videos.columns[2:3]), id_col='user_id')\n",
    "# test_feats = add_shifted_features(test, sort_index=['event_timestamp'], target_columns=list(videos.columns[2:3]), id_col='user_id')"
   ]
  },
  {
   "cell_type": "markdown",
   "id": "00ae7ef2",
   "metadata": {},
   "source": [
    "### Sampling smaller dataset"
   ]
  },
  {
   "cell_type": "code",
   "execution_count": 16,
   "id": "2e2e02a7-18f5-4a34-aabf-04db4121f358",
   "metadata": {},
   "outputs": [],
   "source": [
    "def sample_small_dataset(df, target, id_col, coefs_ = [1, 0.2]):\n",
    "  unique_pos = df[df[target] == 1][id_col].unique()\n",
    "  unique_neg = df[df[target] == 0][id_col].unique()\n",
    "\n",
    "  # set_seed_no_torch(SEED)\n",
    "  left_unique_pos = np.random.choice(unique_pos, size=int(len(unique_pos) * coefs_[0]), replace=False)\n",
    "  # set_seed_no_torch(SEED)\n",
    "  left_unique_neg = np.random.choice(unique_neg, size=int(len(unique_neg) * coefs_[1]), replace=False)\n",
    "\n",
    "  del unique_pos,  unique_neg\n",
    "  gc.collect()\n",
    "\n",
    "  sampled_df = df[df[id_col].isin(\n",
    "      list(left_unique_pos) + list(left_unique_neg)\n",
    "  )]\n",
    "\n",
    "  return sampled_df"
   ]
  },
  {
   "cell_type": "code",
   "execution_count": 25,
   "id": "85c8c4fc-1c21-4287-8629-50f1a1712c04",
   "metadata": {},
   "outputs": [],
   "source": [
    "train = sample_small_dataset(train, 'watchtime', 'user_id', coefs_=[1, 0.15])"
   ]
  },
  {
   "cell_type": "code",
   "execution_count": null,
   "id": "4f0487e2",
   "metadata": {},
   "outputs": [],
   "source": [
    "cpu_usage()"
   ]
  },
  {
   "cell_type": "markdown",
   "id": "8e45a1a5",
   "metadata": {},
   "source": [
    "### Functions for all features "
   ]
  },
  {
   "cell_type": "code",
   "execution_count": 15,
   "id": "ebaf4781-0796-46b8-9d37-82a6fdc658fd",
   "metadata": {},
   "outputs": [],
   "source": [
    "def generate_minimal_date_geo_features_v2(\n",
    "        df,\n",
    "        df2,\n",
    "        date_cols, \n",
    "        pois,\n",
    "        features2drop,\n",
    "        text_features=[],\n",
    "    ):\n",
    "    \n",
    "    #includes dates and some geo features\n",
    "    df.drop(columns=features2drop, inplace=True)\n",
    "    print('+Features dropped')\n",
    "\n",
    "    df = generate_date_features(df, date_cols)\n",
    "    print('+Times features generated')\n",
    "\n",
    "    df = generate_geo_features(df, pois)\n",
    "    print('+Base geo features generated')\n",
    "\n",
    "    df = pca_(df.fillna(0))\n",
    "    print('+Pca complited')\n",
    "\n",
    "    gdf = gpd.GeoDataFrame(df, geometry=gpd.points_from_xy(df.longitude, df.latitude), crs='EPSG:32633')\n",
    "    gdf2 = gpd.GeoDataFrame(df2, geometry=gpd.points_from_xy(df2.longitude, df2.latitude), crs='EPSG:32633')\n",
    "\n",
    "    #mean k nearest neighbors distances for train \n",
    "    # df['k_nearest_distance'] = gdf.geometry.apply(lambda geom: find_nearest_k(\n",
    "    #     geom, \n",
    "    #     gdf,\n",
    "    #     gdf2,\n",
    "    #     3\n",
    "    # ))\n",
    "\n",
    "    # df['nearest_distance'] = gdf.geometry.apply(lambda geom: find_nearest(\n",
    "    #     geom, \n",
    "    #     gdf,\n",
    "    #     gdf2\n",
    "    # ))\n",
    "\n",
    "    # print('+Distance features generated')\n",
    "\n",
    "    # df['density'] = compute_densities(gdf, gdf2)\n",
    "    # print('+Density features')\n",
    "\n",
    "    df['grid_x'], df['grid_y'], df['x_sphere'], df['y_sphere'] = \\\n",
    "        get_grid(gdf)\n",
    "    \n",
    "    df = get_grid_v2(df)\n",
    "    print('Grid features generated')\n",
    "    \n",
    "    if len(text_features) != 0:\n",
    "        df = generate_text_features(df, text_features)\n",
    "    \n",
    "    return df"
   ]
  },
  {
   "cell_type": "code",
   "execution_count": 16,
   "id": "cba141f6",
   "metadata": {},
   "outputs": [],
   "source": [
    "def generate_minimal_date_geo_features(\n",
    "        df,\n",
    "        df2,\n",
    "        date_cols, \n",
    "        pois,\n",
    "        features2drop,\n",
    "    ):\n",
    "    \n",
    "    #includes dates and some geo features\n",
    "    df.drop(columns=features2drop, inplace=True)\n",
    "    print('+Features dropped')\n",
    "\n",
    "    df = generate_date_features(df, date_cols)\n",
    "    print('+Times features generated')\n",
    "\n",
    "    df = generate_geo_features(df, pois)\n",
    "    print('+Base geo features generated')\n",
    "\n",
    "    df = pca_(df.fillna(0))\n",
    "    print('+Pca complited')\n",
    "\n",
    "    gdf = gpd.GeoDataFrame(df, geometry=gpd.points_from_xy(df.longitude, df.latitude), crs='EPSG:4326').to_crs(epsg=3857)\n",
    "    gdf2 = gpd.GeoDataFrame(df2, geometry=gpd.points_from_xy(df2.longitude, df2.latitude), crs='EPSG:4326').to_crs(epsg=3857)\n",
    "\n",
    "    #mean k nearest neighbors distances for train \n",
    "    # df['k_nearest_distance'] = gdf.geometry.apply(lambda geom: find_nearest_k(\n",
    "    #     geom, \n",
    "    #     gdf,\n",
    "    #     gdf2,\n",
    "    #     3\n",
    "    # ))\n",
    "\n",
    "    # df['nearest_distance'] = gdf.geometry.apply(lambda geom: find_nearest(\n",
    "    #     geom, \n",
    "    #     gdf,\n",
    "    #     gdf2\n",
    "    # ))\n",
    "\n",
    "    print('+Distance features generated')\n",
    "\n",
    "    return df"
   ]
  },
  {
   "cell_type": "markdown",
   "id": "a364aa9b",
   "metadata": {},
   "source": [
    "### generating features"
   ]
  },
  {
   "cell_type": "code",
   "execution_count": 17,
   "id": "a17d3d6f",
   "metadata": {},
   "outputs": [],
   "source": [
    "df_train = pd.read_csv('train.csv/train.csv', chunksize=1e6)\n",
    "all_coords_test = pd.read_csv('test (1).csv', usecols=['pickup_latitude', 'pickup_longitude']).rename({'pickup_latitude': 'latitude', 'pickup_longitude' : 'longitude'}, axis=1)"
   ]
  },
  {
   "cell_type": "code",
   "execution_count": 18,
   "id": "f25a0412",
   "metadata": {},
   "outputs": [],
   "source": [
    "all_coords_train = pd.read_csv('train.csv/train.csv', usecols=['pickup_latitude', 'pickup_longitude'], engine='pyarrow').rename({'pickup_latitude': 'latitude', 'pickup_longitude' : 'longitude'}, axis=1)"
   ]
  },
  {
   "cell_type": "code",
   "execution_count": 19,
   "id": "670c1837",
   "metadata": {},
   "outputs": [],
   "source": [
    "make_grid = False\n",
    "if make_grid:\n",
    "    gdf_test = gpd.GeoDataFrame(\n",
    "        all_coords_test, \n",
    "        geometry=gpd.points_from_xy(\n",
    "            all_coords_test.longitude,\n",
    "            all_coords_test.latitude\n",
    "        ), \n",
    "        crs='EPSG:4326'\n",
    "    ).to_crs(epsg=3857)\n",
    "    gdf_train = gpd.GeoDataFrame(\n",
    "        all_coords_train, \n",
    "        geometry=gpd.points_from_xy(\n",
    "            all_coords_train.longitude, \n",
    "            all_coords_train.latitude\n",
    "        ), \n",
    "        crs='EPSG:4326'\n",
    "    ).to_crs(epsg=3857)"
   ]
  },
  {
   "cell_type": "code",
   "execution_count": 23,
   "id": "bf982d95",
   "metadata": {},
   "outputs": [],
   "source": [
    "if make_grid:\n",
    "    precomputed_grid = create_grid(\n",
    "        gdf_train.geometry,\n",
    "        shape='hexagon',\n",
    "        side_length=100,\n",
    "        proj='EPSG:3857'\n",
    "    )"
   ]
  },
  {
   "cell_type": "code",
   "execution_count": 25,
   "id": "2e689adb",
   "metadata": {},
   "outputs": [],
   "source": [
    "if vis := False:\n",
    "    visualize(metro_stations)"
   ]
  },
  {
   "cell_type": "code",
   "execution_count": 20,
   "id": "c56bf4b4",
   "metadata": {},
   "outputs": [],
   "source": [
    "def visualize_grid(grid, dots):\n",
    "    # Create subplots\n",
    "    fig, ax = plt.subplots(1, 1, figsize = (10, 10))\n",
    "\n",
    "    # Plot data\n",
    "    dots.plot(ax = ax, marker = 'o', color = 'dodgerblue', markersize = 3)\n",
    "    grid.plot(ax = ax, color = 'none', edgecolor = 'lightseagreen', alpha = 0.55)\n",
    "\n",
    "    # Set title\n",
    "    ax.set_title('Grid with dots', fontdict = {'fontsize': '15', 'fontweight' : '3'})"
   ]
  },
  {
   "cell_type": "code",
   "execution_count": 21,
   "id": "1bd0a71e",
   "metadata": {},
   "outputs": [],
   "source": [
    "if make_grid:\n",
    "    visualize_grid(grid, gdf_train)"
   ]
  },
  {
   "cell_type": "code",
   "execution_count": 94,
   "id": "9a13d016",
   "metadata": {},
   "outputs": [],
   "source": [
    "#reading stations\n",
    "metro_stations = pd.read_csv('stations.csv', index_col='Unnamed: 0').rename(\n",
    "    {'lat' : 'latitude' , 'lng' : 'longitude'}, axis=1\n",
    ")\n",
    "metro_stations = gpd.GeoDataFrame(\n",
    "    metro_stations,\n",
    "    geometry=gpd.points_from_xy(metro_stations.longitude, metro_stations.latitude), \n",
    "    crs='EPSG:4326'\n",
    ").to_crs(epsg=3857)"
   ]
  },
  {
   "cell_type": "code",
   "execution_count": 89,
   "id": "98a88c19",
   "metadata": {},
   "outputs": [],
   "source": [
    "target_train = pd.read_csv('train.csv/train.csv',  usecols=['fare_amount'])"
   ]
  },
  {
   "cell_type": "code",
   "execution_count": null,
   "id": "08b7b689",
   "metadata": {},
   "outputs": [],
   "source": [
    "n_splits = 10 # \n",
    "skf = sklearn.StratifiedKFold(n_splits=10, shuffle=True, random_state=42)\n",
    "id = [[x] for x in range(len(target_train))]\n",
    "\n",
    "for _, chunk_index in skf.split(id, target_train):\n",
    "    df_chunk = pd.read_csv('train.csv/train.csv', skiprows=lambda x: x not in id)"
   ]
  },
  {
   "cell_type": "markdown",
   "id": "db176235",
   "metadata": {},
   "source": [
    "#### by chunk"
   ]
  },
  {
   "cell_type": "markdown",
   "id": "a5d0d530",
   "metadata": {},
   "source": [
    "можно использовать как для трейна так и для теста"
   ]
  },
  {
   "cell_type": "code",
   "execution_count": 18,
   "id": "a2f1e737",
   "metadata": {},
   "outputs": [
    {
     "name": "stdout",
     "output_type": "stream",
     "text": [
      "----------------------------------------------------------------------------------------------------\n",
      "Chunk 0\n",
      "Memory usage of dataframe is 17.17 MB\n",
      "Memory usage after optimization is: 11.21 MB\n",
      "Decreased by 34.7%\n",
      "+Features dropped\n",
      "+Times features generated\n",
      "+Base geo features generated\n",
      "+Pca complited\n",
      "Grid features generated\n",
      "----------------------------------------------------------------------------------------------------\n",
      "Chunk 1\n",
      "Memory usage of dataframe is 17.17 MB\n",
      "Memory usage after optimization is: 11.21 MB\n",
      "Decreased by 34.7%\n",
      "+Features dropped\n",
      "+Times features generated\n",
      "+Base geo features generated\n",
      "+Pca complited\n",
      "Grid features generated\n",
      "----------------------------------------------------------------------------------------------------\n",
      "Chunk 2\n",
      "Memory usage of dataframe is 17.17 MB\n",
      "Memory usage after optimization is: 11.21 MB\n",
      "Decreased by 34.7%\n",
      "+Features dropped\n"
     ]
    },
    {
     "ename": "KeyboardInterrupt",
     "evalue": "",
     "output_type": "error",
     "traceback": [
      "\u001b[1;31m---------------------------------------------------------------------------\u001b[0m",
      "\u001b[1;31mKeyboardInterrupt\u001b[0m                         Traceback (most recent call last)",
      "Cell \u001b[1;32mIn[18], line 15\u001b[0m\n\u001b[0;32m     13\u001b[0m chunk \u001b[38;5;241m=\u001b[39m chunk[(chunk\u001b[38;5;241m.\u001b[39mlongitude \u001b[38;5;241m>\u001b[39m chunk\u001b[38;5;241m.\u001b[39mlongitude\u001b[38;5;241m.\u001b[39mquantile(\u001b[38;5;241m0.01\u001b[39m)) \u001b[38;5;241m&\u001b[39m (chunk\u001b[38;5;241m.\u001b[39mlongitude \u001b[38;5;241m<\u001b[39m chunk\u001b[38;5;241m.\u001b[39mlongitude\u001b[38;5;241m.\u001b[39mquantile(\u001b[38;5;241m0.99\u001b[39m))]\n\u001b[0;32m     14\u001b[0m chunk \u001b[38;5;241m=\u001b[39m chunk[(chunk\u001b[38;5;241m.\u001b[39mlatitude \u001b[38;5;241m>\u001b[39m chunk\u001b[38;5;241m.\u001b[39mlatitude\u001b[38;5;241m.\u001b[39mquantile(\u001b[38;5;241m0.01\u001b[39m)) \u001b[38;5;241m&\u001b[39m (chunk\u001b[38;5;241m.\u001b[39mlatitude \u001b[38;5;241m<\u001b[39m chunk\u001b[38;5;241m.\u001b[39mlatitude\u001b[38;5;241m.\u001b[39mquantile(\u001b[38;5;241m0.99\u001b[39m))]\n\u001b[1;32m---> 15\u001b[0m chunk \u001b[38;5;241m=\u001b[39m generate_minimal_date_geo_features_v2(\n\u001b[0;32m     16\u001b[0m     chunk\u001b[38;5;241m.\u001b[39mfillna(\u001b[38;5;241m0\u001b[39m),\n\u001b[0;32m     17\u001b[0m     all_coords_test\u001b[38;5;241m.\u001b[39mfillna(\u001b[38;5;241m0\u001b[39m),\n\u001b[0;32m     18\u001b[0m     \u001b[38;5;66;03m# all_coords_train.fillna(0),\u001b[39;00m\n\u001b[0;32m     19\u001b[0m     date_cols\u001b[38;5;241m=\u001b[39m[\u001b[38;5;124m'\u001b[39m\u001b[38;5;124mkey\u001b[39m\u001b[38;5;124m'\u001b[39m],\n\u001b[0;32m     20\u001b[0m     pois\u001b[38;5;241m=\u001b[39m[],\n\u001b[0;32m     21\u001b[0m     features2drop\u001b[38;5;241m=\u001b[39m[]\n\u001b[0;32m     22\u001b[0m )\n\u001b[0;32m     23\u001b[0m \u001b[38;5;66;03m#merging stations\u001b[39;00m\n\u001b[0;32m     24\u001b[0m all_dfs\u001b[38;5;241m.\u001b[39mappend(chunk)\n",
      "Cell \u001b[1;32mIn[15], line 14\u001b[0m, in \u001b[0;36mgenerate_minimal_date_geo_features_v2\u001b[1;34m(df, df2, date_cols, pois, features2drop, text_features)\u001b[0m\n\u001b[0;32m     11\u001b[0m df\u001b[38;5;241m.\u001b[39mdrop(columns\u001b[38;5;241m=\u001b[39mfeatures2drop, inplace\u001b[38;5;241m=\u001b[39m\u001b[38;5;28;01mTrue\u001b[39;00m)\n\u001b[0;32m     12\u001b[0m \u001b[38;5;28mprint\u001b[39m(\u001b[38;5;124m'\u001b[39m\u001b[38;5;124m+Features dropped\u001b[39m\u001b[38;5;124m'\u001b[39m)\n\u001b[1;32m---> 14\u001b[0m df \u001b[38;5;241m=\u001b[39m generate_date_features(df, date_cols)\n\u001b[0;32m     15\u001b[0m \u001b[38;5;28mprint\u001b[39m(\u001b[38;5;124m'\u001b[39m\u001b[38;5;124m+Times features generated\u001b[39m\u001b[38;5;124m'\u001b[39m)\n\u001b[0;32m     17\u001b[0m df \u001b[38;5;241m=\u001b[39m generate_geo_features(df, pois)\n",
      "Cell \u001b[1;32mIn[4], line 12\u001b[0m, in \u001b[0;36mgenerate_date_features\u001b[1;34m(df, date_cols)\u001b[0m\n\u001b[0;32m     10\u001b[0m df[\u001b[38;5;124mf\u001b[39m\u001b[38;5;124m'\u001b[39m\u001b[38;5;132;01m{\u001b[39;00mdate_col\u001b[38;5;132;01m}\u001b[39;00m\u001b[38;5;124m_day\u001b[39m\u001b[38;5;124m'\u001b[39m] \u001b[38;5;241m=\u001b[39m df[date_col]\u001b[38;5;241m.\u001b[39mdt\u001b[38;5;241m.\u001b[39mday\n\u001b[0;32m     11\u001b[0m df[\u001b[38;5;124mf\u001b[39m\u001b[38;5;124m'\u001b[39m\u001b[38;5;132;01m{\u001b[39;00mdate_col\u001b[38;5;132;01m}\u001b[39;00m\u001b[38;5;124m_day_of_week\u001b[39m\u001b[38;5;124m'\u001b[39m] \u001b[38;5;241m=\u001b[39m df[date_col]\u001b[38;5;241m.\u001b[39mdt\u001b[38;5;241m.\u001b[39mdayofweek\n\u001b[1;32m---> 12\u001b[0m df[\u001b[38;5;124mf\u001b[39m\u001b[38;5;124m'\u001b[39m\u001b[38;5;132;01m{\u001b[39;00mdate_col\u001b[38;5;132;01m}\u001b[39;00m\u001b[38;5;124m_hour\u001b[39m\u001b[38;5;124m'\u001b[39m] \u001b[38;5;241m=\u001b[39m df[date_col]\u001b[38;5;241m.\u001b[39mdt\u001b[38;5;241m.\u001b[39mhour\n\u001b[0;32m     13\u001b[0m df[\u001b[38;5;124mf\u001b[39m\u001b[38;5;124m'\u001b[39m\u001b[38;5;132;01m{\u001b[39;00mdate_col\u001b[38;5;132;01m}\u001b[39;00m\u001b[38;5;124m_hour_weekofyear\u001b[39m\u001b[38;5;124m'\u001b[39m] \u001b[38;5;241m=\u001b[39m df[date_col]\u001b[38;5;241m.\u001b[39mapply(\u001b[38;5;28;01mlambda\u001b[39;00m x : x\u001b[38;5;241m.\u001b[39mweekofyear)\n\u001b[0;32m     14\u001b[0m df[\u001b[38;5;124mf\u001b[39m\u001b[38;5;124m'\u001b[39m\u001b[38;5;132;01m{\u001b[39;00mdate_col\u001b[38;5;132;01m}\u001b[39;00m\u001b[38;5;124m_week_hour\u001b[39m\u001b[38;5;124m'\u001b[39m] \u001b[38;5;241m=\u001b[39m df[\u001b[38;5;124mf\u001b[39m\u001b[38;5;124m'\u001b[39m\u001b[38;5;132;01m{\u001b[39;00mdate_col\u001b[38;5;132;01m}\u001b[39;00m\u001b[38;5;124m_day_of_week\u001b[39m\u001b[38;5;124m'\u001b[39m] \u001b[38;5;241m*\u001b[39m \u001b[38;5;241m24\u001b[39m \u001b[38;5;241m+\u001b[39m df[\u001b[38;5;124mf\u001b[39m\u001b[38;5;124m'\u001b[39m\u001b[38;5;132;01m{\u001b[39;00mdate_col\u001b[38;5;132;01m}\u001b[39;00m\u001b[38;5;124m_hour\u001b[39m\u001b[38;5;124m'\u001b[39m]\n",
      "File \u001b[1;32m~\\AppData\\Roaming\\Python\\Python311\\site-packages\\pandas\\core\\accessor.py:96\u001b[0m, in \u001b[0;36mPandasDelegate._add_delegate_accessors.<locals>._create_delegator_property.<locals>._getter\u001b[1;34m(self)\u001b[0m\n\u001b[0;32m     95\u001b[0m \u001b[38;5;28;01mdef\u001b[39;00m \u001b[38;5;21m_getter\u001b[39m(\u001b[38;5;28mself\u001b[39m):\n\u001b[1;32m---> 96\u001b[0m     \u001b[38;5;28;01mreturn\u001b[39;00m \u001b[38;5;28mself\u001b[39m\u001b[38;5;241m.\u001b[39m_delegate_property_get(name)\n",
      "File \u001b[1;32m~\\AppData\\Roaming\\Python\\Python311\\site-packages\\pandas\\core\\indexes\\accessors.py:93\u001b[0m, in \u001b[0;36mProperties._delegate_property_get\u001b[1;34m(self, name)\u001b[0m\n\u001b[0;32m     89\u001b[0m \u001b[38;5;28;01mfrom\u001b[39;00m \u001b[38;5;21;01mpandas\u001b[39;00m \u001b[38;5;28;01mimport\u001b[39;00m Series\n\u001b[0;32m     91\u001b[0m values \u001b[38;5;241m=\u001b[39m \u001b[38;5;28mself\u001b[39m\u001b[38;5;241m.\u001b[39m_get_values()\n\u001b[1;32m---> 93\u001b[0m result \u001b[38;5;241m=\u001b[39m \u001b[38;5;28mgetattr\u001b[39m(values, name)\n\u001b[0;32m     95\u001b[0m \u001b[38;5;66;03m# maybe need to upcast (ints)\u001b[39;00m\n\u001b[0;32m     96\u001b[0m \u001b[38;5;28;01mif\u001b[39;00m \u001b[38;5;28misinstance\u001b[39m(result, np\u001b[38;5;241m.\u001b[39mndarray):\n",
      "File \u001b[1;32m~\\AppData\\Roaming\\Python\\Python311\\site-packages\\pandas\\core\\indexes\\extension.py:68\u001b[0m, in \u001b[0;36m_inherit_from_data.<locals>.fget\u001b[1;34m(self)\u001b[0m\n\u001b[0;32m     67\u001b[0m \u001b[38;5;28;01mdef\u001b[39;00m \u001b[38;5;21mfget\u001b[39m(\u001b[38;5;28mself\u001b[39m):\n\u001b[1;32m---> 68\u001b[0m     result \u001b[38;5;241m=\u001b[39m \u001b[38;5;28mgetattr\u001b[39m(\u001b[38;5;28mself\u001b[39m\u001b[38;5;241m.\u001b[39m_data, name)\n\u001b[0;32m     69\u001b[0m     \u001b[38;5;28;01mif\u001b[39;00m wrap:\n\u001b[0;32m     70\u001b[0m         \u001b[38;5;28;01mif\u001b[39;00m \u001b[38;5;28misinstance\u001b[39m(result, \u001b[38;5;28mtype\u001b[39m(\u001b[38;5;28mself\u001b[39m\u001b[38;5;241m.\u001b[39m_data)):\n",
      "File \u001b[1;32m~\\AppData\\Roaming\\Python\\Python311\\site-packages\\pandas\\core\\arrays\\datetimes.py:152\u001b[0m, in \u001b[0;36m_field_accessor.<locals>.f\u001b[1;34m(self)\u001b[0m\n\u001b[0;32m    149\u001b[0m     result \u001b[38;5;241m=\u001b[39m \u001b[38;5;28mself\u001b[39m\u001b[38;5;241m.\u001b[39m_maybe_mask_results(result, fill_value\u001b[38;5;241m=\u001b[39m\u001b[38;5;28;01mNone\u001b[39;00m)\n\u001b[0;32m    151\u001b[0m \u001b[38;5;28;01melse\u001b[39;00m:\n\u001b[1;32m--> 152\u001b[0m     result \u001b[38;5;241m=\u001b[39m fields\u001b[38;5;241m.\u001b[39mget_date_field(values, field, reso\u001b[38;5;241m=\u001b[39m\u001b[38;5;28mself\u001b[39m\u001b[38;5;241m.\u001b[39m_creso)\n\u001b[0;32m    153\u001b[0m     result \u001b[38;5;241m=\u001b[39m \u001b[38;5;28mself\u001b[39m\u001b[38;5;241m.\u001b[39m_maybe_mask_results(\n\u001b[0;32m    154\u001b[0m         result, fill_value\u001b[38;5;241m=\u001b[39m\u001b[38;5;28;01mNone\u001b[39;00m, convert\u001b[38;5;241m=\u001b[39m\u001b[38;5;124m\"\u001b[39m\u001b[38;5;124mfloat64\u001b[39m\u001b[38;5;124m\"\u001b[39m\n\u001b[0;32m    155\u001b[0m     )\n\u001b[0;32m    157\u001b[0m \u001b[38;5;28;01mreturn\u001b[39;00m result\n",
      "\u001b[1;31mKeyboardInterrupt\u001b[0m: "
     ]
    }
   ],
   "source": [
    "all_dfs = []\n",
    "\n",
    "# actual_grid = gdf.sjoin(grid, how = \"inner\", predicate = \"intersects\")\n",
    "\n",
    "for i, chunk in enumerate(df_train) :#df_test):\n",
    "    print(f'{\"-\"*100}')\n",
    "    print(\"Chunk \" + str(i))\n",
    "    chunk.rename({'pickup_latitude': 'latitude', 'pickup_longitude' : 'longitude'}, axis=1, inplace=True)\n",
    "    all_coords_test.rename({'pickup_latitude': 'latitude', 'pickup_longitude' : 'longitude'}, axis=1, inplace=True)\n",
    "    chunk = chunk.sample(frac=0.25)\n",
    "    chunk = reduce_mem_usage(chunk)\n",
    "    chunk = base_coords_cleanup(chunk)\n",
    "    chunk = chunk[(chunk.longitude > chunk.longitude.quantile(0.01)) & (chunk.longitude < chunk.longitude.quantile(0.99))]\n",
    "    chunk = chunk[(chunk.latitude > chunk.latitude.quantile(0.01)) & (chunk.latitude < chunk.latitude.quantile(0.99))]\n",
    "    chunk = generate_minimal_date_geo_features_v2(\n",
    "        chunk.fillna(0),\n",
    "        all_coords_test.fillna(0),\n",
    "        # all_coords_train.fillna(0),\n",
    "        date_cols=['key'],\n",
    "        pois=[],\n",
    "        features2drop=[]\n",
    "    )\n",
    "    #merging stations\n",
    "    all_dfs.append(chunk)\n",
    "    # print(df['density'])"
   ]
  },
  {
   "cell_type": "code",
   "execution_count": 96,
   "id": "848dacb4",
   "metadata": {},
   "outputs": [],
   "source": [
    "fulldf = pd.concat(all_dfs).reset_index(drop=True)"
   ]
  },
  {
   "cell_type": "markdown",
   "id": "b4c6a571",
   "metadata": {},
   "source": [
    "#### all at once"
   ]
  },
  {
   "cell_type": "code",
   "execution_count": 77,
   "id": "0ce95985",
   "metadata": {},
   "outputs": [],
   "source": [
    "if load := True:\n",
    "    fulldf = pd.read_csv('test (1).csv') #change here to test and run to get test"
   ]
  },
  {
   "cell_type": "code",
   "execution_count": 62,
   "id": "c390ee9d",
   "metadata": {},
   "outputs": [
    {
     "name": "stdout",
     "output_type": "stream",
     "text": [
      "(['key', 'pickup_datetime'], [])\n"
     ]
    }
   ],
   "source": [
    "#we can load small size of it and check features\n",
    "cat_features = find_cat_features(fulldf)\n",
    "print(cat_features)"
   ]
  },
  {
   "cell_type": "code",
   "execution_count": 78,
   "id": "c0268cc8",
   "metadata": {},
   "outputs": [
    {
     "name": "stdout",
     "output_type": "stream",
     "text": [
      "Memory usage of dataframe is 0.53 MB\n",
      "Memory usage after optimization is: 0.35 MB\n",
      "Decreased by 33.9%\n"
     ]
    }
   ],
   "source": [
    "fulldf.rename({'pickup_latitude': 'latitude', 'pickup_longitude' : 'longitude'}, axis=1, inplace=True)\n",
    "fulldf = reduce_mem_usage(fulldf)"
   ]
  },
  {
   "cell_type": "code",
   "execution_count": null,
   "id": "c3ba79a7",
   "metadata": {},
   "outputs": [],
   "source": [
    "#checking nas\n",
    "isna_stat = train.isna().sum()[train.isna().sum() > 0]\n",
    "features2drop = [col for col in isna_stat.index if isna_stat[col] > (train.shape[0] * (4.5/5))]\n",
    "\n",
    "train.drop(columns=features2drop, inplace=True)\n",
    "test.drop(columns=features2drop, inplace=True)\n",
    "\n",
    "train, test = fillnas(train, [col for col in train.columns if col != 'watchtime'], cat_features[0], test)"
   ]
  },
  {
   "cell_type": "code",
   "execution_count": 79,
   "id": "ecce5a1f",
   "metadata": {},
   "outputs": [],
   "source": [
    "fulldf = base_coords_cleanup(fulldf)"
   ]
  },
  {
   "cell_type": "code",
   "execution_count": 69,
   "id": "74df90a0",
   "metadata": {},
   "outputs": [
    {
     "ename": "NameError",
     "evalue": "name 'features2drop' is not defined",
     "output_type": "error",
     "traceback": [
      "\u001b[1;31m---------------------------------------------------------------------------\u001b[0m",
      "\u001b[1;31mNameError\u001b[0m                                 Traceback (most recent call last)",
      "Cell \u001b[1;32mIn[69], line 1\u001b[0m\n\u001b[1;32m----> 1\u001b[0m fulldf\u001b[38;5;241m.\u001b[39mdrop(columns\u001b[38;5;241m=\u001b[39mfeatures2drop, inplace\u001b[38;5;241m=\u001b[39m\u001b[38;5;28;01mTrue\u001b[39;00m)\n\u001b[0;32m      2\u001b[0m \u001b[38;5;28mprint\u001b[39m(\u001b[38;5;124m'\u001b[39m\u001b[38;5;124m+Features dropped\u001b[39m\u001b[38;5;124m'\u001b[39m)\n",
      "\u001b[1;31mNameError\u001b[0m: name 'features2drop' is not defined"
     ]
    }
   ],
   "source": [
    "fulldf.drop(columns=features2drop, inplace=True)\n",
    "print('+Features dropped')"
   ]
  },
  {
   "cell_type": "code",
   "execution_count": 80,
   "id": "8ec3a569",
   "metadata": {},
   "outputs": [
    {
     "name": "stdout",
     "output_type": "stream",
     "text": [
      "+Times features generated\n"
     ]
    }
   ],
   "source": [
    "fulldf = generate_date_features(fulldf, ['key'])\n",
    "print('+Times features generated')"
   ]
  },
  {
   "cell_type": "code",
   "execution_count": 81,
   "id": "39155174",
   "metadata": {},
   "outputs": [
    {
     "name": "stdout",
     "output_type": "stream",
     "text": [
      "+Base geo features generated\n"
     ]
    }
   ],
   "source": [
    "fulldf = generate_geo_features(fulldf, [])\n",
    "print('+Base geo features generated')"
   ]
  },
  {
   "cell_type": "code",
   "execution_count": 82,
   "id": "edd3b468",
   "metadata": {},
   "outputs": [
    {
     "name": "stdout",
     "output_type": "stream",
     "text": [
      "+Pca complited\n"
     ]
    }
   ],
   "source": [
    "fulldf = pca_(fulldf.fillna(0))\n",
    "print('+Pca complited')"
   ]
  },
  {
   "cell_type": "code",
   "execution_count": 83,
   "id": "ff2c4f89",
   "metadata": {},
   "outputs": [],
   "source": [
    "gdf = gpd.GeoDataFrame(fulldf, geometry=gpd.points_from_xy(fulldf.longitude, fulldf.latitude), crs='EPSG:32633')"
   ]
  },
  {
   "cell_type": "code",
   "execution_count": 84,
   "id": "5c6dd77a",
   "metadata": {},
   "outputs": [],
   "source": [
    "fulldf['grid_x'], fulldf['grid_y'], fulldf['x_sphere'], fulldf['y_sphere'] = get_grid(gdf)"
   ]
  },
  {
   "cell_type": "code",
   "execution_count": 120,
   "id": "b8470f6a",
   "metadata": {},
   "outputs": [],
   "source": [
    "fulldf = get_grid_v2(fulldf)"
   ]
  },
  {
   "cell_type": "markdown",
   "id": "0d160e27",
   "metadata": {},
   "source": [
    "### Adding metro and cities features"
   ]
  },
  {
   "cell_type": "code",
   "execution_count": 97,
   "id": "9d415f99",
   "metadata": {},
   "outputs": [
    {
     "name": "stdout",
     "output_type": "stream",
     "text": [
      "1\n"
     ]
    },
    {
     "data": {
      "application/vnd.jupyter.widget-view+json": {
       "model_id": "b722f9b1912b4ffd97947a378151325d",
       "version_major": 2,
       "version_minor": 0
      },
      "text/plain": [
       "VBox(children=(HBox(children=(IntProgress(value=0, description='0.00%', max=117781), Label(value='0 / 117781')…"
      ]
     },
     "metadata": {},
     "output_type": "display_data"
    },
    {
     "name": "stdout",
     "output_type": "stream",
     "text": [
      "2\n"
     ]
    }
   ],
   "source": [
    "full_gpd = gpd.GeoDataFrame(fulldf.iloc[:, 0], geometry=gpd.points_from_xy(fulldf.longitude, fulldf.latitude), crs='EPSG:4326').to_crs(epsg=3857)\n",
    "print(1)\n",
    "full_gpd = full_gpd.parallel_apply(partial(find_nearest_features, gstations=metro_stations), axis=1)\n",
    "print(2)"
   ]
  },
  {
   "cell_type": "code",
   "execution_count": 121,
   "id": "6d3eea1f",
   "metadata": {},
   "outputs": [],
   "source": [
    "fulldf = pd.concat([\n",
    "    fulldf,\n",
    "    full_gpd[['nearest_metro_distance', 'nearest_metro_name']],\n",
    "], axis=1)"
   ]
  },
  {
   "cell_type": "code",
   "execution_count": 122,
   "id": "047ab398",
   "metadata": {},
   "outputs": [],
   "source": [
    "gpd_regions = gpd.read_parquet(\n",
    "    \"russia_cities.parquet\",\n",
    ").to_crs(epsg=3857)"
   ]
  },
  {
   "cell_type": "code",
   "execution_count": 123,
   "id": "24dd6a62",
   "metadata": {},
   "outputs": [],
   "source": [
    "def merge_places(point, gpd_regions):\n",
    "    try:\n",
    "        run_place_region = gpd_regions[gpd_regions.contains(point.geometry)][\"region\"].values[0]\n",
    "    except:\n",
    "        run_place_region = -1\n",
    "    return run_place_region"
   ]
  },
  {
   "cell_type": "code",
   "execution_count": 124,
   "id": "ebb4ba94",
   "metadata": {},
   "outputs": [
    {
     "data": {
      "application/vnd.jupyter.widget-view+json": {
       "model_id": "112cec6f1cba4e5aaf445bf7838d33a3",
       "version_major": 2,
       "version_minor": 0
      },
      "text/plain": [
       "VBox(children=(HBox(children=(IntProgress(value=0, description='0.00%', max=117781), Label(value='0 / 117781')…"
      ]
     },
     "metadata": {},
     "output_type": "display_data"
    }
   ],
   "source": [
    "fulldf['point_city'] = full_gpd.parallel_apply(\n",
    "    partial(merge_places, gpd_regions=gpd_regions), axis=1\n",
    ")"
   ]
  },
  {
   "cell_type": "code",
   "execution_count": 125,
   "id": "72970d4a",
   "metadata": {},
   "outputs": [
    {
     "data": {
      "text/html": [
       "<div>\n",
       "<style scoped>\n",
       "    .dataframe tbody tr th:only-of-type {\n",
       "        vertical-align: middle;\n",
       "    }\n",
       "\n",
       "    .dataframe tbody tr th {\n",
       "        vertical-align: top;\n",
       "    }\n",
       "\n",
       "    .dataframe thead th {\n",
       "        text-align: right;\n",
       "    }\n",
       "</style>\n",
       "<table border=\"1\" class=\"dataframe\">\n",
       "  <thead>\n",
       "    <tr style=\"text-align: right;\">\n",
       "      <th></th>\n",
       "      <th>key</th>\n",
       "      <th>fare_amount</th>\n",
       "      <th>pickup_datetime</th>\n",
       "      <th>longitude</th>\n",
       "      <th>latitude</th>\n",
       "      <th>dropoff_longitude</th>\n",
       "      <th>dropoff_latitude</th>\n",
       "      <th>passenger_count</th>\n",
       "      <th>key_year</th>\n",
       "      <th>key_month</th>\n",
       "      <th>...</th>\n",
       "      <th>lat_bin</th>\n",
       "      <th>lon_bin</th>\n",
       "      <th>grid_bin</th>\n",
       "      <th>nearest_metro_distance</th>\n",
       "      <th>nearest_metro_name</th>\n",
       "      <th>point_city</th>\n",
       "      <th>nearest_metro_distance</th>\n",
       "      <th>nearest_metro_name</th>\n",
       "      <th>nearest_metro_distance</th>\n",
       "      <th>nearest_metro_name</th>\n",
       "    </tr>\n",
       "  </thead>\n",
       "  <tbody>\n",
       "    <tr>\n",
       "      <th>0</th>\n",
       "      <td>1.407587e+09</td>\n",
       "      <td>7.5</td>\n",
       "      <td>2014-08-09 12:29:12 UTC</td>\n",
       "      <td>-73.978081</td>\n",
       "      <td>40.777408</td>\n",
       "      <td>-74.0000</td>\n",
       "      <td>40.7500</td>\n",
       "      <td>1.0</td>\n",
       "      <td>2014.0</td>\n",
       "      <td>8.0</td>\n",
       "      <td>...</td>\n",
       "      <td>76</td>\n",
       "      <td>15</td>\n",
       "      <td>1576</td>\n",
       "      <td>NaN</td>\n",
       "      <td>NaN</td>\n",
       "      <td>-1</td>\n",
       "      <td>8.804438e+06</td>\n",
       "      <td>Фабричная</td>\n",
       "      <td>8.804438e+06</td>\n",
       "      <td>Фабричная</td>\n",
       "    </tr>\n",
       "    <tr>\n",
       "      <th>1</th>\n",
       "      <td>1.259931e+09</td>\n",
       "      <td>4.5</td>\n",
       "      <td>2009-12-04 12:47:00 UTC</td>\n",
       "      <td>-73.986597</td>\n",
       "      <td>40.740457</td>\n",
       "      <td>-74.0000</td>\n",
       "      <td>40.7500</td>\n",
       "      <td>1.0</td>\n",
       "      <td>2009.0</td>\n",
       "      <td>12.0</td>\n",
       "      <td>...</td>\n",
       "      <td>49</td>\n",
       "      <td>12</td>\n",
       "      <td>1249</td>\n",
       "      <td>NaN</td>\n",
       "      <td>NaN</td>\n",
       "      <td>-1</td>\n",
       "      <td>8.806887e+06</td>\n",
       "      <td>Фабричная</td>\n",
       "      <td>8.806887e+06</td>\n",
       "      <td>Фабричная</td>\n",
       "    </tr>\n",
       "    <tr>\n",
       "      <th>2</th>\n",
       "      <td>1.407633e+09</td>\n",
       "      <td>17.5</td>\n",
       "      <td>2014-08-10 01:02:00 UTC</td>\n",
       "      <td>-73.984302</td>\n",
       "      <td>40.755002</td>\n",
       "      <td>-73.9375</td>\n",
       "      <td>40.7500</td>\n",
       "      <td>1.0</td>\n",
       "      <td>2014.0</td>\n",
       "      <td>8.0</td>\n",
       "      <td>...</td>\n",
       "      <td>60</td>\n",
       "      <td>13</td>\n",
       "      <td>1360</td>\n",
       "      <td>NaN</td>\n",
       "      <td>NaN</td>\n",
       "      <td>-1</td>\n",
       "      <td>8.806036e+06</td>\n",
       "      <td>Фабричная</td>\n",
       "      <td>8.806036e+06</td>\n",
       "      <td>Фабричная</td>\n",
       "    </tr>\n",
       "    <tr>\n",
       "      <th>3</th>\n",
       "      <td>1.403509e+09</td>\n",
       "      <td>43.5</td>\n",
       "      <td>2014-06-23 07:41:06 UTC</td>\n",
       "      <td>-73.920495</td>\n",
       "      <td>40.743618</td>\n",
       "      <td>-73.8750</td>\n",
       "      <td>40.8750</td>\n",
       "      <td>1.0</td>\n",
       "      <td>2014.0</td>\n",
       "      <td>6.0</td>\n",
       "      <td>...</td>\n",
       "      <td>51</td>\n",
       "      <td>40</td>\n",
       "      <td>4051</td>\n",
       "      <td>NaN</td>\n",
       "      <td>NaN</td>\n",
       "      <td>-1</td>\n",
       "      <td>8.799700e+06</td>\n",
       "      <td>Фабричная</td>\n",
       "      <td>8.799700e+06</td>\n",
       "      <td>Фабричная</td>\n",
       "    </tr>\n",
       "    <tr>\n",
       "      <th>4</th>\n",
       "      <td>1.289630e+09</td>\n",
       "      <td>14.5</td>\n",
       "      <td>2010-11-13 06:39:00 UTC</td>\n",
       "      <td>-73.985050</td>\n",
       "      <td>40.755372</td>\n",
       "      <td>-73.9375</td>\n",
       "      <td>40.8125</td>\n",
       "      <td>5.0</td>\n",
       "      <td>2010.0</td>\n",
       "      <td>11.0</td>\n",
       "      <td>...</td>\n",
       "      <td>60</td>\n",
       "      <td>12</td>\n",
       "      <td>1260</td>\n",
       "      <td>NaN</td>\n",
       "      <td>NaN</td>\n",
       "      <td>-1</td>\n",
       "      <td>8.806100e+06</td>\n",
       "      <td>Фабричная</td>\n",
       "      <td>8.806100e+06</td>\n",
       "      <td>Фабричная</td>\n",
       "    </tr>\n",
       "    <tr>\n",
       "      <th>...</th>\n",
       "      <td>...</td>\n",
       "      <td>...</td>\n",
       "      <td>...</td>\n",
       "      <td>...</td>\n",
       "      <td>...</td>\n",
       "      <td>...</td>\n",
       "      <td>...</td>\n",
       "      <td>...</td>\n",
       "      <td>...</td>\n",
       "      <td>...</td>\n",
       "      <td>...</td>\n",
       "      <td>...</td>\n",
       "      <td>...</td>\n",
       "      <td>...</td>\n",
       "      <td>...</td>\n",
       "      <td>...</td>\n",
       "      <td>...</td>\n",
       "      <td>...</td>\n",
       "      <td>...</td>\n",
       "      <td>...</td>\n",
       "      <td>...</td>\n",
       "    </tr>\n",
       "    <tr>\n",
       "      <th>471118</th>\n",
       "      <td>NaN</td>\n",
       "      <td>NaN</td>\n",
       "      <td>NaN</td>\n",
       "      <td>NaN</td>\n",
       "      <td>NaN</td>\n",
       "      <td>NaN</td>\n",
       "      <td>NaN</td>\n",
       "      <td>NaN</td>\n",
       "      <td>NaN</td>\n",
       "      <td>NaN</td>\n",
       "      <td>...</td>\n",
       "      <td>-1</td>\n",
       "      <td>-1</td>\n",
       "      <td>-1</td>\n",
       "      <td>8.800938e+06</td>\n",
       "      <td>Фабричная</td>\n",
       "      <td>-1</td>\n",
       "      <td>8.800938e+06</td>\n",
       "      <td>Фабричная</td>\n",
       "      <td>8.800938e+06</td>\n",
       "      <td>Фабричная</td>\n",
       "    </tr>\n",
       "    <tr>\n",
       "      <th>471119</th>\n",
       "      <td>NaN</td>\n",
       "      <td>NaN</td>\n",
       "      <td>NaN</td>\n",
       "      <td>NaN</td>\n",
       "      <td>NaN</td>\n",
       "      <td>NaN</td>\n",
       "      <td>NaN</td>\n",
       "      <td>NaN</td>\n",
       "      <td>NaN</td>\n",
       "      <td>NaN</td>\n",
       "      <td>...</td>\n",
       "      <td>-1</td>\n",
       "      <td>-1</td>\n",
       "      <td>-1</td>\n",
       "      <td>8.802556e+06</td>\n",
       "      <td>Фабричная</td>\n",
       "      <td>-1</td>\n",
       "      <td>8.802556e+06</td>\n",
       "      <td>Фабричная</td>\n",
       "      <td>8.802556e+06</td>\n",
       "      <td>Фабричная</td>\n",
       "    </tr>\n",
       "    <tr>\n",
       "      <th>471120</th>\n",
       "      <td>NaN</td>\n",
       "      <td>NaN</td>\n",
       "      <td>NaN</td>\n",
       "      <td>NaN</td>\n",
       "      <td>NaN</td>\n",
       "      <td>NaN</td>\n",
       "      <td>NaN</td>\n",
       "      <td>NaN</td>\n",
       "      <td>NaN</td>\n",
       "      <td>NaN</td>\n",
       "      <td>...</td>\n",
       "      <td>-1</td>\n",
       "      <td>-1</td>\n",
       "      <td>-1</td>\n",
       "      <td>8.804278e+06</td>\n",
       "      <td>Фабричная</td>\n",
       "      <td>-1</td>\n",
       "      <td>8.804278e+06</td>\n",
       "      <td>Фабричная</td>\n",
       "      <td>8.804278e+06</td>\n",
       "      <td>Фабричная</td>\n",
       "    </tr>\n",
       "    <tr>\n",
       "      <th>471121</th>\n",
       "      <td>NaN</td>\n",
       "      <td>NaN</td>\n",
       "      <td>NaN</td>\n",
       "      <td>NaN</td>\n",
       "      <td>NaN</td>\n",
       "      <td>NaN</td>\n",
       "      <td>NaN</td>\n",
       "      <td>NaN</td>\n",
       "      <td>NaN</td>\n",
       "      <td>NaN</td>\n",
       "      <td>...</td>\n",
       "      <td>-1</td>\n",
       "      <td>-1</td>\n",
       "      <td>-1</td>\n",
       "      <td>8.802193e+06</td>\n",
       "      <td>Фабричная</td>\n",
       "      <td>-1</td>\n",
       "      <td>8.802193e+06</td>\n",
       "      <td>Фабричная</td>\n",
       "      <td>8.802193e+06</td>\n",
       "      <td>Фабричная</td>\n",
       "    </tr>\n",
       "    <tr>\n",
       "      <th>471122</th>\n",
       "      <td>NaN</td>\n",
       "      <td>NaN</td>\n",
       "      <td>NaN</td>\n",
       "      <td>NaN</td>\n",
       "      <td>NaN</td>\n",
       "      <td>NaN</td>\n",
       "      <td>NaN</td>\n",
       "      <td>NaN</td>\n",
       "      <td>NaN</td>\n",
       "      <td>NaN</td>\n",
       "      <td>...</td>\n",
       "      <td>-1</td>\n",
       "      <td>-1</td>\n",
       "      <td>-1</td>\n",
       "      <td>8.806881e+06</td>\n",
       "      <td>Фабричная</td>\n",
       "      <td>-1</td>\n",
       "      <td>8.806881e+06</td>\n",
       "      <td>Фабричная</td>\n",
       "      <td>8.806881e+06</td>\n",
       "      <td>Фабричная</td>\n",
       "    </tr>\n",
       "  </tbody>\n",
       "</table>\n",
       "<p>942246 rows × 45 columns</p>\n",
       "</div>"
      ],
      "text/plain": [
       "                 key  fare_amount          pickup_datetime  longitude  \\\n",
       "0       1.407587e+09          7.5  2014-08-09 12:29:12 UTC -73.978081   \n",
       "1       1.259931e+09          4.5  2009-12-04 12:47:00 UTC -73.986597   \n",
       "2       1.407633e+09         17.5  2014-08-10 01:02:00 UTC -73.984302   \n",
       "3       1.403509e+09         43.5  2014-06-23 07:41:06 UTC -73.920495   \n",
       "4       1.289630e+09         14.5  2010-11-13 06:39:00 UTC -73.985050   \n",
       "...              ...          ...                      ...        ...   \n",
       "471118           NaN          NaN                      NaN        NaN   \n",
       "471119           NaN          NaN                      NaN        NaN   \n",
       "471120           NaN          NaN                      NaN        NaN   \n",
       "471121           NaN          NaN                      NaN        NaN   \n",
       "471122           NaN          NaN                      NaN        NaN   \n",
       "\n",
       "         latitude  dropoff_longitude  dropoff_latitude  passenger_count  \\\n",
       "0       40.777408           -74.0000           40.7500              1.0   \n",
       "1       40.740457           -74.0000           40.7500              1.0   \n",
       "2       40.755002           -73.9375           40.7500              1.0   \n",
       "3       40.743618           -73.8750           40.8750              1.0   \n",
       "4       40.755372           -73.9375           40.8125              5.0   \n",
       "...           ...                ...               ...              ...   \n",
       "471118        NaN                NaN               NaN              NaN   \n",
       "471119        NaN                NaN               NaN              NaN   \n",
       "471120        NaN                NaN               NaN              NaN   \n",
       "471121        NaN                NaN               NaN              NaN   \n",
       "471122        NaN                NaN               NaN              NaN   \n",
       "\n",
       "        key_year  key_month  ...  lat_bin  lon_bin  grid_bin  \\\n",
       "0         2014.0        8.0  ...       76       15      1576   \n",
       "1         2009.0       12.0  ...       49       12      1249   \n",
       "2         2014.0        8.0  ...       60       13      1360   \n",
       "3         2014.0        6.0  ...       51       40      4051   \n",
       "4         2010.0       11.0  ...       60       12      1260   \n",
       "...          ...        ...  ...      ...      ...       ...   \n",
       "471118       NaN        NaN  ...       -1       -1        -1   \n",
       "471119       NaN        NaN  ...       -1       -1        -1   \n",
       "471120       NaN        NaN  ...       -1       -1        -1   \n",
       "471121       NaN        NaN  ...       -1       -1        -1   \n",
       "471122       NaN        NaN  ...       -1       -1        -1   \n",
       "\n",
       "        nearest_metro_distance  nearest_metro_name  point_city  \\\n",
       "0                          NaN                 NaN          -1   \n",
       "1                          NaN                 NaN          -1   \n",
       "2                          NaN                 NaN          -1   \n",
       "3                          NaN                 NaN          -1   \n",
       "4                          NaN                 NaN          -1   \n",
       "...                        ...                 ...         ...   \n",
       "471118            8.800938e+06           Фабричная          -1   \n",
       "471119            8.802556e+06           Фабричная          -1   \n",
       "471120            8.804278e+06           Фабричная          -1   \n",
       "471121            8.802193e+06           Фабричная          -1   \n",
       "471122            8.806881e+06           Фабричная          -1   \n",
       "\n",
       "        nearest_metro_distance  nearest_metro_name  nearest_metro_distance  \\\n",
       "0                 8.804438e+06           Фабричная            8.804438e+06   \n",
       "1                 8.806887e+06           Фабричная            8.806887e+06   \n",
       "2                 8.806036e+06           Фабричная            8.806036e+06   \n",
       "3                 8.799700e+06           Фабричная            8.799700e+06   \n",
       "4                 8.806100e+06           Фабричная            8.806100e+06   \n",
       "...                        ...                 ...                     ...   \n",
       "471118            8.800938e+06           Фабричная            8.800938e+06   \n",
       "471119            8.802556e+06           Фабричная            8.802556e+06   \n",
       "471120            8.804278e+06           Фабричная            8.804278e+06   \n",
       "471121            8.802193e+06           Фабричная            8.802193e+06   \n",
       "471122            8.806881e+06           Фабричная            8.806881e+06   \n",
       "\n",
       "        nearest_metro_name  \n",
       "0                Фабричная  \n",
       "1                Фабричная  \n",
       "2                Фабричная  \n",
       "3                Фабричная  \n",
       "4                Фабричная  \n",
       "...                    ...  \n",
       "471118           Фабричная  \n",
       "471119           Фабричная  \n",
       "471120           Фабричная  \n",
       "471121           Фабричная  \n",
       "471122           Фабричная  \n",
       "\n",
       "[942246 rows x 45 columns]"
      ]
     },
     "execution_count": 125,
     "metadata": {},
     "output_type": "execute_result"
    }
   ],
   "source": [
    "fulldf"
   ]
  },
  {
   "cell_type": "code",
   "execution_count": null,
   "id": "d6b72664",
   "metadata": {},
   "outputs": [],
   "source": [
    "visualize(chunk)"
   ]
  },
  {
   "cell_type": "code",
   "execution_count": 35,
   "id": "57aa8ca3-6502-4b02-884b-b5ed081ad2d1",
   "metadata": {},
   "outputs": [],
   "source": [
    "import catboost as cat\n",
    "def split_validation(df, target_col):\n",
    "\n",
    "  idxs = []\n",
    "\n",
    "  # kf = sklearn.model_selection.TimeSeriesSplit(n_splits=5)\n",
    "  # kf = sklearn.model_selection.StratifiedKFold(n_splits=5)\n",
    "  # kf = sklearn.model_selection.StratifiedGroupKFold(n_splits=5)\n",
    "  kf = sklearn.model_selection.KFold(n_splits=5, shuffle=True, random_state=SEED)\n",
    "\n",
    "  for fold, (train_index, test_index) in enumerate(\n",
    "            kf.split(\n",
    "                X=df.index,\n",
    "                y=df[target_col]\n",
    "            )\n",
    "          ):\n",
    "    \n",
    "      import pickle\n",
    "\n",
    "      with open(f'data/fold_{fold}_train.pickle', 'wb') as f:\n",
    "        pickle.dump(df.iloc[train_index, :], f)\n",
    "      \n",
    "      with open(f'data/fold_{fold}_valid.pickle', 'wb') as f:\n",
    "        pickle.dump(df.iloc[test_index, :], f)\n",
    "\n",
    "      idxs.append((train_index, test_index))\n",
    "  \n",
    "  return idxs\n",
    "\n",
    "def save_dfs(dfs, names):\n",
    "    for df, name in zip(dfs, names):\n",
    "        with open(f'data/{name}.pickle', 'wb') as f:\n",
    "            pickle.dump(df, f)\n",
    "\n",
    "def load_dfs(names):\n",
    "    dfs = []\n",
    "    for name in names:\n",
    "        with open(f'data/{name}.pickle', 'rb') as f:\n",
    "            dfs.append(pickle.load(f))\n",
    "    return dfs"
   ]
  },
  {
   "cell_type": "code",
   "execution_count": 33,
   "id": "7e63a7d7-ea09-4fec-bb12-8e2a0534d23a",
   "metadata": {},
   "outputs": [
    {
     "data": {
      "text/plain": [
       "[(array([     0,      1,      2, ..., 471119, 471120, 471121]),\n",
       "  array([    10,     17,     27, ..., 471111, 471112, 471122])),\n",
       " (array([     0,      1,      2, ..., 471119, 471120, 471122]),\n",
       "  array([     6,     14,     19, ..., 471117, 471118, 471121])),\n",
       " (array([     0,      1,      2, ..., 471119, 471121, 471122]),\n",
       "  array([     3,      4,      7, ..., 471115, 471116, 471120])),\n",
       " (array([     0,      1,      3, ..., 471120, 471121, 471122]),\n",
       "  array([     2,     11,     13, ..., 471109, 471110, 471113])),\n",
       " (array([     2,      3,      4, ..., 471120, 471121, 471122]),\n",
       "  array([     0,      1,      5, ..., 471101, 471105, 471119]))]"
      ]
     },
     "execution_count": 33,
     "metadata": {},
     "output_type": "execute_result"
    }
   ],
   "source": [
    "# save_dfs([fulldf], ['train_pro'])\n",
    "split_validation(fulldf, \"fare_amount\")"
   ]
  },
  {
   "cell_type": "code",
   "execution_count": 36,
   "id": "46c2b0a1",
   "metadata": {},
   "outputs": [],
   "source": [
    "save_dfs([fulldf], ['train_processed'])"
   ]
  },
  {
   "cell_type": "code",
   "execution_count": 87,
   "id": "a2f3c05e",
   "metadata": {},
   "outputs": [],
   "source": [
    "save_dfs([fulldf], ['test_processed'])"
   ]
  },
  {
   "cell_type": "code",
   "execution_count": 95,
   "id": "dade23d5",
   "metadata": {},
   "outputs": [
    {
     "data": {
      "text/plain": [
       "<Axes: >"
      ]
     },
     "execution_count": 95,
     "metadata": {},
     "output_type": "execute_result"
    },
    {
     "data": {
      "image/png": "[encoded data removed]",
      "text/plain": [
       "<Figure size 1400x800 with 1 Axes>"
      ]
     },
     "metadata": {},
     "output_type": "display_data"
    }
   ],
   "source": [
    "fulldf[(fulldf.longitude > fulldf.longitude.quantile(0.01)) & (fulldf.longitude < fulldf.longitude.quantile(0.99))].longitude\n",
    "fulldf[(fulldf.latitude > fulldf.latitude.quantile(0.01)) & (fulldf.latitude < fulldf.latitude.quantile(0.99))].latitude.hist()"
   ]
  },
  {
   "cell_type": "code",
   "execution_count": null,
   "id": "02ee4b8c",
   "metadata": {},
   "outputs": [],
   "source": []
  }
 ],
 "metadata": {
  "kernelspec": {
   "display_name": "base",
   "language": "python",
   "name": "python3"
  },
  "language_info": {
   "codemirror_mode": {
    "name": "ipython",
    "version": 3
   },
   "file_extension": ".py",
   "mimetype": "text/x-python",
   "name": "python",
   "nbconvert_exporter": "python",
   "pygments_lexer": "ipython3",
   "version": "3.11.5"
  }
 },
 "nbformat": 4,
 "nbformat_minor": 5
}
