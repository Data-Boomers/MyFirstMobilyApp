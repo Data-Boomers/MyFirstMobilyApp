{
  "cells": [
    {
      "cell_type": "code",
      "execution_count": null,
      "metadata": {
        "colab": {
          "base_uri": "https://localhost:8080/"
        },
        "id": "8HYV9qFlWlfD",
        "outputId": "5eeb3ed1-8966-404d-b71f-3634377c3d44"
      },
      "outputs": [
        {
          "name": "stdout",
          "output_type": "stream",
          "text": [
            "Looking in indexes: https://pypi.org/simple, https://pypi.ngc.nvidia.com\n",
            "Requirement already satisfied: transformers in /opt/conda/lib/python3.11/site-packages (4.46.2)\n",
            "Requirement already satisfied: bitsandbytes in /opt/conda/lib/python3.11/site-packages (0.44.1)\n",
            "Requirement already satisfied: accelerate in /opt/conda/lib/python3.11/site-packages (1.1.1)\n",
            "Requirement already satisfied: datasets in /opt/conda/lib/python3.11/site-packages (3.1.0)\n",
            "Requirement already satisfied: pymorphy3 in /opt/conda/lib/python3.11/site-packages (2.0.2)\n",
            "Requirement already satisfied: filelock in /opt/conda/lib/python3.11/site-packages (from transformers) (3.15.1)\n",
            "Collecting huggingface-hub<1.0,>=0.23.2 (from transformers)\n",
            "  Downloading huggingface_hub-0.26.2-py3-none-any.whl.metadata (13 kB)\n",
            "Requirement already satisfied: numpy>=1.17 in /opt/conda/lib/python3.11/site-packages (from transformers) (1.26.4)\n",
            "Requirement already satisfied: packaging>=20.0 in /opt/conda/lib/python3.11/site-packages (from transformers) (24.1)\n",
            "Requirement already satisfied: pyyaml>=5.1 in /opt/conda/lib/python3.11/site-packages (from transformers) (6.0.2)\n",
            "Requirement already satisfied: regex!=2019.12.17 in /opt/conda/lib/python3.11/site-packages (from transformers) (2024.11.6)\n",
            "Requirement already satisfied: requests in /opt/conda/lib/python3.11/site-packages (from transformers) (2.32.3)\n",
            "Requirement already satisfied: safetensors>=0.4.1 in /opt/conda/lib/python3.11/site-packages (from transformers) (0.4.5)\n",
            "Requirement already satisfied: tokenizers<0.21,>=0.20 in /opt/conda/lib/python3.11/site-packages (from transformers) (0.20.3)\n",
            "Requirement already satisfied: tqdm>=4.27 in /opt/conda/lib/python3.11/site-packages (from transformers) (4.67.0)\n",
            "Requirement already satisfied: torch in /opt/conda/lib/python3.11/site-packages (from bitsandbytes) (2.2.2+cu121)\n",
            "Requirement already satisfied: psutil in /opt/conda/lib/python3.11/site-packages (from accelerate) (6.1.0)\n",
            "Requirement already satisfied: pyarrow>=15.0.0 in /opt/conda/lib/python3.11/site-packages (from datasets) (18.0.0)\n",
            "Requirement already satisfied: dill<0.3.9,>=0.3.0 in /opt/conda/lib/python3.11/site-packages (from datasets) (0.3.8)\n",
            "Requirement already satisfied: pandas in /opt/conda/lib/python3.11/site-packages (from datasets) (2.2.3)\n",
            "Requirement already satisfied: xxhash in /opt/conda/lib/python3.11/site-packages (from datasets) (3.5.0)\n",
            "Requirement already satisfied: multiprocess<0.70.17 in /opt/conda/lib/python3.11/site-packages (from datasets) (0.70.16)\n",
            "Requirement already satisfied: fsspec<=2024.9.0,>=2023.1.0 in /opt/conda/lib/python3.11/site-packages (from fsspec[http]<=2024.9.0,>=2023.1.0->datasets) (2024.9.0)\n",
            "Requirement already satisfied: aiohttp in /opt/conda/lib/python3.11/site-packages (from datasets) (3.10.10)\n",
            "Requirement already satisfied: dawg-python>=0.7.1 in /opt/conda/lib/python3.11/site-packages (from pymorphy3) (0.7.2)\n",
            "Requirement already satisfied: pymorphy3-dicts-ru in /opt/conda/lib/python3.11/site-packages (from pymorphy3) (2.4.417150.4580142)\n",
            "Requirement already satisfied: aiohappyeyeballs>=2.3.0 in /opt/conda/lib/python3.11/site-packages (from aiohttp->datasets) (2.4.3)\n",
            "Requirement already satisfied: aiosignal>=1.1.2 in /opt/conda/lib/python3.11/site-packages (from aiohttp->datasets) (1.3.1)\n",
            "Requirement already satisfied: attrs>=17.3.0 in /opt/conda/lib/python3.11/site-packages (from aiohttp->datasets) (24.2.0)\n",
            "Requirement already satisfied: frozenlist>=1.1.1 in /opt/conda/lib/python3.11/site-packages (from aiohttp->datasets) (1.5.0)\n",
            "Requirement already satisfied: multidict<7.0,>=4.5 in /opt/conda/lib/python3.11/site-packages (from aiohttp->datasets) (6.1.0)\n",
            "Requirement already satisfied: yarl<2.0,>=1.12.0 in /opt/conda/lib/python3.11/site-packages (from aiohttp->datasets) (1.16.0)\n",
            "Requirement already satisfied: typing-extensions>=3.7.4.3 in /opt/conda/lib/python3.11/site-packages (from huggingface-hub<1.0,>=0.23.2->transformers) (4.12.2)\n",
            "Requirement already satisfied: charset-normalizer<4,>=2 in /opt/conda/lib/python3.11/site-packages (from requests->transformers) (3.4.0)\n",
            "Requirement already satisfied: idna<4,>=2.5 in /opt/conda/lib/python3.11/site-packages (from requests->transformers) (3.10)\n",
            "Requirement already satisfied: urllib3<3,>=1.21.1 in /opt/conda/lib/python3.11/site-packages (from requests->transformers) (2.2.3)\n",
            "Requirement already satisfied: certifi>=2017.4.17 in /opt/conda/lib/python3.11/site-packages (from requests->transformers) (2024.8.30)\n",
            "Requirement already satisfied: sympy in /opt/conda/lib/python3.11/site-packages (from torch->bitsandbytes) (1.13.3)\n",
            "Requirement already satisfied: networkx in /opt/conda/lib/python3.11/site-packages (from torch->bitsandbytes) (3.4.2)\n",
            "Requirement already satisfied: jinja2 in /opt/conda/lib/python3.11/site-packages (from torch->bitsandbytes) (3.1.4)\n",
            "Requirement already satisfied: nvidia-cuda-nvrtc-cu12==12.1.105 in /opt/conda/lib/python3.11/site-packages (from torch->bitsandbytes) (12.1.105)\n",
            "Requirement already satisfied: nvidia-cuda-runtime-cu12==12.1.105 in /opt/conda/lib/python3.11/site-packages (from torch->bitsandbytes) (12.1.105)\n",
            "Requirement already satisfied: nvidia-cuda-cupti-cu12==12.1.105 in /opt/conda/lib/python3.11/site-packages (from torch->bitsandbytes) (12.1.105)\n",
            "Requirement already satisfied: nvidia-cudnn-cu12==8.9.2.26 in /opt/conda/lib/python3.11/site-packages (from torch->bitsandbytes) (8.9.2.26)\n",
            "Requirement already satisfied: nvidia-cublas-cu12==12.1.3.1 in /opt/conda/lib/python3.11/site-packages (from torch->bitsandbytes) (12.1.3.1)\n",
            "Requirement already satisfied: nvidia-cufft-cu12==11.0.2.54 in /opt/conda/lib/python3.11/site-packages (from torch->bitsandbytes) (11.0.2.54)\n",
            "Requirement already satisfied: nvidia-curand-cu12==10.3.2.106 in /opt/conda/lib/python3.11/site-packages (from torch->bitsandbytes) (10.3.2.106)\n",
            "Requirement already satisfied: nvidia-cusolver-cu12==11.4.5.107 in /opt/conda/lib/python3.11/site-packages (from torch->bitsandbytes) (11.4.5.107)\n",
            "Requirement already satisfied: nvidia-cusparse-cu12==12.1.0.106 in /opt/conda/lib/python3.11/site-packages (from torch->bitsandbytes) (12.1.0.106)\n",
            "Requirement already satisfied: nvidia-nccl-cu12==2.19.3 in /opt/conda/lib/python3.11/site-packages (from torch->bitsandbytes) (2.19.3)\n",
            "Requirement already satisfied: nvidia-nvtx-cu12==12.1.105 in /opt/conda/lib/python3.11/site-packages (from torch->bitsandbytes) (12.1.105)\n",
            "Requirement already satisfied: triton==2.2.0 in /opt/conda/lib/python3.11/site-packages (from torch->bitsandbytes) (2.2.0)\n",
            "Requirement already satisfied: nvidia-nvjitlink-cu12 in /opt/conda/lib/python3.11/site-packages (from nvidia-cusolver-cu12==11.4.5.107->torch->bitsandbytes) (12.5.40)\n",
            "Requirement already satisfied: python-dateutil>=2.8.2 in /opt/conda/lib/python3.11/site-packages (from pandas->datasets) (2.9.0)\n",
            "Requirement already satisfied: pytz>=2020.1 in /opt/conda/lib/python3.11/site-packages (from pandas->datasets) (2024.1)\n",
            "Requirement already satisfied: tzdata>=2022.7 in /opt/conda/lib/python3.11/site-packages (from pandas->datasets) (2024.2)\n",
            "Requirement already satisfied: six>=1.5 in /opt/conda/lib/python3.11/site-packages (from python-dateutil>=2.8.2->pandas->datasets) (1.16.0)\n",
            "Requirement already satisfied: propcache>=0.2.0 in /opt/conda/lib/python3.11/site-packages (from yarl<2.0,>=1.12.0->aiohttp->datasets) (0.2.0)\n",
            "Requirement already satisfied: MarkupSafe>=2.0 in /opt/conda/lib/python3.11/site-packages (from jinja2->torch->bitsandbytes) (3.0.2)\n",
            "Requirement already satisfied: mpmath<1.4,>=1.1.0 in /opt/conda/lib/python3.11/site-packages (from sympy->torch->bitsandbytes) (1.3.0)\n",
            "Downloading huggingface_hub-0.26.2-py3-none-any.whl (447 kB)\n",
            "Installing collected packages: huggingface-hub\n",
            "  Attempting uninstall: huggingface-hub\n",
            "    Found existing installation: huggingface-hub 0.2.1\n",
            "    Uninstalling huggingface-hub-0.2.1:\n",
            "      Successfully uninstalled huggingface-hub-0.2.1\n",
            "\u001b[31mERROR: pip's dependency resolver does not currently take into account all the packages that are installed. This behaviour is the source of the following dependency conflicts.\n",
            "ruclip 0.0.2 requires huggingface-hub==0.2.1, but you have huggingface-hub 0.26.2 which is incompatible.\u001b[0m\u001b[31m\n",
            "\u001b[0mSuccessfully installed huggingface-hub-0.26.2\n",
            "Note: you may need to restart the kernel to use updated packages.\n"
          ]
        }
      ],
      "source": [
        "%pip install -U transformers bitsandbytes accelerate datasets pymorphy3\n",
        "# %pip install -U"
      ]
    },
    {
      "cell_type": "code",
      "execution_count": null,
      "metadata": {
        "id": "-9762rSfWVv5",
        "outputId": "2c0695a7-c3c7-4b9d-ee00-838a7db595c9"
      },
      "outputs": [
        {
          "name": "stderr",
          "output_type": "stream",
          "text": [
            "2024-11-10 21:41:52.886723: E external/local_xla/xla/stream_executor/cuda/cuda_dnn.cc:9261] Unable to register cuDNN factory: Attempting to register factory for plugin cuDNN when one has already been registered\n",
            "2024-11-10 21:41:52.886770: E external/local_xla/xla/stream_executor/cuda/cuda_fft.cc:607] Unable to register cuFFT factory: Attempting to register factory for plugin cuFFT when one has already been registered\n",
            "2024-11-10 21:41:52.887935: E external/local_xla/xla/stream_executor/cuda/cuda_blas.cc:1515] Unable to register cuBLAS factory: Attempting to register factory for plugin cuBLAS when one has already been registered\n",
            "2024-11-10 21:41:52.963201: I tensorflow/core/platform/cpu_feature_guard.cc:182] This TensorFlow binary is optimized to use available CPU instructions in performance-critical operations.\n",
            "To enable the following instructions: AVX2 AVX512F FMA, in other operations, rebuild TensorFlow with the appropriate compiler flags.\n",
            "2024-11-10 21:41:55.887183: W tensorflow/compiler/tf2tensorrt/utils/py_utils.cc:38] TF-TRT Warning: Could not find TensorRT\n"
          ]
        }
      ],
      "source": [
        "import pandas as pd\n",
        "import numpy as np\n",
        "\n",
        "import torch\n",
        "import torch.nn as nn\n",
        "import torch.nn.functional as F\n",
        "from torch.utils.data import DataLoader, Dataset\n",
        "\n",
        "import pymorphy3\n",
        "from tqdm import tqdm\n",
        "import os\n",
        "import gc\n",
        "import random\n",
        "from glob import glob\n",
        "import warnings\n",
        "import sklearn\n",
        "# import bitsandbytes as bnb\n",
        "\n",
        "from transformers import AutoModelForSequenceClassification, \\\n",
        "                         AutoModelForCausalLM, \\\n",
        "                        AutoModel, \\\n",
        "                        Trainer,\\\n",
        "                        pipeline, \\\n",
        "                        AutoTokenizer,\\\n",
        "                        BertTokenizerFast\n",
        "from datasets import DatasetDict"
      ]
    },
    {
      "cell_type": "code",
      "execution_count": null,
      "metadata": {
        "id": "c69lNuwkNFzP"
      },
      "outputs": [],
      "source": [
        "def seed_everything(seed: int):\n",
        "    random.seed(seed)\n",
        "    os.environ['PYTHONHASHSEED'] = str(seed)\n",
        "    np.random.seed(seed)\n",
        "    torch.manual_seed(seed)\n",
        "    torch.cuda.manual_seed(seed)\n",
        "    torch.backends.cudnn.deterministic = True\n",
        "    torch.backends.cudnn.benchmark = True\n",
        "\n",
        "seed_everything(42)\n",
        "warnings.filterwarnings(\"ignore\")\n",
        "device = torch.device('cuda:0')"
      ]
    },
    {
      "cell_type": "code",
      "execution_count": null,
      "metadata": {
        "id": "6y9qBRA0NFzQ",
        "outputId": "0b4d695d-c273-4cb5-c056-628705f82cff"
      },
      "outputs": [
        {
          "name": "stdout",
          "output_type": "stream",
          "text": [
            "Sun Nov 10 20:21:43 2024       \n",
            "+---------------------------------------------------------------------------------------+\n",
            "| NVIDIA-SMI 535.216.01             Driver Version: 535.216.01   CUDA Version: 12.2     |\n",
            "|-----------------------------------------+----------------------+----------------------+\n",
            "| GPU  Name                 Persistence-M | Bus-Id        Disp.A | Volatile Uncorr. ECC |\n",
            "| Fan  Temp   Perf          Pwr:Usage/Cap |         Memory-Usage | GPU-Util  Compute M. |\n",
            "|                                         |                      |               MIG M. |\n",
            "|=========================================+======================+======================|\n",
            "|   0  NVIDIA L40S                    On  | 00000000:00:06.0 Off |                    0 |\n",
            "| N/A   33C    P8              34W / 350W |     34MiB / 46068MiB |      0%      Default |\n",
            "|                                         |                      |                  N/A |\n",
            "+-----------------------------------------+----------------------+----------------------+\n",
            "                                                                                         \n",
            "+---------------------------------------------------------------------------------------+\n",
            "| Processes:                                                                            |\n",
            "|  GPU   GI   CI        PID   Type   Process name                            GPU Memory |\n",
            "|        ID   ID                                                             Usage      |\n",
            "|=======================================================================================|\n",
            "+---------------------------------------------------------------------------------------+\n"
          ]
        }
      ],
      "source": [
        "# torch.cuda.get_device_name(0)\n",
        "!nvidia-smi"
      ]
    },
    {
      "cell_type": "markdown",
      "metadata": {
        "id": "XIjsiOBTNFzQ"
      },
      "source": [
        "### Sentiment analysis"
      ]
    },
    {
      "cell_type": "markdown",
      "metadata": {
        "id": "dhXOIC44NFzS"
      },
      "source": [
        "#### hf pipeline"
      ]
    },
    {
      "cell_type": "code",
      "execution_count": null,
      "metadata": {
        "id": "tokxpntvWjpe"
      },
      "outputs": [],
      "source": [
        "def fast_sentiment(texts, device):\n",
        "  model = pipeline(\"text-classification\", model=\"blanchefort/rubert-base-cased-sentiment-rusentiment\", device=device)\n",
        "  ans = []\n",
        "  for text in texts:\n",
        "    ans.append(model(text))\n",
        "  del model\n",
        "  gc.collect()\n",
        "  torch.cuda.empty_cache()\n",
        "  return ans"
      ]
    },
    {
      "cell_type": "code",
      "execution_count": null,
      "metadata": {
        "id": "-BEIXBWhNFzS"
      },
      "outputs": [],
      "source": [
        "results = fast_sentiment(\n",
        "    [\"Знаешь, ты мне очень не нравишься\", \"Как же это всё надоело\", \"Ура, завтра я встречусь с друзьями\"], device=device\n",
        ")"
      ]
    },
    {
      "cell_type": "code",
      "execution_count": null,
      "metadata": {
        "id": "89F69lFxNFzT",
        "outputId": "6f77d47a-ba57-4c61-8623-71cab2496448"
      },
      "outputs": [
        {
          "name": "stderr",
          "output_type": "stream",
          "text": [
            "huggingface/tokenizers: The current process just got forked, after parallelism has already been used. Disabling parallelism to avoid deadlocks...\n",
            "To disable this warning, you can either:\n",
            "\t- Avoid using `tokenizers` before the fork if possible\n",
            "\t- Explicitly set the environment variable TOKENIZERS_PARALLELISM=(true | false)\n"
          ]
        },
        {
          "name": "stdout",
          "output_type": "stream",
          "text": [
            "Sun Nov 10 18:23:15 2024       \n",
            "+---------------------------------------------------------------------------------------+\n",
            "| NVIDIA-SMI 535.216.01             Driver Version: 535.216.01   CUDA Version: 12.2     |\n",
            "|-----------------------------------------+----------------------+----------------------+\n",
            "| GPU  Name                 Persistence-M | Bus-Id        Disp.A | Volatile Uncorr. ECC |\n",
            "| Fan  Temp   Perf          Pwr:Usage/Cap |         Memory-Usage | GPU-Util  Compute M. |\n",
            "|                                         |                      |               MIG M. |\n",
            "|=========================================+======================+======================|\n",
            "|   0  NVIDIA L40S                    On  | 00000000:00:06.0 Off |                    0 |\n",
            "| N/A   42C    P0              88W / 350W |    240MiB / 46068MiB |      0%      Default |\n",
            "|                                         |                      |                  N/A |\n",
            "+-----------------------------------------+----------------------+----------------------+\n",
            "                                                                                         \n",
            "+---------------------------------------------------------------------------------------+\n",
            "| Processes:                                                                            |\n",
            "|  GPU   GI   CI        PID   Type   Process name                            GPU Memory |\n",
            "|        ID   ID                                                             Usage      |\n",
            "|=======================================================================================|\n",
            "+---------------------------------------------------------------------------------------+\n"
          ]
        }
      ],
      "source": [
        "!nvidia-smi"
      ]
    },
    {
      "cell_type": "markdown",
      "metadata": {
        "id": "J60xgOf4NFzT"
      },
      "source": [
        "#### custom"
      ]
    },
    {
      "cell_type": "code",
      "execution_count": null,
      "metadata": {
        "id": "ueE4R2w7NFzU"
      },
      "outputs": [],
      "source": [
        "def collate(data):\n",
        "  # print(data)\n",
        "  # max_len = len(max(data, key=lambda x: len(x[0]))[0])\n",
        "  max_len = max([len(x['input_ids']) for x in data])\n",
        "  input_ids = torch.stack([\n",
        "      torch.cat(\n",
        "          [i['input_ids'],\n",
        "          torch.tensor([0] * (max_len - len(i['input_ids'])), dtype=torch.long)],\n",
        "          dim=-1\n",
        "       )\n",
        "      for i in data\n",
        "  ])\n",
        "  attention_mask = torch.stack([\n",
        "      torch.cat(\n",
        "          [i['attention_mask'],\n",
        "          torch.tensor([0] * (max_len - len(i['attention_mask'])), dtype=torch.long)],\n",
        "          dim=-1\n",
        "       )\n",
        "      for i in data\n",
        "  ])\n",
        "\n",
        "  to_return = {\n",
        "      \"input_ids\" : input_ids,\n",
        "      \"attention_mask\" : attention_mask\n",
        "  }\n",
        "\n",
        "  if data[0].get('targets', -1) != -1:\n",
        "      to_return[\"targets\"] = [i['targets']for i in data]\n",
        "\n",
        "  return to_return"
      ]
    },
    {
      "cell_type": "code",
      "execution_count": null,
      "metadata": {
        "id": "_jkl-pIx0YR3"
      },
      "outputs": [],
      "source": [
        "class BERTDataset(Dataset):\n",
        "    def __init__(self, text, tokenizer, max_len, targets=None,):\n",
        "        self.max_len = max_len\n",
        "        self.text = text\n",
        "        self.tokenizer = tokenizer\n",
        "        self.targets = targets\n",
        "\n",
        "    def __len__(self):\n",
        "        return len(self.text)\n",
        "\n",
        "    def __getitem__(self, index):\n",
        "        text = self.text[index]\n",
        "\n",
        "        inputs = self.tokenizer.encode_plus(\n",
        "            text,\n",
        "            truncation=True,\n",
        "            add_special_tokens=True,\n",
        "            max_length=self.max_len,\n",
        "            # padding='max_length',\n",
        "            padding=False,\n",
        "            return_token_type_ids=False\n",
        "        )\n",
        "\n",
        "        ids = inputs['input_ids']\n",
        "        mask = inputs['attention_mask']\n",
        "\n",
        "        item = {\n",
        "            'input_ids': torch.tensor(ids, dtype=torch.long),\n",
        "            'attention_mask': torch.tensor(mask, dtype=torch.long),\n",
        "        }\n",
        "\n",
        "        if self.targets is not None:\n",
        "            item['targets'] = torch.tensor(self.targets[index], dtype=torch.long)\n",
        "\n",
        "        return item"
      ]
    },
    {
      "cell_type": "code",
      "execution_count": null,
      "metadata": {
        "id": "H6Vnak5cNFzU"
      },
      "outputs": [],
      "source": [
        "def predict(dl, model, device):\n",
        "    model.eval()\n",
        "    model = model.to(device)\n",
        "    preds = []\n",
        "    for batch in dl:\n",
        "        outputs = model(**{k : v.to(device) for k, v in batch.items()})\n",
        "        predicted = torch.nn.functional.softmax(outputs.logits, dim=-1)\n",
        "        predicted = torch.argmax(predicted, dim=-1).cpu()\n",
        "        preds.append(predicted)\n",
        "    # return torch.cat(preds).detach().cpu().numpy()\n",
        "    return torch.cat(preds).numpy()"
      ]
    },
    {
      "cell_type": "code",
      "execution_count": null,
      "metadata": {
        "id": "luiAKRQxNFzU"
      },
      "outputs": [],
      "source": [
        "#predicting fast\n",
        "def predict_test(model, tokenizer, texts, id2label):\n",
        "\n",
        "    MAX_LEN = 512\n",
        "    test_dataset = BERTDataset(text=texts, tokenizer=tokenizer, max_len=MAX_LEN)\n",
        "    test_dataloader = DataLoader(\n",
        "        test_dataset,\n",
        "        batch_size=64,\n",
        "        shuffle=False,\n",
        "        pin_memory=True,\n",
        "        num_workers=2,\n",
        "        collate_fn=collate\n",
        "    )\n",
        "\n",
        "    results = predict(test_dataloader, model, device)\n",
        "    results = [id2label[i] for i in results]\n",
        "\n",
        "    return results"
      ]
    },
    {
      "cell_type": "markdown",
      "metadata": {
        "id": "vm6pwG4aNFzV"
      },
      "source": [
        "#### Zero shot custom prediction"
      ]
    },
    {
      "cell_type": "code",
      "execution_count": null,
      "metadata": {
        "id": "z0DLgitpNFzV",
        "outputId": "99b59e6a-b096-42fa-d10c-46a6f7134adf"
      },
      "outputs": [
        {
          "name": "stderr",
          "output_type": "stream",
          "text": [
            "huggingface/tokenizers: The current process just got forked, after parallelism has already been used. Disabling parallelism to avoid deadlocks...\n",
            "To disable this warning, you can either:\n",
            "\t- Avoid using `tokenizers` before the fork if possible\n",
            "\t- Explicitly set the environment variable TOKENIZERS_PARALLELISM=(true | false)\n",
            "huggingface/tokenizers: The current process just got forked, after parallelism has already been used. Disabling parallelism to avoid deadlocks...\n",
            "To disable this warning, you can either:\n",
            "\t- Avoid using `tokenizers` before the fork if possible\n",
            "\t- Explicitly set the environment variable TOKENIZERS_PARALLELISM=(true | false)\n"
          ]
        },
        {
          "data": {
            "text/plain": [
              "['NEGATIVE', 'NEGATIVE', 'POSITIVE']"
            ]
          },
          "execution_count": 28,
          "metadata": {},
          "output_type": "execute_result"
        }
      ],
      "source": [
        "# to search: https://huggingface.co/models?language=ru&sort=trending&search=sentiment\n",
        "# blanchefort/rubert-base-cased-sentiment-rusentiment - the best for now\n",
        "model_name = 'blanchefort/rubert-base-cased-sentiment-rusentiment'\n",
        "tokenizer = BertTokenizerFast.from_pretrained(model_name)\n",
        "model = AutoModelForSequenceClassification.from_pretrained(model_name, return_dict=True)\n",
        "\n",
        "id2class = {0: \"NEUTRAL\",\n",
        "    1: \"POSITIVE\",\n",
        "    2: \"NEGATIVE\"}\n",
        "\n",
        "predict_test(model, tokenizer,  [\"Знаешь, ты мне очень не нравишься\", \"Как же это всё надоело\", \"Ура, завтра я встречусь с друзьями\"], id2class)"
      ]
    },
    {
      "cell_type": "code",
      "execution_count": null,
      "metadata": {
        "id": "bAg-mhZBNFzV",
        "outputId": "5bc14357-b679-41d2-bc2e-27275111549a"
      },
      "outputs": [
        {
          "name": "stderr",
          "output_type": "stream",
          "text": [
            "Traceback (most recent call last):\n",
            "  File \"/opt/conda/lib/python3.11/multiprocessing/queues.py\", line 239, in _feed\n",
            "    reader_close()\n",
            "  File \"/opt/conda/lib/python3.11/multiprocessing/connection.py\", line 178, in close\n",
            "    self._close()\n",
            "  File \"/opt/conda/lib/python3.11/multiprocessing/connection.py\", line 377, in _close\n",
            "    _close(self._handle)\n",
            "OSError: [Errno 9] Bad file descriptor\n"
          ]
        }
      ],
      "source": [
        "del model, tokenizer\n",
        "gc.collect()\n",
        "torch.cuda.empty_cache()"
      ]
    },
    {
      "cell_type": "code",
      "execution_count": null,
      "metadata": {
        "id": "jMdxQ35ONFzV",
        "outputId": "6c051a64-607b-418e-bb68-2c077660e009"
      },
      "outputs": [
        {
          "name": "stderr",
          "output_type": "stream",
          "text": [
            "huggingface/tokenizers: The current process just got forked, after parallelism has already been used. Disabling parallelism to avoid deadlocks...\n",
            "To disable this warning, you can either:\n",
            "\t- Avoid using `tokenizers` before the fork if possible\n",
            "\t- Explicitly set the environment variable TOKENIZERS_PARALLELISM=(true | false)\n"
          ]
        },
        {
          "name": "stdout",
          "output_type": "stream",
          "text": [
            "Sun Nov 10 18:23:43 2024       \n",
            "+---------------------------------------------------------------------------------------+\n",
            "| NVIDIA-SMI 535.216.01             Driver Version: 535.216.01   CUDA Version: 12.2     |\n",
            "|-----------------------------------------+----------------------+----------------------+\n",
            "| GPU  Name                 Persistence-M | Bus-Id        Disp.A | Volatile Uncorr. ECC |\n",
            "| Fan  Temp   Perf          Pwr:Usage/Cap |         Memory-Usage | GPU-Util  Compute M. |\n",
            "|                                         |                      |               MIG M. |\n",
            "|=========================================+======================+======================|\n",
            "|   0  NVIDIA L40S                    On  | 00000000:00:06.0 Off |                    0 |\n",
            "| N/A   42C    P0              88W / 350W |    240MiB / 46068MiB |      0%      Default |\n",
            "|                                         |                      |                  N/A |\n",
            "+-----------------------------------------+----------------------+----------------------+\n",
            "                                                                                         \n",
            "+---------------------------------------------------------------------------------------+\n",
            "| Processes:                                                                            |\n",
            "|  GPU   GI   CI        PID   Type   Process name                            GPU Memory |\n",
            "|        ID   ID                                                             Usage      |\n",
            "|=======================================================================================|\n",
            "+---------------------------------------------------------------------------------------+\n"
          ]
        }
      ],
      "source": [
        "!nvidia-smi"
      ]
    },
    {
      "cell_type": "markdown",
      "metadata": {
        "id": "10jmEXjnNFzV"
      },
      "source": [
        "### Training"
      ]
    },
    {
      "cell_type": "code",
      "execution_count": null,
      "metadata": {
        "id": "hMx3rQsjNFzV"
      },
      "outputs": [],
      "source": [
        "class BertClassifierModel(nn.Module):\n",
        "    def __init__(self, hidden_dim, bert_model, n_classes):\n",
        "        from collections import OrderedDict\n",
        "        super().__init__()\n",
        "        self.bert = bert_model\n",
        "        self.linear = nn.Sequential(OrderedDict([\n",
        "            (\"ln1\", nn.Linear(768, hidden_dim)),\n",
        "            (\"act\", nn.LeakyReLU()),\n",
        "            (\"ln2\", nn.Linear(hidden_dim, n_classes)),\n",
        "        ]))\n",
        "\n",
        "    def forward(self, input_ids, attention_mask, labels=None, return_hidden=False):\n",
        "      x = self.bert(\n",
        "          input_ids=input_ids,\n",
        "          attention_mask=attention_mask,\n",
        "      ).pooler_output\n",
        "      # print(x)\n",
        "      logits = self.linear(x)\n",
        "      probs = torch.nn.functional.softmax(logits, dim=-1)\n",
        "      loss = nn.CrossEntropyLoss()(probs, labels)\n",
        "      if return_hidden:\n",
        "          return logits, x\n",
        "      return loss, logits\n"
      ]
    },
    {
      "cell_type": "code",
      "execution_count": null,
      "metadata": {
        "id": "P5a-Co8nNFzV"
      },
      "outputs": [],
      "source": [
        "def train_one_epoch(model, loader, loss_fn, optimizer, device):\n",
        "\n",
        "    model.train()\n",
        "\n",
        "    lossi = []\n",
        "    f1_i = []\n",
        "    roc_auc_i = []\n",
        "\n",
        "    stream = tqdm(loader)\n",
        "\n",
        "    for batch in stream:\n",
        "\n",
        "        input_ids = torch.tensor(batch['input_ids']).to(device)\n",
        "        attention_mask = torch.tensor(batch['attention_mask']).to(device)\n",
        "        y_batch = torch.tensor(batch['targets']).to(device)\n",
        "\n",
        "        loss, logits = model(input_ids, attention_mask, labels=y_batch)\n",
        "        probs = torch.nn.functional.softmax(logits, dim=-1)\n",
        "\n",
        "        # loss = loss_fn(probs, y_batch)\n",
        "        lossi.append(loss.item())\n",
        "\n",
        "        f1_i.append(sklearn.metrics.f1_score(y_batch.cpu(), probs.argmax(axis=-1).cpu(), average='micro'))\n",
        "\n",
        "        # if all(y_batch) or (not any(y_batch)):\n",
        "        #     roc_auc_i.append(0)\n",
        "        # else:\n",
        "        #     roc_auc_i.append(sklearn.metrics.roc_auc_score(y_batch.cpu(), probs.argmax(axis=1).cpu()))\n",
        "\n",
        "        stream.set_postfix(\n",
        "            loss=np.mean(lossi),\n",
        "            f1=np.mean(f1_i),\n",
        "            # roc_auc=np.mean(roc_auc_i)\n",
        "        )\n",
        "\n",
        "        optimizer.zero_grad()\n",
        "        loss.backward()\n",
        "        optimizer.step()\n",
        "\n",
        "\n",
        "def validate_one_epoch(model, loader, loss_fn, device):\n",
        "\n",
        "    model.eval()\n",
        "\n",
        "    lossi = []\n",
        "    f1_i = []\n",
        "    roc_auc_i = []\n",
        "\n",
        "    stream = tqdm(loader)\n",
        "\n",
        "    with torch.no_grad():\n",
        "\n",
        "        for batch in stream:\n",
        "\n",
        "            input_ids = torch.tensor(batch['input_ids']).to(device)\n",
        "            attention_mask = torch.tensor(batch['attention_mask']).to(device)\n",
        "            y_batch = torch.tensor(batch['targets']).to(device)\n",
        "\n",
        "            loss, logits = model(input_ids, attention_mask, labels=y_batch)\n",
        "            probs = torch.nn.functional.softmax(logits, dim=-1)\n",
        "\n",
        "            # loss = loss_fn(probs, y_batch)\n",
        "            lossi.append(loss.item())\n",
        "\n",
        "            f1_i.append(sklearn.metrics.f1_score(y_batch.cpu(), probs.argmax(axis=-1).cpu(), average='micro'))\n",
        "\n",
        "            # if all(y_batch) or (not any(y_batch)):\n",
        "            #     roc_auc_i.append(0)\n",
        "            # else:\n",
        "            #     roc_auc_i.append(sklearn.metrics.roc_auc_score(y_batch.cpu(), probs.argmax(axis=1).cpu()))\n",
        "\n",
        "            stream.set_postfix(\n",
        "                loss=np.mean(lossi),\n",
        "                f1=np.mean(f1_i),\n",
        "                # roc_auc=np.mean(roc_auc_i)\n",
        "            )\n",
        "\n",
        "            torch.cuda.empty_cache()\n",
        "\n",
        "    return np.mean(f1_i)\n",
        "\n",
        "\n",
        "def train(\n",
        "      train_loader,\n",
        "      val_loader,\n",
        "      model,\n",
        "      num_epochs,\n",
        "      lr,\n",
        "      gamma,\n",
        "      best_f1=0,\n",
        "      device=None,\n",
        "      checkpoint=None\n",
        "  ):\n",
        "\n",
        "      # loss_fn = nn.BCELoss() if task == \"binary\" else FocalLoss(gamma=gamma)\n",
        "      loss_fn = nn.CrossEntropyLoss()\n",
        "      optimizer = torch.optim.AdamW(model.parameters(), lr=lr, weight_decay=1e-5)\n",
        "      model = model.to(device)\n",
        "      scheduler = torch.optim.lr_scheduler.ExponentialLR(optimizer, gamma)\n",
        "      best_model = None\n",
        "      for epoch in range(num_epochs):\n",
        "        print(f\"{'-' * 100}\")\n",
        "        print(f\"EPOCH {epoch} STARTED\")\n",
        "        print(\"TRAINING\")\n",
        "        train_one_epoch(model, train_loader, loss_fn, optimizer, device)\n",
        "        print(\"VALIDATION\")\n",
        "        val_f1 = validate_one_epoch(model, val_loader, loss_fn, device)\n",
        "        print(f\"{'-' * 100}\")\n",
        "        if best_f1 < val_f1:\n",
        "            best_f1 = val_f1\n",
        "            best_model = model\n",
        "            if checkpoint != None:\n",
        "                torch.save(best_model.state_dict(), checkpoint + f\"/model_f1m_{val_f1:.3f}.pt\")\n",
        "        scheduler.step()\n",
        "      print(f\"train finished with best f1 micro={best_f1}\")"
      ]
    },
    {
      "cell_type": "code",
      "execution_count": null,
      "metadata": {
        "id": "A-31TURdNFzW"
      },
      "outputs": [],
      "source": [
        "import datasets\n",
        "dataset = datasets.load_dataset('ai-forever/kinopoisk-sentiment-classification')"
      ]
    },
    {
      "cell_type": "code",
      "execution_count": null,
      "metadata": {
        "id": "-o_5EzKJNFzW"
      },
      "outputs": [],
      "source": [
        "model_name = 'blanchefort/rubert-base-cased-sentiment-rusentiment'\n",
        "tokenizer = BertTokenizerFast.from_pretrained(model_name)\n",
        "bert_model = AutoModel.from_pretrained(model_name, return_dict=True)\n",
        "\n",
        "model = BertClassifierModel(bert_model=bert_model, hidden_dim=128, n_classes=3)"
      ]
    },
    {
      "cell_type": "code",
      "execution_count": null,
      "metadata": {
        "id": "zvxVef4ENFzW"
      },
      "outputs": [],
      "source": [
        "del bert_model\n",
        "gc.collect()\n",
        "torch.cuda.empty_cache()"
      ]
    },
    {
      "cell_type": "code",
      "execution_count": null,
      "metadata": {
        "id": "tg5yIYHINFzW"
      },
      "outputs": [],
      "source": [
        "train_df = dataset['train'].to_pandas()\n",
        "val_df = dataset['validation'].to_pandas()"
      ]
    },
    {
      "cell_type": "code",
      "execution_count": null,
      "metadata": {
        "id": "e8NPz_3YNFzW"
      },
      "outputs": [],
      "source": [
        "if split := False:\n",
        "    ids = np.arange(df.shape[0])\n",
        "    train_ids, val_ids = sklearn.model_selection.train_test_split(ids, test_size=0.15,) #stratify='')\n",
        "    train, val = df.iloc[train_ids, :], df.iloc[val_ids, :]\n",
        "\n",
        "MAX_LEN = 512\n",
        "\n",
        "train_dataset = BERTDataset(text=train_df['text'].tolist(), tokenizer=tokenizer, max_len=MAX_LEN, targets=train_df['label'])\n",
        "val_dataset = BERTDataset(text=val_df['text'].tolist(), tokenizer=tokenizer, max_len=MAX_LEN, targets=val_df['label'])"
      ]
    },
    {
      "cell_type": "code",
      "execution_count": null,
      "metadata": {
        "id": "ABNHeCaZNFzW"
      },
      "outputs": [],
      "source": [
        "def save_embeds(embeds, path):\n",
        "  import pickle\n",
        "  with open(path, 'wb') as f:\n",
        "    pickle.dump(embeds, f)\n",
        "\n",
        "def load_embeds(path):\n",
        "  import pickle\n",
        "  with open(path, 'rb') as f:\n",
        "    d = pickle.load(f)\n",
        "  return d\n",
        "\n",
        "embeds_path = './train_dataset.pickle'\n",
        "save_embeds(train_dataset, embeds_path)\n",
        "# train_dataset = load_embeds(embeds_path)\n",
        "embeds_path = './val_dataset.pickle'\n",
        "save_embeds(val_dataset, embeds_path)\n",
        "# train_dataset = load_embeds(embeds_path)"
      ]
    },
    {
      "cell_type": "code",
      "execution_count": null,
      "metadata": {
        "id": "ANBFKqmYNFzW"
      },
      "outputs": [],
      "source": [
        "train_dataloader = DataLoader(\n",
        "    train_dataset,\n",
        "    batch_size=16,\n",
        "    shuffle=True,\n",
        "    pin_memory=True,\n",
        "    num_workers=4,\n",
        "    collate_fn=collate\n",
        ")\n",
        "\n",
        "val_dataloader = DataLoader(\n",
        "    val_dataset,\n",
        "    batch_size=16,\n",
        "    shuffle=False,\n",
        "    pin_memory=True,\n",
        "    num_workers=4,\n",
        "    collate_fn=collate\n",
        ")"
      ]
    },
    {
      "cell_type": "code",
      "execution_count": null,
      "metadata": {
        "id": "QTCllLK8NFzX"
      },
      "outputs": [],
      "source": [
        "label2id = {0 : \"Bad\", 1 : 'Neutral', 2: 'Good'}\n",
        "id2label = {v : k for k, v in label2id.items()}"
      ]
    },
    {
      "cell_type": "code",
      "execution_count": null,
      "metadata": {
        "id": "n_qF54MgNFzX",
        "outputId": "bf811a04-e591-493b-afa2-79e4c77e23ef"
      },
      "outputs": [
        {
          "name": "stdout",
          "output_type": "stream",
          "text": [
            "----------------------------------------------------------------------------------------------------\n",
            "EPOCH 0 STARTED\n",
            "TRAINING\n"
          ]
        },
        {
          "name": "stderr",
          "output_type": "stream",
          "text": [
            "100%|██████████| 657/657 [04:43<00:00,  2.32it/s, f1=0.6, loss=0.94]   \n"
          ]
        },
        {
          "name": "stdout",
          "output_type": "stream",
          "text": [
            "VALIDATION\n"
          ]
        },
        {
          "name": "stderr",
          "output_type": "stream",
          "text": [
            "100%|██████████| 94/94 [00:22<00:00,  4.26it/s, f1=0.594, loss=0.945]\n"
          ]
        },
        {
          "name": "stdout",
          "output_type": "stream",
          "text": [
            "----------------------------------------------------------------------------------------------------\n",
            "----------------------------------------------------------------------------------------------------\n",
            "EPOCH 1 STARTED\n",
            "TRAINING\n"
          ]
        },
        {
          "name": "stderr",
          "output_type": "stream",
          "text": [
            "100%|██████████| 657/657 [04:39<00:00,  2.35it/s, f1=0.688, loss=0.856]\n"
          ]
        },
        {
          "name": "stdout",
          "output_type": "stream",
          "text": [
            "VALIDATION\n"
          ]
        },
        {
          "name": "stderr",
          "output_type": "stream",
          "text": [
            "100%|██████████| 94/94 [00:21<00:00,  4.31it/s, f1=0.652, loss=0.88] \n"
          ]
        },
        {
          "name": "stdout",
          "output_type": "stream",
          "text": [
            "----------------------------------------------------------------------------------------------------\n",
            "----------------------------------------------------------------------------------------------------\n",
            "EPOCH 2 STARTED\n",
            "TRAINING\n"
          ]
        },
        {
          "name": "stderr",
          "output_type": "stream",
          "text": [
            "100%|██████████| 657/657 [04:40<00:00,  2.34it/s, f1=0.764, loss=0.785]\n"
          ]
        },
        {
          "name": "stdout",
          "output_type": "stream",
          "text": [
            "VALIDATION\n"
          ]
        },
        {
          "name": "stderr",
          "output_type": "stream",
          "text": [
            "100%|██████████| 94/94 [00:22<00:00,  4.09it/s, f1=0.699, loss=0.846]\n"
          ]
        },
        {
          "name": "stdout",
          "output_type": "stream",
          "text": [
            "----------------------------------------------------------------------------------------------------\n",
            "----------------------------------------------------------------------------------------------------\n",
            "EPOCH 3 STARTED\n",
            "TRAINING\n"
          ]
        },
        {
          "name": "stderr",
          "output_type": "stream",
          "text": [
            "100%|██████████| 657/657 [04:41<00:00,  2.34it/s, f1=0.813, loss=0.735]\n"
          ]
        },
        {
          "name": "stdout",
          "output_type": "stream",
          "text": [
            "VALIDATION\n"
          ]
        },
        {
          "name": "stderr",
          "output_type": "stream",
          "text": [
            "100%|██████████| 94/94 [00:22<00:00,  4.16it/s, f1=0.699, loss=0.839]\n"
          ]
        },
        {
          "name": "stdout",
          "output_type": "stream",
          "text": [
            "----------------------------------------------------------------------------------------------------\n",
            "----------------------------------------------------------------------------------------------------\n",
            "EPOCH 4 STARTED\n",
            "TRAINING\n"
          ]
        },
        {
          "name": "stderr",
          "output_type": "stream",
          "text": [
            "100%|██████████| 657/657 [04:42<00:00,  2.33it/s, f1=0.85, loss=0.7]   \n"
          ]
        },
        {
          "name": "stdout",
          "output_type": "stream",
          "text": [
            "VALIDATION\n"
          ]
        },
        {
          "name": "stderr",
          "output_type": "stream",
          "text": [
            "100%|██████████| 94/94 [00:22<00:00,  4.14it/s, f1=0.689, loss=0.856]\n"
          ]
        },
        {
          "name": "stdout",
          "output_type": "stream",
          "text": [
            "----------------------------------------------------------------------------------------------------\n",
            "----------------------------------------------------------------------------------------------------\n",
            "EPOCH 5 STARTED\n",
            "TRAINING\n"
          ]
        },
        {
          "name": "stderr",
          "output_type": "stream",
          "text": [
            "100%|██████████| 657/657 [04:41<00:00,  2.33it/s, f1=0.869, loss=0.681]\n"
          ]
        },
        {
          "name": "stdout",
          "output_type": "stream",
          "text": [
            "VALIDATION\n"
          ]
        },
        {
          "name": "stderr",
          "output_type": "stream",
          "text": [
            "100%|██████████| 94/94 [00:23<00:00,  4.03it/s, f1=0.69, loss=0.857] \n"
          ]
        },
        {
          "name": "stdout",
          "output_type": "stream",
          "text": [
            "----------------------------------------------------------------------------------------------------\n",
            "----------------------------------------------------------------------------------------------------\n",
            "EPOCH 6 STARTED\n",
            "TRAINING\n"
          ]
        },
        {
          "name": "stderr",
          "output_type": "stream",
          "text": [
            "100%|██████████| 657/657 [04:42<00:00,  2.33it/s, f1=0.881, loss=0.67] \n"
          ]
        },
        {
          "name": "stdout",
          "output_type": "stream",
          "text": [
            "VALIDATION\n"
          ]
        },
        {
          "name": "stderr",
          "output_type": "stream",
          "text": [
            "100%|██████████| 94/94 [00:23<00:00,  3.92it/s, f1=0.698, loss=0.849]\n"
          ]
        },
        {
          "name": "stdout",
          "output_type": "stream",
          "text": [
            "----------------------------------------------------------------------------------------------------\n",
            "----------------------------------------------------------------------------------------------------\n",
            "EPOCH 7 STARTED\n",
            "TRAINING\n"
          ]
        },
        {
          "name": "stderr",
          "output_type": "stream",
          "text": [
            "100%|██████████| 657/657 [04:40<00:00,  2.34it/s, f1=0.894, loss=0.658]\n"
          ]
        },
        {
          "name": "stdout",
          "output_type": "stream",
          "text": [
            "VALIDATION\n"
          ]
        },
        {
          "name": "stderr",
          "output_type": "stream",
          "text": [
            "100%|██████████| 94/94 [00:23<00:00,  4.09it/s, f1=0.695, loss=0.85] \n"
          ]
        },
        {
          "name": "stdout",
          "output_type": "stream",
          "text": [
            "----------------------------------------------------------------------------------------------------\n",
            "----------------------------------------------------------------------------------------------------\n",
            "EPOCH 8 STARTED\n",
            "TRAINING\n"
          ]
        },
        {
          "name": "stderr",
          "output_type": "stream",
          "text": [
            "100%|██████████| 657/657 [04:42<00:00,  2.32it/s, f1=0.898, loss=0.653]\n"
          ]
        },
        {
          "name": "stdout",
          "output_type": "stream",
          "text": [
            "VALIDATION\n"
          ]
        },
        {
          "name": "stderr",
          "output_type": "stream",
          "text": [
            "100%|██████████| 94/94 [00:23<00:00,  3.98it/s, f1=0.697, loss=0.851]\n"
          ]
        },
        {
          "name": "stdout",
          "output_type": "stream",
          "text": [
            "----------------------------------------------------------------------------------------------------\n",
            "----------------------------------------------------------------------------------------------------\n",
            "EPOCH 9 STARTED\n",
            "TRAINING\n"
          ]
        },
        {
          "name": "stderr",
          "output_type": "stream",
          "text": [
            "100%|██████████| 657/657 [04:41<00:00,  2.33it/s, f1=0.902, loss=0.649]\n"
          ]
        },
        {
          "name": "stdout",
          "output_type": "stream",
          "text": [
            "VALIDATION\n"
          ]
        },
        {
          "name": "stderr",
          "output_type": "stream",
          "text": [
            "100%|██████████| 94/94 [00:22<00:00,  4.09it/s, f1=0.703, loss=0.844]\n"
          ]
        },
        {
          "name": "stdout",
          "output_type": "stream",
          "text": [
            "----------------------------------------------------------------------------------------------------\n",
            "train finished with best f1 micro=0.7034574468085106\n"
          ]
        }
      ],
      "source": [
        "train(\n",
        "  train_dataloader,\n",
        "  val_dataloader,\n",
        "  model,\n",
        "  num_epochs=10,\n",
        "  lr=3e-5,\n",
        "  gamma=0.75,\n",
        "  best_f1=0,\n",
        "  device=device,\n",
        "  checkpoint='.'\n",
        ")"
      ]
    },
    {
      "cell_type": "code",
      "execution_count": null,
      "metadata": {
        "id": "zlIeL3O1NFzX"
      },
      "outputs": [],
      "source": []
    },
    {
      "cell_type": "code",
      "execution_count": null,
      "metadata": {
        "id": "lQbdg-OINFzX"
      },
      "outputs": [],
      "source": []
    }
  ],
  "metadata": {
    "accelerator": "GPU",
    "colab": {
      "gpuType": "T4",
      "provenance": []
    },
    "kernelspec": {
      "display_name": "Python 3 (ipykernel)",
      "language": "python",
      "name": "python3"
    },
    "language_info": {
      "codemirror_mode": {
        "name": "ipython",
        "version": 3
      },
      "file_extension": ".py",
      "mimetype": "text/x-python",
      "name": "python",
      "nbconvert_exporter": "python",
      "pygments_lexer": "ipython3",
      "version": "3.11.10"
    }
  },
  "nbformat": 4,
  "nbformat_minor": 0
}