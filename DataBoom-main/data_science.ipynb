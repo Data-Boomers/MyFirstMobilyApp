{
  "nbformat": 4,
  "nbformat_minor": 0,
  "metadata": {
    "colab": {
      "provenance": [],
      "collapsed_sections": [
        "cmytVU50llF6",
        "5QEzrNl7yjvQ",
        "LG1aLjgX1ZA5",
        "t49c6kffJhSa",
        "SuqzDtkSGYxy"
      ],
      "toc_visible": true
    },
    "kernelspec": {
      "name": "python3",
      "display_name": "Python 3"
    },
    "language_info": {
      "name": "python"
    },
    "widgets": {
      "application/vnd.jupyter.widget-state+json": {
        "02b339d03c85415f9716ee6b116205fa": {
          "model_module": "@jupyter-widgets/controls",
          "model_name": "HBoxModel",
          "model_module_version": "1.5.0",
          "state": {
            "_dom_classes": [],
            "_model_module": "@jupyter-widgets/controls",
            "_model_module_version": "1.5.0",
            "_model_name": "HBoxModel",
            "_view_count": null,
            "_view_module": "@jupyter-widgets/controls",
            "_view_module_version": "1.5.0",
            "_view_name": "HBoxView",
            "box_style": "",
            "children": [
              "IPY_MODEL_aba46963a61a4a97afe2136b669864fe",
              "IPY_MODEL_8e32b3e8a9334a39a7d4cf3d9e6ada60",
              "IPY_MODEL_7cc291ef77d849e78be924ff49451074"
            ],
            "layout": "IPY_MODEL_7e3f858332e446498fc510a6c6f0afee"
          }
        },
        "aba46963a61a4a97afe2136b669864fe": {
          "model_module": "@jupyter-widgets/controls",
          "model_name": "HTMLModel",
          "model_module_version": "1.5.0",
          "state": {
            "_dom_classes": [],
            "_model_module": "@jupyter-widgets/controls",
            "_model_module_version": "1.5.0",
            "_model_name": "HTMLModel",
            "_view_count": null,
            "_view_module": "@jupyter-widgets/controls",
            "_view_module_version": "1.5.0",
            "_view_name": "HTMLView",
            "description": "",
            "description_tooltip": null,
            "layout": "IPY_MODEL_9b822c8e019044d6936e1c92f1fd0ba6",
            "placeholder": "​",
            "style": "IPY_MODEL_785528d1a1e84274b1c7be3fc1bd43ab",
            "value": "Done! Use &#x27;show&#x27; commands to display/save.   "
          }
        },
        "8e32b3e8a9334a39a7d4cf3d9e6ada60": {
          "model_module": "@jupyter-widgets/controls",
          "model_name": "FloatProgressModel",
          "model_module_version": "1.5.0",
          "state": {
            "_dom_classes": [],
            "_model_module": "@jupyter-widgets/controls",
            "_model_module_version": "1.5.0",
            "_model_name": "FloatProgressModel",
            "_view_count": null,
            "_view_module": "@jupyter-widgets/controls",
            "_view_module_version": "1.5.0",
            "_view_name": "ProgressView",
            "bar_style": "success",
            "description": "",
            "description_tooltip": null,
            "layout": "IPY_MODEL_54c2eccbab034f15b18c4fd421ee8667",
            "max": 1,
            "min": 0,
            "orientation": "horizontal",
            "style": "IPY_MODEL_f889b2ddd0c34736a21fdd5e530cbfb2",
            "value": 1
          }
        },
        "7cc291ef77d849e78be924ff49451074": {
          "model_module": "@jupyter-widgets/controls",
          "model_name": "HTMLModel",
          "model_module_version": "1.5.0",
          "state": {
            "_dom_classes": [],
            "_model_module": "@jupyter-widgets/controls",
            "_model_module_version": "1.5.0",
            "_model_name": "HTMLModel",
            "_view_count": null,
            "_view_module": "@jupyter-widgets/controls",
            "_view_module_version": "1.5.0",
            "_view_name": "HTMLView",
            "description": "",
            "description_tooltip": null,
            "layout": "IPY_MODEL_4bc1ac6a693b43b6ac42e613f9d2247e",
            "placeholder": "​",
            "style": "IPY_MODEL_7b0993a5f44f49e48ceae8988604545d",
            "value": " [100%]   00:07 -&gt; (00:00 left)"
          }
        },
        "7e3f858332e446498fc510a6c6f0afee": {
          "model_module": "@jupyter-widgets/base",
          "model_name": "LayoutModel",
          "model_module_version": "1.2.0",
          "state": {
            "_model_module": "@jupyter-widgets/base",
            "_model_module_version": "1.2.0",
            "_model_name": "LayoutModel",
            "_view_count": null,
            "_view_module": "@jupyter-widgets/base",
            "_view_module_version": "1.2.0",
            "_view_name": "LayoutView",
            "align_content": null,
            "align_items": null,
            "align_self": null,
            "border": null,
            "bottom": null,
            "display": "inline-flex",
            "flex": null,
            "flex_flow": "row wrap",
            "grid_area": null,
            "grid_auto_columns": null,
            "grid_auto_flow": null,
            "grid_auto_rows": null,
            "grid_column": null,
            "grid_gap": null,
            "grid_row": null,
            "grid_template_areas": null,
            "grid_template_columns": null,
            "grid_template_rows": null,
            "height": null,
            "justify_content": null,
            "justify_items": null,
            "left": null,
            "margin": null,
            "max_height": null,
            "max_width": null,
            "min_height": null,
            "min_width": null,
            "object_fit": null,
            "object_position": null,
            "order": null,
            "overflow": null,
            "overflow_x": null,
            "overflow_y": null,
            "padding": null,
            "right": null,
            "top": null,
            "visibility": null,
            "width": "100%"
          }
        },
        "9b822c8e019044d6936e1c92f1fd0ba6": {
          "model_module": "@jupyter-widgets/base",
          "model_name": "LayoutModel",
          "model_module_version": "1.2.0",
          "state": {
            "_model_module": "@jupyter-widgets/base",
            "_model_module_version": "1.2.0",
            "_model_name": "LayoutModel",
            "_view_count": null,
            "_view_module": "@jupyter-widgets/base",
            "_view_module_version": "1.2.0",
            "_view_name": "LayoutView",
            "align_content": null,
            "align_items": null,
            "align_self": null,
            "border": null,
            "bottom": null,
            "display": null,
            "flex": null,
            "flex_flow": null,
            "grid_area": null,
            "grid_auto_columns": null,
            "grid_auto_flow": null,
            "grid_auto_rows": null,
            "grid_column": null,
            "grid_gap": null,
            "grid_row": null,
            "grid_template_areas": null,
            "grid_template_columns": null,
            "grid_template_rows": null,
            "height": null,
            "justify_content": null,
            "justify_items": null,
            "left": null,
            "margin": null,
            "max_height": null,
            "max_width": null,
            "min_height": null,
            "min_width": null,
            "object_fit": null,
            "object_position": null,
            "order": null,
            "overflow": null,
            "overflow_x": null,
            "overflow_y": null,
            "padding": null,
            "right": null,
            "top": null,
            "visibility": null,
            "width": null
          }
        },
        "785528d1a1e84274b1c7be3fc1bd43ab": {
          "model_module": "@jupyter-widgets/controls",
          "model_name": "DescriptionStyleModel",
          "model_module_version": "1.5.0",
          "state": {
            "_model_module": "@jupyter-widgets/controls",
            "_model_module_version": "1.5.0",
            "_model_name": "DescriptionStyleModel",
            "_view_count": null,
            "_view_module": "@jupyter-widgets/base",
            "_view_module_version": "1.2.0",
            "_view_name": "StyleView",
            "description_width": ""
          }
        },
        "54c2eccbab034f15b18c4fd421ee8667": {
          "model_module": "@jupyter-widgets/base",
          "model_name": "LayoutModel",
          "model_module_version": "1.2.0",
          "state": {
            "_model_module": "@jupyter-widgets/base",
            "_model_module_version": "1.2.0",
            "_model_name": "LayoutModel",
            "_view_count": null,
            "_view_module": "@jupyter-widgets/base",
            "_view_module_version": "1.2.0",
            "_view_name": "LayoutView",
            "align_content": null,
            "align_items": null,
            "align_self": null,
            "border": null,
            "bottom": null,
            "display": null,
            "flex": "2",
            "flex_flow": null,
            "grid_area": null,
            "grid_auto_columns": null,
            "grid_auto_flow": null,
            "grid_auto_rows": null,
            "grid_column": null,
            "grid_gap": null,
            "grid_row": null,
            "grid_template_areas": null,
            "grid_template_columns": null,
            "grid_template_rows": null,
            "height": null,
            "justify_content": null,
            "justify_items": null,
            "left": null,
            "margin": null,
            "max_height": null,
            "max_width": null,
            "min_height": null,
            "min_width": null,
            "object_fit": null,
            "object_position": null,
            "order": null,
            "overflow": null,
            "overflow_x": null,
            "overflow_y": null,
            "padding": null,
            "right": null,
            "top": null,
            "visibility": null,
            "width": null
          }
        },
        "f889b2ddd0c34736a21fdd5e530cbfb2": {
          "model_module": "@jupyter-widgets/controls",
          "model_name": "ProgressStyleModel",
          "model_module_version": "1.5.0",
          "state": {
            "_model_module": "@jupyter-widgets/controls",
            "_model_module_version": "1.5.0",
            "_model_name": "ProgressStyleModel",
            "_view_count": null,
            "_view_module": "@jupyter-widgets/base",
            "_view_module_version": "1.2.0",
            "_view_name": "StyleView",
            "bar_color": null,
            "description_width": ""
          }
        },
        "4bc1ac6a693b43b6ac42e613f9d2247e": {
          "model_module": "@jupyter-widgets/base",
          "model_name": "LayoutModel",
          "model_module_version": "1.2.0",
          "state": {
            "_model_module": "@jupyter-widgets/base",
            "_model_module_version": "1.2.0",
            "_model_name": "LayoutModel",
            "_view_count": null,
            "_view_module": "@jupyter-widgets/base",
            "_view_module_version": "1.2.0",
            "_view_name": "LayoutView",
            "align_content": null,
            "align_items": null,
            "align_self": null,
            "border": null,
            "bottom": null,
            "display": null,
            "flex": null,
            "flex_flow": null,
            "grid_area": null,
            "grid_auto_columns": null,
            "grid_auto_flow": null,
            "grid_auto_rows": null,
            "grid_column": null,
            "grid_gap": null,
            "grid_row": null,
            "grid_template_areas": null,
            "grid_template_columns": null,
            "grid_template_rows": null,
            "height": null,
            "justify_content": null,
            "justify_items": null,
            "left": null,
            "margin": null,
            "max_height": null,
            "max_width": null,
            "min_height": null,
            "min_width": null,
            "object_fit": null,
            "object_position": null,
            "order": null,
            "overflow": null,
            "overflow_x": null,
            "overflow_y": null,
            "padding": null,
            "right": null,
            "top": null,
            "visibility": null,
            "width": null
          }
        },
        "7b0993a5f44f49e48ceae8988604545d": {
          "model_module": "@jupyter-widgets/controls",
          "model_name": "DescriptionStyleModel",
          "model_module_version": "1.5.0",
          "state": {
            "_model_module": "@jupyter-widgets/controls",
            "_model_module_version": "1.5.0",
            "_model_name": "DescriptionStyleModel",
            "_view_count": null,
            "_view_module": "@jupyter-widgets/base",
            "_view_module_version": "1.2.0",
            "_view_name": "StyleView",
            "description_width": ""
          }
        }
      }
    }
  },
  "cells": [
    {
      "cell_type": "code",
      "execution_count": 1,
      "metadata": {
        "id": "uxSBxLWFhdT9",
        "colab": {
          "base_uri": "https://localhost:8080/"
        },
        "outputId": "0b18807f-5e8a-407a-9447-71f36515d9f8"
      },
      "outputs": [
        {
          "output_type": "stream",
          "name": "stdout",
          "text": [
            "Downloading from https://www.kaggle.com/api/v1/datasets/download/mohamedmaideen/zillow-com-house-price-prediction?dataset_version_number=1...\n"
          ]
        },
        {
          "output_type": "stream",
          "name": "stderr",
          "text": [
            "100%|██████████| 15.5M/15.5M [00:00<00:00, 49.9MB/s]"
          ]
        },
        {
          "output_type": "stream",
          "name": "stdout",
          "text": [
            "Extracting files...\n"
          ]
        },
        {
          "output_type": "stream",
          "name": "stderr",
          "text": [
            "\n"
          ]
        },
        {
          "output_type": "stream",
          "name": "stdout",
          "text": [
            "Path to dataset files: /root/.cache/kagglehub/datasets/mohamedmaideen/zillow-com-house-price-prediction/versions/1\n"
          ]
        }
      ],
      "source": [
        "import kagglehub\n",
        "\n",
        "# Download latest version\n",
        "path = kagglehub.dataset_download(\"mohamedmaideen/zillow-com-house-price-prediction\")\n",
        "\n",
        "print(\"Path to dataset files:\", path)"
      ]
    },
    {
      "cell_type": "code",
      "source": [
        "file_path = '/root/.cache/kagglehub/datasets/mohamedmaideen/zillow-com-house-price-prediction/versions/1/Zillow.com House Price Prediction Data.xlsx'"
      ],
      "metadata": {
        "id": "2uV7i1M0anPh"
      },
      "execution_count": 2,
      "outputs": []
    },
    {
      "cell_type": "markdown",
      "source": [
        "# defolt"
      ],
      "metadata": {
        "id": "cJU33iHM15Ru"
      }
    },
    {
      "cell_type": "code",
      "source": [
        "import pandas as pd\n",
        "import numpy as np\n",
        "import matplotlib.pyplot as plt\n",
        "import seaborn as sns"
      ],
      "metadata": {
        "id": "GxwQtH_omct-"
      },
      "execution_count": null,
      "outputs": []
    },
    {
      "cell_type": "code",
      "source": [
        "df = pd.read_excel(\n",
        "    '/root/.cache/kagglehub/datasets/mohamedmaideen/zillow-com-house-price-prediction/versions/1/Zillow.com House Price Prediction Data.xlsx',\n",
        "    engine='openpyxl'\n",
        ")"
      ],
      "metadata": {
        "id": "_I9zTKJ30NPG"
      },
      "execution_count": null,
      "outputs": []
    },
    {
      "cell_type": "code",
      "source": [
        "df.drop(columns=['monthlyHoaFee', 'dateSold', 'brokerageName', 'providerListingID', 'brokerId',\n",
        "             'comingSoonOnMarketDate', 'comingSoonOnMarketDate', 'comingSoonOnMarketDate',\n",
        "             'building', 'homeFacts', 'datePosted', 'isListedByOwner', 'mlsid', 'buildingId',\n",
        "             'solarPotential', 'contingentListingType', 'message', 'resoFacts.daysOnZillow'], inplace=True)"
      ],
      "metadata": {
        "id": "1KoTf5nX1Ut_"
      },
      "execution_count": 5,
      "outputs": []
    },
    {
      "cell_type": "code",
      "source": [
        "df.dropna(inplace=True)"
      ],
      "metadata": {
        "id": "LkJha4lS1fPV"
      },
      "execution_count": 6,
      "outputs": []
    },
    {
      "cell_type": "code",
      "source": [
        "df['timeOnZillow'] = df['timeOnZillow'].apply(lambda x: int(x.split(' ')[0]))\n",
        "df['streetAddress'] = df['streetAddress'].apply(lambda x: int(x.split(' ')[0]))"
      ],
      "metadata": {
        "id": "Qnc7gTrI0NMm"
      },
      "execution_count": 7,
      "outputs": []
    },
    {
      "cell_type": "code",
      "source": [
        "target = 'price'"
      ],
      "metadata": {
        "id": "RiahKUiazxv5"
      },
      "execution_count": 9,
      "outputs": []
    },
    {
      "cell_type": "code",
      "source": [
        "df.loc[0]"
      ],
      "metadata": {
        "collapsed": true,
        "colab": {
          "base_uri": "https://localhost:8080/",
          "height": 0
        },
        "id": "9vBZMT2BC2A6",
        "outputId": "965c78ce-91aa-41e8-873a-4cb3487d9876"
      },
      "execution_count": 8,
      "outputs": [
        {
          "output_type": "execute_result",
          "data": {
            "text/plain": [
              "contact_recipients           [{'agent_reason': 1, 'zpro': None, 'recent_sal...\n",
              "longitude                                                           -149.90807\n",
              "countyFIPS                                                              2020.0\n",
              "imgSrc                       https://photos.zillowstatic.com/fp/ce047439c86...\n",
              "livingAreaValue                                                         2668.0\n",
              "streetAddress                                                              500\n",
              "county                                                       Anchorage Borough\n",
              "timeZone                                                     America/Anchorage\n",
              "taxHistory                   [{'time': 1691996796990, 'valueIncreaseRate': ...\n",
              "annualHomeownersInsurance                                                 2840\n",
              "state                                                                       AK\n",
              "listed_by                    {'agent_reason': None, 'zpro': None, 'recent_s...\n",
              "yearBuilt                                                               1959.0\n",
              "description                  This 2668 square foot single family home has 3...\n",
              "latitude                                                             61.217308\n",
              "nearbyHomes                  [{'livingArea': 3179, 'livingAreaValue': 3179,...\n",
              "priceHistory                 [{'priceChangeRate': 0, 'date': '2014-09-26', ...\n",
              "schools                      [{'link': 'https://www.greatschools.org/alaska...\n",
              "rentZestimate                                                           3142.0\n",
              "city                                                                 Anchorage\n",
              "currency                                                                   USD\n",
              "listingProvider              {'enhancedVideoURL': None, 'showNoContactInfoM...\n",
              "zestimateLowPercent                                                       12.0\n",
              "openHouseSchedule                                                           {}\n",
              "mortgageRates                                    {'thirtyYearFixedRate': None}\n",
              "address                      {'community': None, 'city': 'Anchorage', 'stat...\n",
              "cityId                                                                 23482.0\n",
              "timeOnZillow                                                              3609\n",
              "url                          /homedetails/500-North-St-Anchorage-AK-99501/1...\n",
              "zestimate                                                             676100.0\n",
              "zpid                                                                       1.0\n",
              "countyId                                                                2616.0\n",
              "livingAreaUnits                                                           sqft\n",
              "livingArea                                                              2668.0\n",
              "stateId                                                                    3.0\n",
              "zipcode                                                                  99501\n",
              "propertyTaxRate                                                           1.31\n",
              "attributionInfo              {'buyerAgentName': None, 'mlsName': None, 'coA...\n",
              "bathrooms                                                                  2.0\n",
              "homeStatus                                                               OTHER\n",
              "resoFacts                    {'hasAttachedProperty': False, 'frontageType':...\n",
              "bedrooms                                                                   3.0\n",
              "propertyTypeDimension                                            Single Family\n",
              "mortgageZHLRates             {'thirtyYearFixedBucket': {'rate': None, 'rate...\n",
              "price                                                                   676100\n",
              "favoriteCount                                                              0.0\n",
              "zestimateHighPercent                                                      13.0\n",
              "listingSubType               {'is_FSBA': False, 'is_comingSoon': False, 'is...\n",
              "pageViewCount                                                          12925.0\n",
              "country                                                                    USA\n",
              "homeType                                                         SINGLE_FAMILY\n",
              "Name: 0, dtype: object"
            ],
            "text/html": [
              "<div>\n",
              "<style scoped>\n",
              "    .dataframe tbody tr th:only-of-type {\n",
              "        vertical-align: middle;\n",
              "    }\n",
              "\n",
              "    .dataframe tbody tr th {\n",
              "        vertical-align: top;\n",
              "    }\n",
              "\n",
              "    .dataframe thead th {\n",
              "        text-align: right;\n",
              "    }\n",
              "</style>\n",
              "<table border=\"1\" class=\"dataframe\">\n",
              "  <thead>\n",
              "    <tr style=\"text-align: right;\">\n",
              "      <th></th>\n",
              "      <th>0</th>\n",
              "    </tr>\n",
              "  </thead>\n",
              "  <tbody>\n",
              "    <tr>\n",
              "      <th>contact_recipients</th>\n",
              "      <td>[{'agent_reason': 1, 'zpro': None, 'recent_sal...</td>\n",
              "    </tr>\n",
              "    <tr>\n",
              "      <th>longitude</th>\n",
              "      <td>-149.90807</td>\n",
              "    </tr>\n",
              "    <tr>\n",
              "      <th>countyFIPS</th>\n",
              "      <td>2020.0</td>\n",
              "    </tr>\n",
              "    <tr>\n",
              "      <th>imgSrc</th>\n",
              "      <td>https://photos.zillowstatic.com/fp/ce047439c86...</td>\n",
              "    </tr>\n",
              "    <tr>\n",
              "      <th>livingAreaValue</th>\n",
              "      <td>2668.0</td>\n",
              "    </tr>\n",
              "    <tr>\n",
              "      <th>streetAddress</th>\n",
              "      <td>500</td>\n",
              "    </tr>\n",
              "    <tr>\n",
              "      <th>county</th>\n",
              "      <td>Anchorage Borough</td>\n",
              "    </tr>\n",
              "    <tr>\n",
              "      <th>timeZone</th>\n",
              "      <td>America/Anchorage</td>\n",
              "    </tr>\n",
              "    <tr>\n",
              "      <th>taxHistory</th>\n",
              "      <td>[{'time': 1691996796990, 'valueIncreaseRate': ...</td>\n",
              "    </tr>\n",
              "    <tr>\n",
              "      <th>annualHomeownersInsurance</th>\n",
              "      <td>2840</td>\n",
              "    </tr>\n",
              "    <tr>\n",
              "      <th>state</th>\n",
              "      <td>AK</td>\n",
              "    </tr>\n",
              "    <tr>\n",
              "      <th>listed_by</th>\n",
              "      <td>{'agent_reason': None, 'zpro': None, 'recent_s...</td>\n",
              "    </tr>\n",
              "    <tr>\n",
              "      <th>yearBuilt</th>\n",
              "      <td>1959.0</td>\n",
              "    </tr>\n",
              "    <tr>\n",
              "      <th>description</th>\n",
              "      <td>This 2668 square foot single family home has 3...</td>\n",
              "    </tr>\n",
              "    <tr>\n",
              "      <th>latitude</th>\n",
              "      <td>61.217308</td>\n",
              "    </tr>\n",
              "    <tr>\n",
              "      <th>nearbyHomes</th>\n",
              "      <td>[{'livingArea': 3179, 'livingAreaValue': 3179,...</td>\n",
              "    </tr>\n",
              "    <tr>\n",
              "      <th>priceHistory</th>\n",
              "      <td>[{'priceChangeRate': 0, 'date': '2014-09-26', ...</td>\n",
              "    </tr>\n",
              "    <tr>\n",
              "      <th>schools</th>\n",
              "      <td>[{'link': 'https://www.greatschools.org/alaska...</td>\n",
              "    </tr>\n",
              "    <tr>\n",
              "      <th>rentZestimate</th>\n",
              "      <td>3142.0</td>\n",
              "    </tr>\n",
              "    <tr>\n",
              "      <th>city</th>\n",
              "      <td>Anchorage</td>\n",
              "    </tr>\n",
              "    <tr>\n",
              "      <th>currency</th>\n",
              "      <td>USD</td>\n",
              "    </tr>\n",
              "    <tr>\n",
              "      <th>listingProvider</th>\n",
              "      <td>{'enhancedVideoURL': None, 'showNoContactInfoM...</td>\n",
              "    </tr>\n",
              "    <tr>\n",
              "      <th>zestimateLowPercent</th>\n",
              "      <td>12.0</td>\n",
              "    </tr>\n",
              "    <tr>\n",
              "      <th>openHouseSchedule</th>\n",
              "      <td>{}</td>\n",
              "    </tr>\n",
              "    <tr>\n",
              "      <th>mortgageRates</th>\n",
              "      <td>{'thirtyYearFixedRate': None}</td>\n",
              "    </tr>\n",
              "    <tr>\n",
              "      <th>address</th>\n",
              "      <td>{'community': None, 'city': 'Anchorage', 'stat...</td>\n",
              "    </tr>\n",
              "    <tr>\n",
              "      <th>cityId</th>\n",
              "      <td>23482.0</td>\n",
              "    </tr>\n",
              "    <tr>\n",
              "      <th>timeOnZillow</th>\n",
              "      <td>3609</td>\n",
              "    </tr>\n",
              "    <tr>\n",
              "      <th>url</th>\n",
              "      <td>/homedetails/500-North-St-Anchorage-AK-99501/1...</td>\n",
              "    </tr>\n",
              "    <tr>\n",
              "      <th>zestimate</th>\n",
              "      <td>676100.0</td>\n",
              "    </tr>\n",
              "    <tr>\n",
              "      <th>zpid</th>\n",
              "      <td>1.0</td>\n",
              "    </tr>\n",
              "    <tr>\n",
              "      <th>countyId</th>\n",
              "      <td>2616.0</td>\n",
              "    </tr>\n",
              "    <tr>\n",
              "      <th>livingAreaUnits</th>\n",
              "      <td>sqft</td>\n",
              "    </tr>\n",
              "    <tr>\n",
              "      <th>livingArea</th>\n",
              "      <td>2668.0</td>\n",
              "    </tr>\n",
              "    <tr>\n",
              "      <th>stateId</th>\n",
              "      <td>3.0</td>\n",
              "    </tr>\n",
              "    <tr>\n",
              "      <th>zipcode</th>\n",
              "      <td>99501</td>\n",
              "    </tr>\n",
              "    <tr>\n",
              "      <th>propertyTaxRate</th>\n",
              "      <td>1.31</td>\n",
              "    </tr>\n",
              "    <tr>\n",
              "      <th>attributionInfo</th>\n",
              "      <td>{'buyerAgentName': None, 'mlsName': None, 'coA...</td>\n",
              "    </tr>\n",
              "    <tr>\n",
              "      <th>bathrooms</th>\n",
              "      <td>2.0</td>\n",
              "    </tr>\n",
              "    <tr>\n",
              "      <th>homeStatus</th>\n",
              "      <td>OTHER</td>\n",
              "    </tr>\n",
              "    <tr>\n",
              "      <th>resoFacts</th>\n",
              "      <td>{'hasAttachedProperty': False, 'frontageType':...</td>\n",
              "    </tr>\n",
              "    <tr>\n",
              "      <th>bedrooms</th>\n",
              "      <td>3.0</td>\n",
              "    </tr>\n",
              "    <tr>\n",
              "      <th>propertyTypeDimension</th>\n",
              "      <td>Single Family</td>\n",
              "    </tr>\n",
              "    <tr>\n",
              "      <th>mortgageZHLRates</th>\n",
              "      <td>{'thirtyYearFixedBucket': {'rate': None, 'rate...</td>\n",
              "    </tr>\n",
              "    <tr>\n",
              "      <th>price</th>\n",
              "      <td>676100</td>\n",
              "    </tr>\n",
              "    <tr>\n",
              "      <th>favoriteCount</th>\n",
              "      <td>0.0</td>\n",
              "    </tr>\n",
              "    <tr>\n",
              "      <th>zestimateHighPercent</th>\n",
              "      <td>13.0</td>\n",
              "    </tr>\n",
              "    <tr>\n",
              "      <th>listingSubType</th>\n",
              "      <td>{'is_FSBA': False, 'is_comingSoon': False, 'is...</td>\n",
              "    </tr>\n",
              "    <tr>\n",
              "      <th>pageViewCount</th>\n",
              "      <td>12925.0</td>\n",
              "    </tr>\n",
              "    <tr>\n",
              "      <th>country</th>\n",
              "      <td>USA</td>\n",
              "    </tr>\n",
              "    <tr>\n",
              "      <th>homeType</th>\n",
              "      <td>SINGLE_FAMILY</td>\n",
              "    </tr>\n",
              "  </tbody>\n",
              "</table>\n",
              "</div><br><label><b>dtype:</b> object</label>"
            ]
          },
          "metadata": {},
          "execution_count": 8
        }
      ]
    },
    {
      "cell_type": "code",
      "source": [
        "train = df.copy()\n",
        "test = train.drop(columns=target)"
      ],
      "metadata": {
        "id": "9DzxwTJC8bJQ"
      },
      "execution_count": 22,
      "outputs": []
    },
    {
      "cell_type": "code",
      "source": [
        "df.head(3)"
      ],
      "metadata": {
        "colab": {
          "base_uri": "https://localhost:8080/",
          "height": 349
        },
        "id": "FpHj17o00NJ6",
        "outputId": "a20b7fdd-5331-44ea-8895-b1555cd164a6"
      },
      "execution_count": 11,
      "outputs": [
        {
          "output_type": "execute_result",
          "data": {
            "text/plain": [
              "                                  contact_recipients  longitude  countyFIPS  \\\n",
              "0  [{'agent_reason': 1, 'zpro': None, 'recent_sal... -149.90807      2020.0   \n",
              "2  [{'agent_reason': 1, 'zpro': None, 'recent_sal... -149.90833      2020.0   \n",
              "4  [{'agent_reason': 1, 'zpro': None, 'recent_sal... -149.90834      2020.0   \n",
              "\n",
              "                                              imgSrc  livingAreaValue  \\\n",
              "0  https://photos.zillowstatic.com/fp/ce047439c86...           2668.0   \n",
              "2  https://maps.googleapis.com/maps/api/streetvie...           3059.0   \n",
              "4  https://photos.zillowstatic.com/fp/10602cde74a...           1642.0   \n",
              "\n",
              "   streetAddress             county           timeZone  \\\n",
              "0            500  Anchorage Borough  America/Anchorage   \n",
              "2            522  Anchorage Borough  America/Anchorage   \n",
              "4            530  Anchorage Borough  America/Anchorage   \n",
              "\n",
              "                                          taxHistory  \\\n",
              "0  [{'time': 1691996796990, 'valueIncreaseRate': ...   \n",
              "2  [{'time': 1691999146138, 'valueIncreaseRate': ...   \n",
              "4  [{'time': 1692004364225, 'valueIncreaseRate': ...   \n",
              "\n",
              "   annualHomeownersInsurance  ... bedrooms propertyTypeDimension  \\\n",
              "0                       2840  ...      3.0         Single Family   \n",
              "2                       4187  ...      4.0         Single Family   \n",
              "4                       2920  ...      5.0         Single Family   \n",
              "\n",
              "                                    mortgageZHLRates   price  favoriteCount  \\\n",
              "0  {'thirtyYearFixedBucket': {'rate': None, 'rate...  676100            0.0   \n",
              "2  {'thirtyYearFixedBucket': {'rate': None, 'rate...  996800            0.0   \n",
              "4  {'thirtyYearFixedBucket': {'rate': None, 'rate...  695300            0.0   \n",
              "\n",
              "  zestimateHighPercent                                     listingSubType  \\\n",
              "0                 13.0  {'is_FSBA': False, 'is_comingSoon': False, 'is...   \n",
              "2                 14.0  {'is_FSBA': False, 'is_comingSoon': False, 'is...   \n",
              "4                 16.0  {'is_FSBA': False, 'is_comingSoon': False, 'is...   \n",
              "\n",
              "  pageViewCount  country       homeType  \n",
              "0       12925.0      USA  SINGLE_FAMILY  \n",
              "2          21.0      USA  SINGLE_FAMILY  \n",
              "4          26.0      USA  SINGLE_FAMILY  \n",
              "\n",
              "[3 rows x 51 columns]"
            ],
            "text/html": [
              "\n",
              "  <div id=\"df-a4d533c2-1d9f-4f88-8aff-5b6f362f57bb\" class=\"colab-df-container\">\n",
              "    <div>\n",
              "<style scoped>\n",
              "    .dataframe tbody tr th:only-of-type {\n",
              "        vertical-align: middle;\n",
              "    }\n",
              "\n",
              "    .dataframe tbody tr th {\n",
              "        vertical-align: top;\n",
              "    }\n",
              "\n",
              "    .dataframe thead th {\n",
              "        text-align: right;\n",
              "    }\n",
              "</style>\n",
              "<table border=\"1\" class=\"dataframe\">\n",
              "  <thead>\n",
              "    <tr style=\"text-align: right;\">\n",
              "      <th></th>\n",
              "      <th>contact_recipients</th>\n",
              "      <th>longitude</th>\n",
              "      <th>countyFIPS</th>\n",
              "      <th>imgSrc</th>\n",
              "      <th>livingAreaValue</th>\n",
              "      <th>streetAddress</th>\n",
              "      <th>county</th>\n",
              "      <th>timeZone</th>\n",
              "      <th>taxHistory</th>\n",
              "      <th>annualHomeownersInsurance</th>\n",
              "      <th>...</th>\n",
              "      <th>bedrooms</th>\n",
              "      <th>propertyTypeDimension</th>\n",
              "      <th>mortgageZHLRates</th>\n",
              "      <th>price</th>\n",
              "      <th>favoriteCount</th>\n",
              "      <th>zestimateHighPercent</th>\n",
              "      <th>listingSubType</th>\n",
              "      <th>pageViewCount</th>\n",
              "      <th>country</th>\n",
              "      <th>homeType</th>\n",
              "    </tr>\n",
              "  </thead>\n",
              "  <tbody>\n",
              "    <tr>\n",
              "      <th>0</th>\n",
              "      <td>[{'agent_reason': 1, 'zpro': None, 'recent_sal...</td>\n",
              "      <td>-149.90807</td>\n",
              "      <td>2020.0</td>\n",
              "      <td>https://photos.zillowstatic.com/fp/ce047439c86...</td>\n",
              "      <td>2668.0</td>\n",
              "      <td>500</td>\n",
              "      <td>Anchorage Borough</td>\n",
              "      <td>America/Anchorage</td>\n",
              "      <td>[{'time': 1691996796990, 'valueIncreaseRate': ...</td>\n",
              "      <td>2840</td>\n",
              "      <td>...</td>\n",
              "      <td>3.0</td>\n",
              "      <td>Single Family</td>\n",
              "      <td>{'thirtyYearFixedBucket': {'rate': None, 'rate...</td>\n",
              "      <td>676100</td>\n",
              "      <td>0.0</td>\n",
              "      <td>13.0</td>\n",
              "      <td>{'is_FSBA': False, 'is_comingSoon': False, 'is...</td>\n",
              "      <td>12925.0</td>\n",
              "      <td>USA</td>\n",
              "      <td>SINGLE_FAMILY</td>\n",
              "    </tr>\n",
              "    <tr>\n",
              "      <th>2</th>\n",
              "      <td>[{'agent_reason': 1, 'zpro': None, 'recent_sal...</td>\n",
              "      <td>-149.90833</td>\n",
              "      <td>2020.0</td>\n",
              "      <td>https://maps.googleapis.com/maps/api/streetvie...</td>\n",
              "      <td>3059.0</td>\n",
              "      <td>522</td>\n",
              "      <td>Anchorage Borough</td>\n",
              "      <td>America/Anchorage</td>\n",
              "      <td>[{'time': 1691999146138, 'valueIncreaseRate': ...</td>\n",
              "      <td>4187</td>\n",
              "      <td>...</td>\n",
              "      <td>4.0</td>\n",
              "      <td>Single Family</td>\n",
              "      <td>{'thirtyYearFixedBucket': {'rate': None, 'rate...</td>\n",
              "      <td>996800</td>\n",
              "      <td>0.0</td>\n",
              "      <td>14.0</td>\n",
              "      <td>{'is_FSBA': False, 'is_comingSoon': False, 'is...</td>\n",
              "      <td>21.0</td>\n",
              "      <td>USA</td>\n",
              "      <td>SINGLE_FAMILY</td>\n",
              "    </tr>\n",
              "    <tr>\n",
              "      <th>4</th>\n",
              "      <td>[{'agent_reason': 1, 'zpro': None, 'recent_sal...</td>\n",
              "      <td>-149.90834</td>\n",
              "      <td>2020.0</td>\n",
              "      <td>https://photos.zillowstatic.com/fp/10602cde74a...</td>\n",
              "      <td>1642.0</td>\n",
              "      <td>530</td>\n",
              "      <td>Anchorage Borough</td>\n",
              "      <td>America/Anchorage</td>\n",
              "      <td>[{'time': 1692004364225, 'valueIncreaseRate': ...</td>\n",
              "      <td>2920</td>\n",
              "      <td>...</td>\n",
              "      <td>5.0</td>\n",
              "      <td>Single Family</td>\n",
              "      <td>{'thirtyYearFixedBucket': {'rate': None, 'rate...</td>\n",
              "      <td>695300</td>\n",
              "      <td>0.0</td>\n",
              "      <td>16.0</td>\n",
              "      <td>{'is_FSBA': False, 'is_comingSoon': False, 'is...</td>\n",
              "      <td>26.0</td>\n",
              "      <td>USA</td>\n",
              "      <td>SINGLE_FAMILY</td>\n",
              "    </tr>\n",
              "  </tbody>\n",
              "</table>\n",
              "<p>3 rows × 51 columns</p>\n",
              "</div>\n",
              "    <div class=\"colab-df-buttons\">\n",
              "\n",
              "  <div class=\"colab-df-container\">\n",
              "    <button class=\"colab-df-convert\" onclick=\"convertToInteractive('df-a4d533c2-1d9f-4f88-8aff-5b6f362f57bb')\"\n",
              "            title=\"Convert this dataframe to an interactive table.\"\n",
              "            style=\"display:none;\">\n",
              "\n",
              "  <svg xmlns=\"http://www.w3.org/2000/svg\" height=\"24px\" viewBox=\"0 -960 960 960\">\n",
              "    <path d=\"M120-120v-720h720v720H120Zm60-500h600v-160H180v160Zm220 220h160v-160H400v160Zm0 220h160v-160H400v160ZM180-400h160v-160H180v160Zm440 0h160v-160H620v160ZM180-180h160v-160H180v160Zm440 0h160v-160H620v160Z\"/>\n",
              "  </svg>\n",
              "    </button>\n",
              "\n",
              "  <style>\n",
              "    .colab-df-container {\n",
              "      display:flex;\n",
              "      gap: 12px;\n",
              "    }\n",
              "\n",
              "    .colab-df-convert {\n",
              "      background-color: #E8F0FE;\n",
              "      border: none;\n",
              "      border-radius: 50%;\n",
              "      cursor: pointer;\n",
              "      display: none;\n",
              "      fill: #1967D2;\n",
              "      height: 32px;\n",
              "      padding: 0 0 0 0;\n",
              "      width: 32px;\n",
              "    }\n",
              "\n",
              "    .colab-df-convert:hover {\n",
              "      background-color: #E2EBFA;\n",
              "      box-shadow: 0px 1px 2px rgba(60, 64, 67, 0.3), 0px 1px 3px 1px rgba(60, 64, 67, 0.15);\n",
              "      fill: #174EA6;\n",
              "    }\n",
              "\n",
              "    .colab-df-buttons div {\n",
              "      margin-bottom: 4px;\n",
              "    }\n",
              "\n",
              "    [theme=dark] .colab-df-convert {\n",
              "      background-color: #3B4455;\n",
              "      fill: #D2E3FC;\n",
              "    }\n",
              "\n",
              "    [theme=dark] .colab-df-convert:hover {\n",
              "      background-color: #434B5C;\n",
              "      box-shadow: 0px 1px 3px 1px rgba(0, 0, 0, 0.15);\n",
              "      filter: drop-shadow(0px 1px 2px rgba(0, 0, 0, 0.3));\n",
              "      fill: #FFFFFF;\n",
              "    }\n",
              "  </style>\n",
              "\n",
              "    <script>\n",
              "      const buttonEl =\n",
              "        document.querySelector('#df-a4d533c2-1d9f-4f88-8aff-5b6f362f57bb button.colab-df-convert');\n",
              "      buttonEl.style.display =\n",
              "        google.colab.kernel.accessAllowed ? 'block' : 'none';\n",
              "\n",
              "      async function convertToInteractive(key) {\n",
              "        const element = document.querySelector('#df-a4d533c2-1d9f-4f88-8aff-5b6f362f57bb');\n",
              "        const dataTable =\n",
              "          await google.colab.kernel.invokeFunction('convertToInteractive',\n",
              "                                                    [key], {});\n",
              "        if (!dataTable) return;\n",
              "\n",
              "        const docLinkHtml = 'Like what you see? Visit the ' +\n",
              "          '<a target=\"_blank\" href=https://colab.research.google.com/notebooks/data_table.ipynb>data table notebook</a>'\n",
              "          + ' to learn more about interactive tables.';\n",
              "        element.innerHTML = '';\n",
              "        dataTable['output_type'] = 'display_data';\n",
              "        await google.colab.output.renderOutput(dataTable, element);\n",
              "        const docLink = document.createElement('div');\n",
              "        docLink.innerHTML = docLinkHtml;\n",
              "        element.appendChild(docLink);\n",
              "      }\n",
              "    </script>\n",
              "  </div>\n",
              "\n",
              "\n",
              "<div id=\"df-06f099c2-aecf-48d8-b1fa-341f277fbf86\">\n",
              "  <button class=\"colab-df-quickchart\" onclick=\"quickchart('df-06f099c2-aecf-48d8-b1fa-341f277fbf86')\"\n",
              "            title=\"Suggest charts\"\n",
              "            style=\"display:none;\">\n",
              "\n",
              "<svg xmlns=\"http://www.w3.org/2000/svg\" height=\"24px\"viewBox=\"0 0 24 24\"\n",
              "     width=\"24px\">\n",
              "    <g>\n",
              "        <path d=\"M19 3H5c-1.1 0-2 .9-2 2v14c0 1.1.9 2 2 2h14c1.1 0 2-.9 2-2V5c0-1.1-.9-2-2-2zM9 17H7v-7h2v7zm4 0h-2V7h2v10zm4 0h-2v-4h2v4z\"/>\n",
              "    </g>\n",
              "</svg>\n",
              "  </button>\n",
              "\n",
              "<style>\n",
              "  .colab-df-quickchart {\n",
              "      --bg-color: #E8F0FE;\n",
              "      --fill-color: #1967D2;\n",
              "      --hover-bg-color: #E2EBFA;\n",
              "      --hover-fill-color: #174EA6;\n",
              "      --disabled-fill-color: #AAA;\n",
              "      --disabled-bg-color: #DDD;\n",
              "  }\n",
              "\n",
              "  [theme=dark] .colab-df-quickchart {\n",
              "      --bg-color: #3B4455;\n",
              "      --fill-color: #D2E3FC;\n",
              "      --hover-bg-color: #434B5C;\n",
              "      --hover-fill-color: #FFFFFF;\n",
              "      --disabled-bg-color: #3B4455;\n",
              "      --disabled-fill-color: #666;\n",
              "  }\n",
              "\n",
              "  .colab-df-quickchart {\n",
              "    background-color: var(--bg-color);\n",
              "    border: none;\n",
              "    border-radius: 50%;\n",
              "    cursor: pointer;\n",
              "    display: none;\n",
              "    fill: var(--fill-color);\n",
              "    height: 32px;\n",
              "    padding: 0;\n",
              "    width: 32px;\n",
              "  }\n",
              "\n",
              "  .colab-df-quickchart:hover {\n",
              "    background-color: var(--hover-bg-color);\n",
              "    box-shadow: 0 1px 2px rgba(60, 64, 67, 0.3), 0 1px 3px 1px rgba(60, 64, 67, 0.15);\n",
              "    fill: var(--button-hover-fill-color);\n",
              "  }\n",
              "\n",
              "  .colab-df-quickchart-complete:disabled,\n",
              "  .colab-df-quickchart-complete:disabled:hover {\n",
              "    background-color: var(--disabled-bg-color);\n",
              "    fill: var(--disabled-fill-color);\n",
              "    box-shadow: none;\n",
              "  }\n",
              "\n",
              "  .colab-df-spinner {\n",
              "    border: 2px solid var(--fill-color);\n",
              "    border-color: transparent;\n",
              "    border-bottom-color: var(--fill-color);\n",
              "    animation:\n",
              "      spin 1s steps(1) infinite;\n",
              "  }\n",
              "\n",
              "  @keyframes spin {\n",
              "    0% {\n",
              "      border-color: transparent;\n",
              "      border-bottom-color: var(--fill-color);\n",
              "      border-left-color: var(--fill-color);\n",
              "    }\n",
              "    20% {\n",
              "      border-color: transparent;\n",
              "      border-left-color: var(--fill-color);\n",
              "      border-top-color: var(--fill-color);\n",
              "    }\n",
              "    30% {\n",
              "      border-color: transparent;\n",
              "      border-left-color: var(--fill-color);\n",
              "      border-top-color: var(--fill-color);\n",
              "      border-right-color: var(--fill-color);\n",
              "    }\n",
              "    40% {\n",
              "      border-color: transparent;\n",
              "      border-right-color: var(--fill-color);\n",
              "      border-top-color: var(--fill-color);\n",
              "    }\n",
              "    60% {\n",
              "      border-color: transparent;\n",
              "      border-right-color: var(--fill-color);\n",
              "    }\n",
              "    80% {\n",
              "      border-color: transparent;\n",
              "      border-right-color: var(--fill-color);\n",
              "      border-bottom-color: var(--fill-color);\n",
              "    }\n",
              "    90% {\n",
              "      border-color: transparent;\n",
              "      border-bottom-color: var(--fill-color);\n",
              "    }\n",
              "  }\n",
              "</style>\n",
              "\n",
              "  <script>\n",
              "    async function quickchart(key) {\n",
              "      const quickchartButtonEl =\n",
              "        document.querySelector('#' + key + ' button');\n",
              "      quickchartButtonEl.disabled = true;  // To prevent multiple clicks.\n",
              "      quickchartButtonEl.classList.add('colab-df-spinner');\n",
              "      try {\n",
              "        const charts = await google.colab.kernel.invokeFunction(\n",
              "            'suggestCharts', [key], {});\n",
              "      } catch (error) {\n",
              "        console.error('Error during call to suggestCharts:', error);\n",
              "      }\n",
              "      quickchartButtonEl.classList.remove('colab-df-spinner');\n",
              "      quickchartButtonEl.classList.add('colab-df-quickchart-complete');\n",
              "    }\n",
              "    (() => {\n",
              "      let quickchartButtonEl =\n",
              "        document.querySelector('#df-06f099c2-aecf-48d8-b1fa-341f277fbf86 button');\n",
              "      quickchartButtonEl.style.display =\n",
              "        google.colab.kernel.accessAllowed ? 'block' : 'none';\n",
              "    })();\n",
              "  </script>\n",
              "</div>\n",
              "    </div>\n",
              "  </div>\n"
            ],
            "application/vnd.google.colaboratory.intrinsic+json": {
              "type": "dataframe",
              "variable_name": "df"
            }
          },
          "metadata": {},
          "execution_count": 11
        }
      ]
    },
    {
      "cell_type": "markdown",
      "source": [
        "# other"
      ],
      "metadata": {
        "id": "VJbibElq2Hra"
      }
    },
    {
      "cell_type": "code",
      "source": [
        "file_path = ''"
      ],
      "metadata": {
        "id": "0_ICAHvmaqKY"
      },
      "execution_count": null,
      "outputs": []
    },
    {
      "cell_type": "code",
      "source": [
        "df = pd.read_csv(file_path, engine=\"pyarrow\")"
      ],
      "metadata": {
        "id": "6vos5D1l2MQo"
      },
      "execution_count": null,
      "outputs": []
    },
    {
      "cell_type": "code",
      "source": [
        "df = pd.read_parquet(file_path, engine=\"fastparquet\")"
      ],
      "metadata": {
        "id": "e3mzuT072f5K"
      },
      "execution_count": null,
      "outputs": []
    },
    {
      "cell_type": "code",
      "source": [
        "df.to_pickle(file_path, compression='gzip')\n",
        "df = pd.read_pickle(file_path, compression='gzip')"
      ],
      "metadata": {
        "id": "WshiRX6jaZ-1"
      },
      "execution_count": null,
      "outputs": []
    },
    {
      "cell_type": "code",
      "source": [
        "df = pd.read_excel(file_path\n",
        "        engine='openpyxl'\n",
        ")"
      ],
      "metadata": {
        "id": "v8UntOrs2mcF"
      },
      "execution_count": null,
      "outputs": []
    },
    {
      "cell_type": "markdown",
      "source": [
        "# Preprocesses"
      ],
      "metadata": {
        "id": "YMRxYc2y28dm"
      }
    },
    {
      "cell_type": "code",
      "source": [
        "numerical_columns = train.drop(columns=target).describe().columns\n",
        "cols = numerical_columns\n",
        "categorical_columns = set(train.drop(columns=target).columns) - set(numerical_columns)"
      ],
      "metadata": {
        "id": "anzDSeEO19lW"
      },
      "execution_count": 12,
      "outputs": []
    },
    {
      "cell_type": "markdown",
      "source": [
        "## EDA"
      ],
      "metadata": {
        "id": "cmytVU50llF6"
      }
    },
    {
      "cell_type": "code",
      "source": [
        "list(cols) + [target]"
      ],
      "metadata": {
        "collapsed": true,
        "colab": {
          "base_uri": "https://localhost:8080/"
        },
        "id": "o-4gF6x-52EV",
        "outputId": "197cecd5-94a1-4115-d65d-0ac21e684149"
      },
      "execution_count": 22,
      "outputs": [
        {
          "output_type": "execute_result",
          "data": {
            "text/plain": [
              "['longitude',\n",
              " 'countyFIPS',\n",
              " 'livingAreaValue',\n",
              " 'streetAddress',\n",
              " 'annualHomeownersInsurance',\n",
              " 'yearBuilt',\n",
              " 'latitude',\n",
              " 'rentZestimate',\n",
              " 'zestimateLowPercent',\n",
              " 'cityId',\n",
              " 'timeOnZillow',\n",
              " 'zestimate',\n",
              " 'zpid',\n",
              " 'countyId',\n",
              " 'livingArea',\n",
              " 'stateId',\n",
              " 'propertyTaxRate',\n",
              " 'bathrooms',\n",
              " 'bedrooms',\n",
              " 'favoriteCount',\n",
              " 'zestimateHighPercent',\n",
              " 'pageViewCount',\n",
              " 'price']"
            ]
          },
          "metadata": {},
          "execution_count": 22
        }
      ]
    },
    {
      "cell_type": "code",
      "source": [
        "!pip install sweetviz\n",
        "import sweetviz as sv\n",
        "report = sv.analyze([df, \" Permit Logs\"])\n",
        "report.show_html('common analysis.html')"
      ],
      "metadata": {
        "colab": {
          "base_uri": "https://localhost:8080/",
          "height": 0,
          "referenced_widgets": [
            "02b339d03c85415f9716ee6b116205fa",
            "aba46963a61a4a97afe2136b669864fe",
            "8e32b3e8a9334a39a7d4cf3d9e6ada60",
            "7cc291ef77d849e78be924ff49451074",
            "7e3f858332e446498fc510a6c6f0afee",
            "9b822c8e019044d6936e1c92f1fd0ba6",
            "785528d1a1e84274b1c7be3fc1bd43ab",
            "54c2eccbab034f15b18c4fd421ee8667",
            "f889b2ddd0c34736a21fdd5e530cbfb2",
            "4bc1ac6a693b43b6ac42e613f9d2247e",
            "7b0993a5f44f49e48ceae8988604545d"
          ]
        },
        "id": "JoShQxKkc2Tg",
        "outputId": "66ef591b-5524-4279-a588-9bbc1bc8eacc"
      },
      "execution_count": 27,
      "outputs": [
        {
          "output_type": "display_data",
          "data": {
            "text/plain": [
              "                                             |          | [  0%]   00:00 -> (? left)"
            ],
            "application/vnd.jupyter.widget-view+json": {
              "version_major": 2,
              "version_minor": 0,
              "model_id": "02b339d03c85415f9716ee6b116205fa"
            }
          },
          "metadata": {}
        }
      ]
    },
    {
      "cell_type": "markdown",
      "source": [
        "график по nan в прорцентах и абсолют"
      ],
      "metadata": {
        "id": "hzLvhodhzk2q"
      }
    },
    {
      "cell_type": "code",
      "source": [
        "variables = df.columns\n",
        "count = []\n",
        "for variable in variables:\n",
        "    length = df[variable].count()\n",
        "    count.append(length)\n",
        "count_pct = np.round(100 * pd.Series(count) / len(df), 2)\n",
        "count = pd.Series(count)\n",
        "missing = pd.DataFrame()\n",
        "missing['variables'] = variables\n",
        "missing['count'] = len(df) - count\n",
        "missing['count_pct'] = 100 - count_pct\n",
        "missing = missing[missing['count_pct'] > 0]\n",
        "missing.sort_values(by=['count_pct'], inplace=True)\n",
        "missing_train = np.array(missing['variables'])\n",
        "plt.subplots(figsize=(15,6))\n",
        "plt.subplot(1,2,1)\n",
        "plt.barh(missing['variables'], missing['count_pct'])\n",
        "plt.title('Count of missing training data in percent', fontsize=15)\n",
        "plt.subplot(1,2,2)\n",
        "plt.barh(missing['variables'], missing['count'])\n",
        "plt.title('Count of missing training data as total records', fontsize=15)\n",
        "plt.show()"
      ],
      "metadata": {
        "id": "6-lFD6yNzjyA"
      },
      "execution_count": null,
      "outputs": []
    },
    {
      "cell_type": "markdown",
      "source": [],
      "metadata": {
        "id": "FamaLrpezs33"
      }
    },
    {
      "cell_type": "code",
      "source": [
        "plt.figure(figsize=(3,5))\n",
        "sns.heatmap(df[list(cols) + [target]].corr()[[target]], annot=True, cmap='PiYG')\n",
        "plt.title(\"Feature Correlation Matrix\",fontsize=20)\n",
        "plt.show()"
      ],
      "metadata": {
        "colab": {
          "base_uri": "https://localhost:8080/",
          "height": 0
        },
        "collapsed": true,
        "id": "wyJlxezmsjSB",
        "outputId": "4532af12-cabf-4f82-e8fd-7d148dd9c8f8"
      },
      "execution_count": 23,
      "outputs": [
        {
          "output_type": "display_data",
          "data": {
            "text/plain": [
              "<Figure size 300x500 with 2 Axes>"
            ],
            "image/png": "[encoded data removed]"
          },
          "metadata": {}
        }
      ]
    },
    {
      "cell_type": "code",
      "source": [
        "cat_cols = df.select_dtypes('object').columns"
      ],
      "metadata": {
        "id": "vzQUnLJS8zf8"
      },
      "execution_count": null,
      "outputs": []
    },
    {
      "cell_type": "code",
      "source": [
        "sns.boxplot(df[cols]) # MinMaxScaler"
      ],
      "metadata": {
        "colab": {
          "base_uri": "https://localhost:8080/",
          "height": 0
        },
        "collapsed": true,
        "id": "X841EpmA92l9",
        "outputId": "353781e4-ff9a-40b5-bc26-80bbf6861d43"
      },
      "execution_count": 21,
      "outputs": [
        {
          "output_type": "execute_result",
          "data": {
            "text/plain": [
              "<Axes: >"
            ]
          },
          "metadata": {},
          "execution_count": 21
        },
        {
          "output_type": "display_data",
          "data": {
            "text/plain": [
              "<Figure size 640x480 with 1 Axes>"
            ],
            "image/png": "[encoded data removed]"
          },
          "metadata": {}
        }
      ]
    },
    {
      "cell_type": "markdown",
      "source": [
        "## corr and quantile, other"
      ],
      "metadata": {
        "id": "5QEzrNl7yjvQ"
      }
    },
    {
      "cell_type": "code",
      "source": [],
      "metadata": {
        "id": "xum8sFENXTAU"
      },
      "execution_count": null,
      "outputs": []
    },
    {
      "cell_type": "code",
      "source": [
        "from sklearn.impute import SimpleImputer\n",
        "\n",
        "for col in numerical_columns:\n",
        "    si = SimpleImputer(strategy='median')\n",
        "    train[col] = si.fit_transform(train[col].values.reshape(-1, 1))\n",
        "    test[col] = si.fit_transform(test[col].values.reshape(-1, 1))\n",
        "\n",
        "for col in categorical_columns:\n",
        "    si = SimpleImputer(strategy='most_frequent')\n",
        "    train[col] = si.fit_transform(train[col].values.reshape(-1, 1))\n",
        "    test[col] = si.fit_transform(test[col].values.reshape(-1, 1))"
      ],
      "metadata": {
        "id": "0akpQGP59ZgM"
      },
      "execution_count": null,
      "outputs": []
    },
    {
      "cell_type": "code",
      "source": [
        "def drop_highly_corr_columns(df, target, threshold=0.8):\n",
        "    corr_matrix = df.drop(columns=target).select_dtypes(['float64', 'int64']).corr().abs()\n",
        "    cols = corr_matrix.sum().sort_values(ascending=False).index\n",
        "    columns_to_drop = set()\n",
        "    for i in cols:\n",
        "      for j in cols:\n",
        "        if i==j: continue\n",
        "        if corr_matrix.loc[i, j] > threshold and not j in columns_to_drop:\n",
        "            columns_to_drop.add(i)\n",
        "    return list(columns_to_drop)"
      ],
      "metadata": {
        "id": "wjvbRjxPnnLG"
      },
      "execution_count": null,
      "outputs": []
    },
    {
      "cell_type": "code",
      "source": [
        "def remove_outliers_by_percentiles(df, columns, lower_percentile=0.5, upper_percentile=99.5, max_removal_percentage=0.05):\n",
        "    original_shape = df.shape\n",
        "    for column in columns:\n",
        "        if column in df.columns:\n",
        "            lower_bound = df[column].quantile(lower_percentile / 100)\n",
        "            upper_bound = df[column].quantile(upper_percentile / 100)\n",
        "            mask = (df[column] >= lower_bound) & (df[column] <= upper_bound)\n",
        "            mask_l = (df[column] >= lower_bound)\n",
        "            mask_r = (df[column] <= upper_bound)\n",
        "            rows_to_remove = original_shape[0] - mask.sum()\n",
        "            rows_to_remove_l = original_shape[0] - mask_l.sum()\n",
        "            rows_to_remove_r = original_shape[0] - mask_r.sum()\n",
        "            mx = original_shape[0] * max_removal_percentage\n",
        "            if rows_to_remove_l > mx and rows_to_remove_r > mx:\n",
        "                print(f\"Предупреждение: В колонне '{column}' удаляется {rows_to_remove} строк ({(rows_to_remove / original_shape[0]) * 100:.2f}%), что превышает допустимый порог.\")\n",
        "                continue\n",
        "            elif rows_to_remove_l > mx:\n",
        "                df = df[mask_r]\n",
        "            elif rows_to_remove_r > mx:\n",
        "                df = df[mask_l]\n",
        "            else:\n",
        "                df = df[mask]\n",
        "    return df"
      ],
      "metadata": {
        "id": "-JXaNvLHrK77"
      },
      "execution_count": 17,
      "outputs": []
    },
    {
      "cell_type": "code",
      "source": [
        "columns_to_drop = drop_highly_corr_columns(df, target, threshold=0.95)\n",
        "columns_to_drop"
      ],
      "metadata": {
        "id": "pGB5GfQfnvoG"
      },
      "execution_count": null,
      "outputs": []
    },
    {
      "cell_type": "code",
      "source": [
        "cols = ['longitude', 'countyFIPS', 'yearBuilt', 'latitude', 'favoriteCount', 'pageViewCount', 'bedrooms', 'bathrooms']"
      ],
      "metadata": {
        "id": "EJzDdmdhs1AE"
      },
      "execution_count": null,
      "outputs": []
    },
    {
      "cell_type": "code",
      "source": [
        "df[cols].hist(bins=50, figsize=(10, 10))"
      ],
      "metadata": {
        "colab": {
          "base_uri": "https://localhost:8080/",
          "height": 992
        },
        "collapsed": true,
        "id": "PxTixe7dsu7T",
        "outputId": "5c8844f4-3bf8-4c81-b134-87beaf820b52"
      },
      "execution_count": null,
      "outputs": [
        {
          "output_type": "execute_result",
          "data": {
            "text/plain": [
              "array([[<Axes: title={'center': 'longitude'}>,\n",
              "        <Axes: title={'center': 'countyFIPS'}>,\n",
              "        <Axes: title={'center': 'yearBuilt'}>],\n",
              "       [<Axes: title={'center': 'latitude'}>,\n",
              "        <Axes: title={'center': 'favoriteCount'}>,\n",
              "        <Axes: title={'center': 'pageViewCount'}>],\n",
              "       [<Axes: title={'center': 'bedrooms'}>,\n",
              "        <Axes: title={'center': 'bathrooms'}>, <Axes: >]], dtype=object)"
            ]
          },
          "metadata": {},
          "execution_count": 64
        },
        {
          "output_type": "display_data",
          "data": {
            "text/plain": [
              "<Figure size 1000x1000 with 9 Axes>"
            ],
            "image/png": "[encoded data removed]"
          },
          "metadata": {}
        }
      ]
    },
    {
      "cell_type": "code",
      "source": [
        "df = remove_outliers_by_percentiles(df, columns=cols)"
      ],
      "metadata": {
        "colab": {
          "base_uri": "https://localhost:8080/"
        },
        "collapsed": true,
        "id": "0EIhC8KQtmzN",
        "outputId": "38639d46-78cf-45d2-ad50-5e196118f17c"
      },
      "execution_count": 20,
      "outputs": [
        {
          "output_type": "stream",
          "name": "stdout",
          "text": [
            "Предупреждение: В колонне 'latitude' удаляется 267 строк (5.78%), что превышает допустимый порог.\n",
            "Предупреждение: В колонне 'rentZestimate' удаляется 267 строк (5.78%), что превышает допустимый порог.\n",
            "Предупреждение: В колонне 'zestimateLowPercent' удаляется 250 строк (5.41%), что превышает допустимый порог.\n",
            "Предупреждение: В колонне 'timeOnZillow' удаляется 265 строк (5.73%), что превышает допустимый порог.\n",
            "Предупреждение: В колонне 'zestimate' удаляется 266 строк (5.76%), что превышает допустимый порог.\n",
            "Предупреждение: В колонне 'zpid' удаляется 267 строк (5.78%), что превышает допустимый порог.\n",
            "Предупреждение: В колонне 'livingArea' удаляется 267 строк (5.78%), что превышает допустимый порог.\n",
            "Предупреждение: В колонне 'bathrooms' удаляется 257 строк (5.56%), что превышает допустимый порог.\n",
            "Предупреждение: В колонне 'zestimateHighPercent' удаляется 254 строк (5.50%), что превышает допустимый порог.\n"
          ]
        }
      ]
    },
    {
      "cell_type": "code",
      "source": [
        "cleaned_df.shape, df.shape"
      ],
      "metadata": {
        "colab": {
          "base_uri": "https://localhost:8080/"
        },
        "collapsed": true,
        "id": "APSl2AFUr02a",
        "outputId": "ec3289dc-f487-48c4-b034-81d247c6422b"
      },
      "execution_count": null,
      "outputs": [
        {
          "output_type": "execute_result",
          "data": {
            "text/plain": [
              "((4397, 51), (4397, 51))"
            ]
          },
          "metadata": {},
          "execution_count": 199
        }
      ]
    },
    {
      "cell_type": "code",
      "source": [
        "df = cleaned_df"
      ],
      "metadata": {
        "id": "jrpJUmFqu6fg"
      },
      "execution_count": null,
      "outputs": []
    },
    {
      "cell_type": "code",
      "source": [
        "cleaned_df[cols].hist(bins=50, figsize=(10, 10))"
      ],
      "metadata": {
        "id": "dmlhYqZtJT9s",
        "colab": {
          "base_uri": "https://localhost:8080/",
          "height": 992
        },
        "collapsed": true,
        "outputId": "d9c4c8ec-30b2-443a-f25a-875270f1e082"
      },
      "execution_count": null,
      "outputs": [
        {
          "output_type": "execute_result",
          "data": {
            "text/plain": [
              "array([[<Axes: title={'center': 'longitude'}>,\n",
              "        <Axes: title={'center': 'countyFIPS'}>,\n",
              "        <Axes: title={'center': 'yearBuilt'}>],\n",
              "       [<Axes: title={'center': 'latitude'}>,\n",
              "        <Axes: title={'center': 'favoriteCount'}>,\n",
              "        <Axes: title={'center': 'pageViewCount'}>],\n",
              "       [<Axes: title={'center': 'bedrooms'}>,\n",
              "        <Axes: title={'center': 'bathrooms'}>, <Axes: >]], dtype=object)"
            ]
          },
          "metadata": {},
          "execution_count": 72
        },
        {
          "output_type": "display_data",
          "data": {
            "text/plain": [
              "<Figure size 1000x1000 with 9 Axes>"
            ],
            "image/png": "[encoded data removed]"
          },
          "metadata": {}
        }
      ]
    },
    {
      "cell_type": "code",
      "source": [],
      "metadata": {
        "id": "Zo2wQ57dtjEF"
      },
      "execution_count": null,
      "outputs": []
    },
    {
      "cell_type": "markdown",
      "source": [
        "## cat фичи"
      ],
      "metadata": {
        "id": "Ft96D9wF3Akd"
      }
    },
    {
      "cell_type": "markdown",
      "source": [
        "### func"
      ],
      "metadata": {
        "id": "ZAVVJMI37Cpg"
      }
    },
    {
      "cell_type": "code",
      "source": [],
      "metadata": {
        "id": "V33wuyhrQ8a8"
      },
      "execution_count": null,
      "outputs": []
    },
    {
      "cell_type": "code",
      "source": [
        "df.unique()"
      ],
      "metadata": {
        "id": "ob6uHjU8Q9mp"
      },
      "execution_count": null,
      "outputs": []
    },
    {
      "cell_type": "code",
      "source": [
        "df.loc[0]"
      ],
      "metadata": {
        "colab": {
          "base_uri": "https://localhost:8080/",
          "height": 1000
        },
        "id": "2MVGrQ8MGlWj",
        "outputId": "a9e2e34a-ef00-4237-eaaf-456f3a58f3c3"
      },
      "execution_count": 29,
      "outputs": [
        {
          "output_type": "execute_result",
          "data": {
            "text/plain": [
              "contact_recipients           [{'agent_reason': 1, 'zpro': None, 'recent_sal...\n",
              "longitude                                                           -149.90807\n",
              "countyFIPS                                                              2020.0\n",
              "imgSrc                       https://photos.zillowstatic.com/fp/ce047439c86...\n",
              "livingAreaValue                                                         2668.0\n",
              "streetAddress                                                              500\n",
              "county                                                       Anchorage Borough\n",
              "timeZone                                                     America/Anchorage\n",
              "taxHistory                   [{'time': 1691996796990, 'valueIncreaseRate': ...\n",
              "annualHomeownersInsurance                                                 2840\n",
              "state                                                                       AK\n",
              "listed_by                    {'agent_reason': None, 'zpro': None, 'recent_s...\n",
              "yearBuilt                                                               1959.0\n",
              "description                  This 2668 square foot single family home has 3...\n",
              "latitude                                                             61.217308\n",
              "nearbyHomes                  [{'livingArea': 3179, 'livingAreaValue': 3179,...\n",
              "priceHistory                 [{'priceChangeRate': 0, 'date': '2014-09-26', ...\n",
              "schools                      [{'link': 'https://www.greatschools.org/alaska...\n",
              "rentZestimate                                                           3142.0\n",
              "city                                                                 Anchorage\n",
              "currency                                                                   USD\n",
              "listingProvider              {'enhancedVideoURL': None, 'showNoContactInfoM...\n",
              "zestimateLowPercent                                                       12.0\n",
              "openHouseSchedule                                                           {}\n",
              "mortgageRates                                    {'thirtyYearFixedRate': None}\n",
              "address                      {'community': None, 'city': 'Anchorage', 'stat...\n",
              "cityId                                                                 23482.0\n",
              "timeOnZillow                                                              3609\n",
              "url                          /homedetails/500-North-St-Anchorage-AK-99501/1...\n",
              "zestimate                                                             676100.0\n",
              "zpid                                                                       1.0\n",
              "countyId                                                                2616.0\n",
              "livingAreaUnits                                                           sqft\n",
              "livingArea                                                              2668.0\n",
              "stateId                                                                    3.0\n",
              "zipcode                                                                  99501\n",
              "propertyTaxRate                                                           1.31\n",
              "attributionInfo              {'buyerAgentName': None, 'mlsName': None, 'coA...\n",
              "bathrooms                                                                  2.0\n",
              "homeStatus                                                               OTHER\n",
              "resoFacts                    {'hasAttachedProperty': False, 'frontageType':...\n",
              "bedrooms                                                                   3.0\n",
              "propertyTypeDimension                                            Single Family\n",
              "mortgageZHLRates             {'thirtyYearFixedBucket': {'rate': None, 'rate...\n",
              "price                                                                   676100\n",
              "favoriteCount                                                              0.0\n",
              "zestimateHighPercent                                                      13.0\n",
              "listingSubType               {'is_FSBA': False, 'is_comingSoon': False, 'is...\n",
              "pageViewCount                                                          12925.0\n",
              "country                                                                    USA\n",
              "homeType                                                         SINGLE_FAMILY\n",
              "Name: 0, dtype: object"
            ],
            "text/html": [
              "<div>\n",
              "<style scoped>\n",
              "    .dataframe tbody tr th:only-of-type {\n",
              "        vertical-align: middle;\n",
              "    }\n",
              "\n",
              "    .dataframe tbody tr th {\n",
              "        vertical-align: top;\n",
              "    }\n",
              "\n",
              "    .dataframe thead th {\n",
              "        text-align: right;\n",
              "    }\n",
              "</style>\n",
              "<table border=\"1\" class=\"dataframe\">\n",
              "  <thead>\n",
              "    <tr style=\"text-align: right;\">\n",
              "      <th></th>\n",
              "      <th>0</th>\n",
              "    </tr>\n",
              "  </thead>\n",
              "  <tbody>\n",
              "    <tr>\n",
              "      <th>contact_recipients</th>\n",
              "      <td>[{'agent_reason': 1, 'zpro': None, 'recent_sal...</td>\n",
              "    </tr>\n",
              "    <tr>\n",
              "      <th>longitude</th>\n",
              "      <td>-149.90807</td>\n",
              "    </tr>\n",
              "    <tr>\n",
              "      <th>countyFIPS</th>\n",
              "      <td>2020.0</td>\n",
              "    </tr>\n",
              "    <tr>\n",
              "      <th>imgSrc</th>\n",
              "      <td>https://photos.zillowstatic.com/fp/ce047439c86...</td>\n",
              "    </tr>\n",
              "    <tr>\n",
              "      <th>livingAreaValue</th>\n",
              "      <td>2668.0</td>\n",
              "    </tr>\n",
              "    <tr>\n",
              "      <th>streetAddress</th>\n",
              "      <td>500</td>\n",
              "    </tr>\n",
              "    <tr>\n",
              "      <th>county</th>\n",
              "      <td>Anchorage Borough</td>\n",
              "    </tr>\n",
              "    <tr>\n",
              "      <th>timeZone</th>\n",
              "      <td>America/Anchorage</td>\n",
              "    </tr>\n",
              "    <tr>\n",
              "      <th>taxHistory</th>\n",
              "      <td>[{'time': 1691996796990, 'valueIncreaseRate': ...</td>\n",
              "    </tr>\n",
              "    <tr>\n",
              "      <th>annualHomeownersInsurance</th>\n",
              "      <td>2840</td>\n",
              "    </tr>\n",
              "    <tr>\n",
              "      <th>state</th>\n",
              "      <td>AK</td>\n",
              "    </tr>\n",
              "    <tr>\n",
              "      <th>listed_by</th>\n",
              "      <td>{'agent_reason': None, 'zpro': None, 'recent_s...</td>\n",
              "    </tr>\n",
              "    <tr>\n",
              "      <th>yearBuilt</th>\n",
              "      <td>1959.0</td>\n",
              "    </tr>\n",
              "    <tr>\n",
              "      <th>description</th>\n",
              "      <td>This 2668 square foot single family home has 3...</td>\n",
              "    </tr>\n",
              "    <tr>\n",
              "      <th>latitude</th>\n",
              "      <td>61.217308</td>\n",
              "    </tr>\n",
              "    <tr>\n",
              "      <th>nearbyHomes</th>\n",
              "      <td>[{'livingArea': 3179, 'livingAreaValue': 3179,...</td>\n",
              "    </tr>\n",
              "    <tr>\n",
              "      <th>priceHistory</th>\n",
              "      <td>[{'priceChangeRate': 0, 'date': '2014-09-26', ...</td>\n",
              "    </tr>\n",
              "    <tr>\n",
              "      <th>schools</th>\n",
              "      <td>[{'link': 'https://www.greatschools.org/alaska...</td>\n",
              "    </tr>\n",
              "    <tr>\n",
              "      <th>rentZestimate</th>\n",
              "      <td>3142.0</td>\n",
              "    </tr>\n",
              "    <tr>\n",
              "      <th>city</th>\n",
              "      <td>Anchorage</td>\n",
              "    </tr>\n",
              "    <tr>\n",
              "      <th>currency</th>\n",
              "      <td>USD</td>\n",
              "    </tr>\n",
              "    <tr>\n",
              "      <th>listingProvider</th>\n",
              "      <td>{'enhancedVideoURL': None, 'showNoContactInfoM...</td>\n",
              "    </tr>\n",
              "    <tr>\n",
              "      <th>zestimateLowPercent</th>\n",
              "      <td>12.0</td>\n",
              "    </tr>\n",
              "    <tr>\n",
              "      <th>openHouseSchedule</th>\n",
              "      <td>{}</td>\n",
              "    </tr>\n",
              "    <tr>\n",
              "      <th>mortgageRates</th>\n",
              "      <td>{'thirtyYearFixedRate': None}</td>\n",
              "    </tr>\n",
              "    <tr>\n",
              "      <th>address</th>\n",
              "      <td>{'community': None, 'city': 'Anchorage', 'stat...</td>\n",
              "    </tr>\n",
              "    <tr>\n",
              "      <th>cityId</th>\n",
              "      <td>23482.0</td>\n",
              "    </tr>\n",
              "    <tr>\n",
              "      <th>timeOnZillow</th>\n",
              "      <td>3609</td>\n",
              "    </tr>\n",
              "    <tr>\n",
              "      <th>url</th>\n",
              "      <td>/homedetails/500-North-St-Anchorage-AK-99501/1...</td>\n",
              "    </tr>\n",
              "    <tr>\n",
              "      <th>zestimate</th>\n",
              "      <td>676100.0</td>\n",
              "    </tr>\n",
              "    <tr>\n",
              "      <th>zpid</th>\n",
              "      <td>1.0</td>\n",
              "    </tr>\n",
              "    <tr>\n",
              "      <th>countyId</th>\n",
              "      <td>2616.0</td>\n",
              "    </tr>\n",
              "    <tr>\n",
              "      <th>livingAreaUnits</th>\n",
              "      <td>sqft</td>\n",
              "    </tr>\n",
              "    <tr>\n",
              "      <th>livingArea</th>\n",
              "      <td>2668.0</td>\n",
              "    </tr>\n",
              "    <tr>\n",
              "      <th>stateId</th>\n",
              "      <td>3.0</td>\n",
              "    </tr>\n",
              "    <tr>\n",
              "      <th>zipcode</th>\n",
              "      <td>99501</td>\n",
              "    </tr>\n",
              "    <tr>\n",
              "      <th>propertyTaxRate</th>\n",
              "      <td>1.31</td>\n",
              "    </tr>\n",
              "    <tr>\n",
              "      <th>attributionInfo</th>\n",
              "      <td>{'buyerAgentName': None, 'mlsName': None, 'coA...</td>\n",
              "    </tr>\n",
              "    <tr>\n",
              "      <th>bathrooms</th>\n",
              "      <td>2.0</td>\n",
              "    </tr>\n",
              "    <tr>\n",
              "      <th>homeStatus</th>\n",
              "      <td>OTHER</td>\n",
              "    </tr>\n",
              "    <tr>\n",
              "      <th>resoFacts</th>\n",
              "      <td>{'hasAttachedProperty': False, 'frontageType':...</td>\n",
              "    </tr>\n",
              "    <tr>\n",
              "      <th>bedrooms</th>\n",
              "      <td>3.0</td>\n",
              "    </tr>\n",
              "    <tr>\n",
              "      <th>propertyTypeDimension</th>\n",
              "      <td>Single Family</td>\n",
              "    </tr>\n",
              "    <tr>\n",
              "      <th>mortgageZHLRates</th>\n",
              "      <td>{'thirtyYearFixedBucket': {'rate': None, 'rate...</td>\n",
              "    </tr>\n",
              "    <tr>\n",
              "      <th>price</th>\n",
              "      <td>676100</td>\n",
              "    </tr>\n",
              "    <tr>\n",
              "      <th>favoriteCount</th>\n",
              "      <td>0.0</td>\n",
              "    </tr>\n",
              "    <tr>\n",
              "      <th>zestimateHighPercent</th>\n",
              "      <td>13.0</td>\n",
              "    </tr>\n",
              "    <tr>\n",
              "      <th>listingSubType</th>\n",
              "      <td>{'is_FSBA': False, 'is_comingSoon': False, 'is...</td>\n",
              "    </tr>\n",
              "    <tr>\n",
              "      <th>pageViewCount</th>\n",
              "      <td>12925.0</td>\n",
              "    </tr>\n",
              "    <tr>\n",
              "      <th>country</th>\n",
              "      <td>USA</td>\n",
              "    </tr>\n",
              "    <tr>\n",
              "      <th>homeType</th>\n",
              "      <td>SINGLE_FAMILY</td>\n",
              "    </tr>\n",
              "  </tbody>\n",
              "</table>\n",
              "</div><br><label><b>dtype:</b> object</label>"
            ]
          },
          "metadata": {},
          "execution_count": 29
        }
      ]
    },
    {
      "cell_type": "code",
      "source": [
        "df['timestamp'] = pd.to_datetime(df['timeOnZillow'])\n",
        "df['year'] = df['timestamp'].dt.year\n",
        "df['month'] = df['timestamp'].dt.month\n",
        "df['day'] = df['timestamp'].dt.day\n",
        "df['day_of_week'] = df['timestamp'].dt.dayofweek\n",
        "df['hour'] = df['timestamp'].dt.hour\n",
        "\n",
        "df['is_weekend'] = df['day_of_week'].isin([5, 6]).astype(int)  # Суббота и воскресенье\n",
        "df['is_holiday'] = df['timestamp'].dt.strftime('%m-%d').isin(['01-01', '07-04', '12-25']).astype(int)  # Пример праздников\n",
        "\n",
        "# Циклические признаки\n",
        "df['hour_sin'] = np.sin(2 * np.pi * df['hour'] / 24)\n",
        "df['hour_cos'] = np.cos(2 * np.pi * df['hour'] / 24)\n",
        "df['month_sin'] = np.sin(2 * np.pi * df['month'] / 12)\n",
        "df['month_cos'] = np.cos(2 * np.pi * df['month'] / 12)\n",
        "# Условия для часа пик\n",
        "df['quarter'] = df['timestamp'].dt.quarter# Бинарные признаки\n",
        "is_weekday = (df['day_of_week'] < 5)  # Понедельник - Пятница\n",
        "is_morning_rush = (df['hour'] >= 7) & (df['hour'] < 9)  # Утренние часы пик\n",
        "is_evening_rush = (df['hour'] >= 17) & (df['hour'] < 19)  # Вечерние часы пик\n",
        "df['is_rush_hour'] = is_weekday & (is_morning_rush | is_evening_rush)"
      ],
      "metadata": {
        "id": "Y1dBCtSjXYCT"
      },
      "execution_count": null,
      "outputs": []
    },
    {
      "cell_type": "code",
      "source": [
        "from sklearn.preprocessing import LabelEncoder, TargetEncoder, OneHotEncoder\n",
        "from sklearn.cluster import KMeans, DBSCAN\n",
        "from sklearn.decomposition import PCA\n",
        "\n",
        "def LabelEncoder_func(train, test, cols):\n",
        "  for col in cols:\n",
        "      print(col)\n",
        "      Label_encoder = LabelEncoder()\n",
        "      train[col] = Label_encoder.fit_transform(train[col])\n",
        "      test[col] = Label_encoder.transform(test[col])\n",
        "  return [train, test]\n",
        "\n",
        "def TargetEncoder_func(train, test, cols, target_col):\n",
        "  for col in cols:\n",
        "      print(col)\n",
        "      target_encoder = TargetEncoder()\n",
        "      train[col] = target_encoder.fit_transform(train[col].values.reshape(-1, 1), train[target_col])\n",
        "      test[col] = target_encoder.transform(test[col].values.reshape(-1, 1))\n",
        "  return [train, test]\n",
        "\n",
        "def OneHotEncoder_func(train, test, cols):\n",
        "  for col in cols:\n",
        "      print(col)\n",
        "      onehot_encoder = OneHotEncoder(handle_unknown='ignore')\n",
        "      onehot_encoder.fit(train[[col]])\n",
        "      train = pd.concat([train, pd.DataFrame(onehot_encoder.transform(train[[col]]).toarray(),\n",
        "                                            columns=onehot_encoder.get_feature_names_out())], axis=1)\n",
        "      test = pd.concat([test, pd.DataFrame(onehot_encoder.transform(test[[col]]).toarray(),\n",
        "                                            columns=onehot_encoder.get_feature_names_out())], axis=1)\n",
        "  return [train, test]\n",
        "\n",
        "def PCA_func(train, test, cols, del_cols=False):\n",
        "  for col in cols:\n",
        "      print(col)\n",
        "      pca = PCA(random_state=52, n_components=1)\n",
        "      train[''.join(col) + '_pca'] = pca.fit_transform(train[col])\n",
        "      test[''.join(col) + '_pca'] = pca.transform(test[col])\n",
        "      if del_cols:\n",
        "        train.drop(columns=col, inplace=True)\n",
        "        test.drop(columns=col, inplace=True)\n",
        "  return [train, test]\n",
        "\n",
        "def KMeans_func(train, test, cols, del_cols=False, clusters=4):\n",
        "  for col in cols:\n",
        "      print(col)\n",
        "      kmeans = KMeans(random_state=52, n_clusters=clusters)\n",
        "      kmeans.fit(train[col])\n",
        "      train[''.join(col) + '_kmeans'] = kmeans.predict(train[col])\n",
        "      test[''.join(col) + '_kmeans'] = kmeans.predict(test[col])\n",
        "      if del_cols:\n",
        "        train.drop(columns=col, inplace=True)\n",
        "        test.drop(columns=col, inplace=True)\n",
        "  return [train, test]"
      ],
      "metadata": {
        "id": "t46Pms3wqy07"
      },
      "execution_count": 30,
      "outputs": []
    },
    {
      "cell_type": "code",
      "source": [
        "categorical_columns"
      ],
      "metadata": {
        "id": "CS7DMZq08KGK"
      },
      "execution_count": null,
      "outputs": []
    },
    {
      "cell_type": "markdown",
      "source": [
        "### блоками"
      ],
      "metadata": {
        "id": "LG1aLjgX1ZA5"
      }
    },
    {
      "cell_type": "code",
      "source": [
        "from sklearn.preprocessing import LabelEncoder\n",
        "Label_models = {}\n",
        "for col in ['колонки']:\n",
        "    print(col)\n",
        "    Label_encoder = LabelEncoder()\n",
        "    train[col] = Label_encoder.fit_transform(train[col])\n",
        "    Label_models[col] = Label_encoder"
      ],
      "metadata": {
        "id": "Ypq9YojH7vm7"
      },
      "execution_count": null,
      "outputs": []
    },
    {
      "cell_type": "code",
      "source": [
        "from sklearn.preprocessing import TargetEncoder\n",
        "for col in ['колонки']:\n",
        "    print(col)\n",
        "    target_encoder = TargetEncoder()\n",
        "    train[col] = target_encoder.fit_transform(train[col].values.reshape(-1, 1), train['target'])\n",
        "    test[col] = target_encoder.transform(test[col].values.reshape(-1, 1))"
      ],
      "metadata": {
        "id": "rA1byl-L0NHN"
      },
      "execution_count": null,
      "outputs": []
    },
    {
      "cell_type": "code",
      "source": [
        "from sklearn.preprocessing import OneHotEncoder\n",
        "for col in ['колонки']:\n",
        "    print(col)\n",
        "    onehot_encoder = OneHotEncoder(handle_unknown='ignore')\n",
        "    onehot_encoder.fit(train[[col]])\n",
        "    train = pd.concat([train, pd.DataFrame(onehot_encoder.transform(train[[col]]).toarray(),\n",
        "                                          columns=onehot_encoder.get_feature_names_out())], axis=1)\n",
        "    test = pd.concat([test, pd.DataFrame(onehot_encoder.transform(test[[col]]).toarray(),\n",
        "                                              columns=onehot_encoder.get_feature_names_out())], axis=1)"
      ],
      "metadata": {
        "id": "XU5BicT32Gi-"
      },
      "execution_count": null,
      "outputs": []
    },
    {
      "cell_type": "code",
      "source": [
        "from sklearn.decomposition import PCA\n",
        "for col in ['колонки']:\n",
        "    print(col)\n",
        "    pca = PCA(n_components=1, random_state=52)\n",
        "    train[col] = pca.fit_transform(train[col])\n",
        "    test[col] = pca.transform(test[col])"
      ],
      "metadata": {
        "id": "rulmHYIT0NEa"
      },
      "execution_count": null,
      "outputs": []
    },
    {
      "cell_type": "code",
      "source": [
        "from sklearn.cluster import KMeans\n",
        "for col in ['колонки']:\n",
        "    print(col)\n",
        "    kmeans = KMeans(n_clusters=4, random_state=52)\n",
        "    kmeans.fit(train[col])\n",
        "    train[col+'claster'] = kmeans.predict(train[col])\n",
        "    test[col+'claster'] = kmeans.predict(test[col])"
      ],
      "metadata": {
        "id": "p0aUh6jm7T72"
      },
      "execution_count": null,
      "outputs": []
    },
    {
      "cell_type": "code",
      "source": [
        "# from sklearn.cluster import DBSCAN\n",
        "# dbscan_models = {}\n",
        "# for col in ['колонки']:\n",
        "#     print(col)\n",
        "#     dbscan = DBSCAN(eps=0.5, min_samples=5)\n",
        "#     train[col + 'claster'] = dbscan.fit_predict(train[col])\n",
        "\n",
        "#     dbscan_models[col] = dbscan"
      ],
      "metadata": {
        "id": "U3zboVDnId0r"
      },
      "execution_count": null,
      "outputs": []
    },
    {
      "cell_type": "markdown",
      "source": [
        "## Int Scalers"
      ],
      "metadata": {
        "id": "t49c6kffJhSa"
      }
    },
    {
      "cell_type": "code",
      "source": [
        "from sklearn.preprocessing import StandardScaler, MinMaxScaler, RobustScaler, QuantileTransformer\n",
        "def Scaler_func(train, test, cols, scaler_name):\n",
        "    scalers = {\n",
        "        'Standard': StandardScaler(),\n",
        "        'MinMax': MinMaxScaler(),\n",
        "        'Robust': RobustScaler(),\n",
        "        'Quantile': QuantileTransformer(output_distribution='normal')\n",
        "    }\n",
        "    # Получаем нужный скалер по имени\n",
        "    scaler = scalers[scaler_name]\n",
        "    for col in cols:\n",
        "        train[col] = scaler.fit_transform(train[[col]])\n",
        "        test[col] = scaler.transform(test[[col]])\n",
        "\n",
        "    return [train, test]\n"
      ],
      "metadata": {
        "id": "kJYMWbBWvPiz"
      },
      "execution_count": 23,
      "outputs": []
    },
    {
      "cell_type": "code",
      "source": [
        "train, test = Scaler_func(train, test, numerical_columns, 'Standard')"
      ],
      "metadata": {
        "id": "vaT59JAFyCfV"
      },
      "execution_count": 24,
      "outputs": []
    },
    {
      "cell_type": "code",
      "source": [
        "sns.boxplot(df[cols])"
      ],
      "metadata": {
        "colab": {
          "base_uri": "https://localhost:8080/",
          "height": 0
        },
        "collapsed": true,
        "id": "PEEIJMkgAqx6",
        "outputId": "a8b9d1f3-fa1e-4648-dfc6-39dce6331edb"
      },
      "execution_count": 25,
      "outputs": [
        {
          "output_type": "execute_result",
          "data": {
            "text/plain": [
              "<Axes: >"
            ]
          },
          "metadata": {},
          "execution_count": 25
        },
        {
          "output_type": "display_data",
          "data": {
            "text/plain": [
              "<Figure size 640x480 with 1 Axes>"
            ],
            "image/png": "[encoded data removed]"
          },
          "metadata": {}
        }
      ]
    },
    {
      "cell_type": "code",
      "source": [
        "sns.boxplot(train[cols])"
      ],
      "metadata": {
        "colab": {
          "base_uri": "https://localhost:8080/",
          "height": 0
        },
        "collapsed": true,
        "id": "jYVOBuaDAq0o",
        "outputId": "cf7b438e-d1cd-461f-9b9e-3b56fbc86bc1"
      },
      "execution_count": 26,
      "outputs": [
        {
          "output_type": "execute_result",
          "data": {
            "text/plain": [
              "<Axes: >"
            ]
          },
          "metadata": {},
          "execution_count": 26
        },
        {
          "output_type": "display_data",
          "data": {
            "text/plain": [
              "<Figure size 640x480 with 1 Axes>"
            ],
            "image/png": "[encoded data removed]"
          },
          "metadata": {}
        }
      ]
    },
    {
      "cell_type": "markdown",
      "source": [
        "# models"
      ],
      "metadata": {
        "id": "SuqzDtkSGYxy"
      }
    },
    {
      "cell_type": "markdown",
      "source": [
        "## exp"
      ],
      "metadata": {
        "id": "KwGORQFCOLuY"
      }
    },
    {
      "cell_type": "code",
      "source": [
        "from sklearn.model_selection import train_test_split\n",
        "X = train.drop(target, axis=1)\n",
        "y = train[target]\n",
        "X_train, X_test, y_train, y_test = train_test_split(\n",
        "    X, y, test_size=0.3, random_state=52\n",
        ")"
      ],
      "metadata": {
        "id": "HO9MJCRfOU7J"
      },
      "execution_count": 119,
      "outputs": []
    },
    {
      "cell_type": "code",
      "source": [
        "from xgboost import XGBClassifier, XGBRegressor\n",
        "model = XGBRegressor(random_state = 52, tree_method='gpu_hist')\n",
        "model.fit(X_train.drop(columns=X_train.select_dtypes('object').columns), y_train)\n",
        "pred = model.predict(X_test.drop(columns=X_train.select_dtypes('object').columns))"
      ],
      "metadata": {
        "id": "Ye9KYW5VONU7"
      },
      "execution_count": null,
      "outputs": []
    },
    {
      "cell_type": "code",
      "source": [
        "from catboost import CatBoostRegressor\n",
        "cat_fich = [list(X_train.columns).index(i)  for i in X_train.select_dtypes('object').columns]\n",
        "model = CatBoostRegressor(verbose = 0, random_seed=52, cat_features=cat_fich)\n",
        "scors = cross_val_score(model, X.values, y.values, cv=5, scoring=make_scorer(mean_absolute_error))\n",
        "# model.fit(X_train, y_train)\n",
        "scors"
      ],
      "metadata": {
        "id": "WWkufGmMOPJZ"
      },
      "execution_count": null,
      "outputs": []
    },
    {
      "cell_type": "code",
      "source": [],
      "metadata": {
        "id": "5f4PU341OPG9"
      },
      "execution_count": null,
      "outputs": []
    },
    {
      "cell_type": "markdown",
      "source": [
        "##Class"
      ],
      "metadata": {
        "id": "3bx61xxqOJS7"
      }
    },
    {
      "cell_type": "code",
      "source": [
        "!pip install catboost"
      ],
      "metadata": {
        "colab": {
          "base_uri": "https://localhost:8080/"
        },
        "id": "CGx322vx-1U0",
        "outputId": "9d71d866-4408-4561-afd6-5617308eeee7",
        "collapsed": true
      },
      "execution_count": 10,
      "outputs": [
        {
          "output_type": "stream",
          "name": "stdout",
          "text": [
            "Collecting catboost\n",
            "  Downloading catboost-1.2.7-cp310-cp310-manylinux2014_x86_64.whl.metadata (1.2 kB)\n",
            "Requirement already satisfied: graphviz in /usr/local/lib/python3.10/dist-packages (from catboost) (0.20.3)\n",
            "Requirement already satisfied: matplotlib in /usr/local/lib/python3.10/dist-packages (from catboost) (3.8.0)\n",
            "Requirement already satisfied: numpy<2.0,>=1.16.0 in /usr/local/lib/python3.10/dist-packages (from catboost) (1.26.4)\n",
            "Requirement already satisfied: pandas>=0.24 in /usr/local/lib/python3.10/dist-packages (from catboost) (2.2.2)\n",
            "Requirement already satisfied: scipy in /usr/local/lib/python3.10/dist-packages (from catboost) (1.13.1)\n",
            "Requirement already satisfied: plotly in /usr/local/lib/python3.10/dist-packages (from catboost) (5.24.1)\n",
            "Requirement already satisfied: six in /usr/local/lib/python3.10/dist-packages (from catboost) (1.16.0)\n",
            "Requirement already satisfied: python-dateutil>=2.8.2 in /usr/local/lib/python3.10/dist-packages (from pandas>=0.24->catboost) (2.8.2)\n",
            "Requirement already satisfied: pytz>=2020.1 in /usr/local/lib/python3.10/dist-packages (from pandas>=0.24->catboost) (2024.2)\n",
            "Requirement already satisfied: tzdata>=2022.7 in /usr/local/lib/python3.10/dist-packages (from pandas>=0.24->catboost) (2024.2)\n",
            "Requirement already satisfied: contourpy>=1.0.1 in /usr/local/lib/python3.10/dist-packages (from matplotlib->catboost) (1.3.0)\n",
            "Requirement already satisfied: cycler>=0.10 in /usr/local/lib/python3.10/dist-packages (from matplotlib->catboost) (0.12.1)\n",
            "Requirement already satisfied: fonttools>=4.22.0 in /usr/local/lib/python3.10/dist-packages (from matplotlib->catboost) (4.54.1)\n",
            "Requirement already satisfied: kiwisolver>=1.0.1 in /usr/local/lib/python3.10/dist-packages (from matplotlib->catboost) (1.4.7)\n",
            "Requirement already satisfied: packaging>=20.0 in /usr/local/lib/python3.10/dist-packages (from matplotlib->catboost) (24.1)\n",
            "Requirement already satisfied: pillow>=6.2.0 in /usr/local/lib/python3.10/dist-packages (from matplotlib->catboost) (10.4.0)\n",
            "Requirement already satisfied: pyparsing>=2.3.1 in /usr/local/lib/python3.10/dist-packages (from matplotlib->catboost) (3.2.0)\n",
            "Requirement already satisfied: tenacity>=6.2.0 in /usr/local/lib/python3.10/dist-packages (from plotly->catboost) (9.0.0)\n",
            "Downloading catboost-1.2.7-cp310-cp310-manylinux2014_x86_64.whl (98.7 MB)\n",
            "\u001b[2K   \u001b[90m━━━━━━━━━━━━━━━━━━━━━━━━━━━━━━━━━━━━━━━━\u001b[0m \u001b[32m98.7/98.7 MB\u001b[0m \u001b[31m8.8 MB/s\u001b[0m eta \u001b[36m0:00:00\u001b[0m\n",
            "\u001b[?25hInstalling collected packages: catboost\n",
            "Successfully installed catboost-1.2.7\n"
          ]
        }
      ]
    },
    {
      "cell_type": "code",
      "source": [
        "from sklearn.model_selection import cross_val_score, train_test_split\n",
        "from sklearn.metrics import *\n",
        "from sklearn.ensemble import RandomForestClassifier, RandomForestRegressor\n",
        "from catboost import CatBoostRegressor, CatBoostClassifier\n",
        "from xgboost import XGBClassifier, XGBRegressor\n",
        "from lightgbm import LGBMClassifier, LGBMRegressor\n",
        "from sklearn.linear_model import LinearRegression, LogisticRegression\n",
        "import shap\n",
        "\n",
        "class best_model:\n",
        "  def __init__(self, data, target, used_model, regression):\n",
        "\n",
        "    cat_fich = [list(data.drop(columns=target).columns).index(i) \\\n",
        "                for i in data.drop(columns=target).select_dtypes('object').columns]\n",
        "\n",
        "    if used_model != 'Cat':\n",
        "      data.drop(columns=data.drop(columns=target).select_dtypes('object').columns, inplace=True)\n",
        "\n",
        "    self.regression = regression\n",
        "    self.model = self.get_model(used_model, cat_fich)\n",
        "    self.data = data\n",
        "    self.target = target\n",
        "    self.used_model = used_model\n",
        "\n",
        "  def train(self, metrics, cross_val=False, test_size=0.3):\n",
        "    X = self.data.drop(columns=self.target)\n",
        "    y = self.data[self.target]\n",
        "\n",
        "    score_func = self.get_score(metrics)\n",
        "\n",
        "    if cross_val:\n",
        "      score = cross_val_score(self.model, X.values, y.values, cv=5, scoring=score_func).mean()\n",
        "    else:\n",
        "      X_train, X_test, y_train, y_test = train_test_split(\n",
        "          X.values, y.values, test_size=test_size, random_state=52)\n",
        "      self.model.fit(X_train, y_train)\n",
        "      score = score_func(self.model, X_test, y_test)\n",
        "    return score\n",
        "\n",
        "  def get_pred(self, data, proba=False):\n",
        "    if self.used_model != 'Cat':\n",
        "      data.drop(columns=data.select_dtypes('object').columns, inplace=True)\n",
        "    if proba:\n",
        "      return self.model.predict_proba(data)\n",
        "    return self.model.predict(data)\n",
        "\n",
        "  def get_shap(self):\n",
        "    explainer = shap.Explainer(self.model)\n",
        "    shap_values = explainer(self.data.drop(columns=self.target))\n",
        "    return shap_values\n",
        "\n",
        "  def get_model(self, used_model, cat_fich):\n",
        "    choose_model_class = {\n",
        "        'Cat': CatBoostClassifier(random_seed=52,verbose = 0, task_type=\"GPU\", cat_features=cat_fich),\n",
        "        'Xgb': XGBClassifier(random_state = 52, tree_method='gpu_hist'), # or tree_method = \"hist\", device = \"cuda\"\n",
        "        'Lgb' : LGBMClassifier(random_state=52, device = \"cpu\"), # если получится то device = \"gpu\"\n",
        "        'forest': RandomForestClassifier(random_state=52),\n",
        "        'lin': LogisticRegression()\n",
        "    }\n",
        "    choose_model_reg = {\n",
        "        'Cat': CatBoostRegressor(random_seed=52, verbose = 0, task_type=\"GPU\", cat_features=cat_fich),\n",
        "        'Xgb': XGBRegressor(random_state = 52, tree_method='gpu_hist'), # or tree_method = \"hist\", device = \"cuda\"\n",
        "        'Lgb': LGBMRegressor(random_state=52, device = \"cpu\"), # если получится то device = \"gpu\"\n",
        "        'forest': RandomForestRegressor(random_state=52),\n",
        "        'lin': LinearRegression()\n",
        "    }\n",
        "\n",
        "    if self.regression:\n",
        "      return choose_model_reg[used_model]\n",
        "    return choose_model_class[used_model]\n",
        "\n",
        "  def get_score(self, metrics):\n",
        "    choose_score = {\n",
        "        'Accuracy': accuracy_score,\n",
        "        'f1': f1_score,\n",
        "        'Precision': precision_score,\n",
        "        'Recall': recall_score,\n",
        "        'MSE': mean_squared_error,\n",
        "        'MAE': mean_absolute_error\n",
        "    }\n",
        "    return make_scorer(choose_score[metrics])"
      ],
      "metadata": {
        "id": "P9ZVrvwexx4r",
        "colab": {
          "base_uri": "https://localhost:8080/"
        },
        "collapsed": true,
        "outputId": "c74afb14-5fd5-4318-b5c2-10e752d42f4f"
      },
      "execution_count": 11,
      "outputs": [
        {
          "output_type": "stream",
          "name": "stderr",
          "text": [
            "/usr/local/lib/python3.10/dist-packages/dask/dataframe/__init__.py:42: FutureWarning: \n",
            "Dask dataframe query planning is disabled because dask-expr is not installed.\n",
            "\n",
            "You can install it with `pip install dask[dataframe]` or `conda install dask`.\n",
            "This will raise in a future version.\n",
            "\n",
            "  warnings.warn(msg, FutureWarning)\n"
          ]
        }
      ]
    },
    {
      "cell_type": "code",
      "source": [
        "['Cat', 'Xgb', 'Lgb', 'forest', 'lin']"
      ],
      "metadata": {
        "id": "33R9Fzo3LrnR",
        "collapsed": true
      },
      "execution_count": 21,
      "outputs": []
    },
    {
      "cell_type": "code",
      "source": [
        "model = best_model(data=train, target=target, used_model='Cat', regression=True)"
      ],
      "metadata": {
        "id": "EW1Od5cNKR-s"
      },
      "execution_count": 33,
      "outputs": []
    },
    {
      "cell_type": "code",
      "source": [
        "# model.model.set_params(n_estimators=2000)"
      ],
      "metadata": {
        "id": "lPoO7SnMSFgo",
        "colab": {
          "base_uri": "https://localhost:8080/"
        },
        "outputId": "d0bcb5c7-a528-4a0c-e9df-bb27efc175ac"
      },
      "execution_count": 23,
      "outputs": [
        {
          "output_type": "execute_result",
          "data": {
            "text/plain": [
              "<catboost.core.CatBoostRegressor at 0x7b81efe246a0>"
            ]
          },
          "metadata": {},
          "execution_count": 23
        }
      ]
    },
    {
      "cell_type": "code",
      "source": [
        "['Accuracy', 'f1', 'Precision', 'Recall', 'MSE', 'MAE']"
      ],
      "metadata": {
        "id": "Ia2Wk5aYh6KK",
        "colab": {
          "base_uri": "https://localhost:8080/"
        },
        "outputId": "bb7f71a2-1935-4160-b134-100ecb6f26cd"
      },
      "execution_count": 24,
      "outputs": [
        {
          "output_type": "execute_result",
          "data": {
            "text/plain": [
              "['Accuracy', 'f1', 'Precision', 'Recall', 'MSE', 'MAE']"
            ]
          },
          "metadata": {},
          "execution_count": 24
        }
      ]
    },
    {
      "cell_type": "code",
      "source": [
        "model.train(metrics='MAE', cross_val=True, test_size=0.3)"
      ],
      "metadata": {
        "id": "VsFwT7YRL6fg",
        "colab": {
          "base_uri": "https://localhost:8080/"
        },
        "outputId": "d7b649d4-249e-432b-eee5-6e5a54104639"
      },
      "execution_count": 35,
      "outputs": [
        {
          "output_type": "execute_result",
          "data": {
            "text/plain": [
              "7309.026581874406"
            ]
          },
          "metadata": {},
          "execution_count": 35
        }
      ]
    },
    {
      "cell_type": "code",
      "source": [
        "shap_values = model.get_shap()\n",
        "shap.summary_plot(shap_values)"
      ],
      "metadata": {
        "colab": {
          "base_uri": "https://localhost:8080/",
          "height": 0
        },
        "id": "NpiqXRHzOvVl",
        "outputId": "28aeac84-25e1-4556-d3d3-e529c3a0ff91"
      },
      "execution_count": 51,
      "outputs": [
        {
          "output_type": "display_data",
          "data": {
            "text/plain": [
              "<Figure size 800x950 with 2 Axes>"
            ],
            "image/png": "[encoded data removed]"
          },
          "metadata": {}
        }
      ]
    },
    {
      "cell_type": "code",
      "source": [
        "summary_df = pd.DataFrame({\n",
        "    'feature': shap_values.feature_names,\n",
        "    'shap_value': shap_values.values.mean(axis=0)\n",
        "})"
      ],
      "metadata": {
        "id": "WYGpRnxEyTdL"
      },
      "execution_count": 30,
      "outputs": []
    },
    {
      "cell_type": "code",
      "source": [
        "summary_df = summary_df.sort_values(by='shap_value', ignore_index=True)\n",
        "del_cols = summary_df.loc[:5, 'feature'].values\n",
        "summary_df.head(5)"
      ],
      "metadata": {
        "colab": {
          "base_uri": "https://localhost:8080/",
          "height": 0
        },
        "id": "TZLCBZKpwWJa",
        "outputId": "35771f89-d621-4e77-8c2e-a3f004fd3451"
      },
      "execution_count": 31,
      "outputs": [
        {
          "output_type": "execute_result",
          "data": {
            "text/plain": [
              "                     feature  shap_value\n",
              "0  annualHomeownersInsurance   -0.013198\n",
              "1              mortgageRates   -0.001623\n",
              "2                   bedrooms   -0.000395\n",
              "3              rentZestimate   -0.000188\n",
              "4                      state   -0.000170"
            ],
            "text/html": [
              "\n",
              "  <div id=\"df-6969a904-2874-4644-9b52-6019faece6d9\" class=\"colab-df-container\">\n",
              "    <div>\n",
              "<style scoped>\n",
              "    .dataframe tbody tr th:only-of-type {\n",
              "        vertical-align: middle;\n",
              "    }\n",
              "\n",
              "    .dataframe tbody tr th {\n",
              "        vertical-align: top;\n",
              "    }\n",
              "\n",
              "    .dataframe thead th {\n",
              "        text-align: right;\n",
              "    }\n",
              "</style>\n",
              "<table border=\"1\" class=\"dataframe\">\n",
              "  <thead>\n",
              "    <tr style=\"text-align: right;\">\n",
              "      <th></th>\n",
              "      <th>feature</th>\n",
              "      <th>shap_value</th>\n",
              "    </tr>\n",
              "  </thead>\n",
              "  <tbody>\n",
              "    <tr>\n",
              "      <th>0</th>\n",
              "      <td>annualHomeownersInsurance</td>\n",
              "      <td>-0.013198</td>\n",
              "    </tr>\n",
              "    <tr>\n",
              "      <th>1</th>\n",
              "      <td>mortgageRates</td>\n",
              "      <td>-0.001623</td>\n",
              "    </tr>\n",
              "    <tr>\n",
              "      <th>2</th>\n",
              "      <td>bedrooms</td>\n",
              "      <td>-0.000395</td>\n",
              "    </tr>\n",
              "    <tr>\n",
              "      <th>3</th>\n",
              "      <td>rentZestimate</td>\n",
              "      <td>-0.000188</td>\n",
              "    </tr>\n",
              "    <tr>\n",
              "      <th>4</th>\n",
              "      <td>state</td>\n",
              "      <td>-0.000170</td>\n",
              "    </tr>\n",
              "  </tbody>\n",
              "</table>\n",
              "</div>\n",
              "    <div class=\"colab-df-buttons\">\n",
              "\n",
              "  <div class=\"colab-df-container\">\n",
              "    <button class=\"colab-df-convert\" onclick=\"convertToInteractive('df-6969a904-2874-4644-9b52-6019faece6d9')\"\n",
              "            title=\"Convert this dataframe to an interactive table.\"\n",
              "            style=\"display:none;\">\n",
              "\n",
              "  <svg xmlns=\"http://www.w3.org/2000/svg\" height=\"24px\" viewBox=\"0 -960 960 960\">\n",
              "    <path d=\"M120-120v-720h720v720H120Zm60-500h600v-160H180v160Zm220 220h160v-160H400v160Zm0 220h160v-160H400v160ZM180-400h160v-160H180v160Zm440 0h160v-160H620v160ZM180-180h160v-160H180v160Zm440 0h160v-160H620v160Z\"/>\n",
              "  </svg>\n",
              "    </button>\n",
              "\n",
              "  <style>\n",
              "    .colab-df-container {\n",
              "      display:flex;\n",
              "      gap: 12px;\n",
              "    }\n",
              "\n",
              "    .colab-df-convert {\n",
              "      background-color: #E8F0FE;\n",
              "      border: none;\n",
              "      border-radius: 50%;\n",
              "      cursor: pointer;\n",
              "      display: none;\n",
              "      fill: #1967D2;\n",
              "      height: 32px;\n",
              "      padding: 0 0 0 0;\n",
              "      width: 32px;\n",
              "    }\n",
              "\n",
              "    .colab-df-convert:hover {\n",
              "      background-color: #E2EBFA;\n",
              "      box-shadow: 0px 1px 2px rgba(60, 64, 67, 0.3), 0px 1px 3px 1px rgba(60, 64, 67, 0.15);\n",
              "      fill: #174EA6;\n",
              "    }\n",
              "\n",
              "    .colab-df-buttons div {\n",
              "      margin-bottom: 4px;\n",
              "    }\n",
              "\n",
              "    [theme=dark] .colab-df-convert {\n",
              "      background-color: #3B4455;\n",
              "      fill: #D2E3FC;\n",
              "    }\n",
              "\n",
              "    [theme=dark] .colab-df-convert:hover {\n",
              "      background-color: #434B5C;\n",
              "      box-shadow: 0px 1px 3px 1px rgba(0, 0, 0, 0.15);\n",
              "      filter: drop-shadow(0px 1px 2px rgba(0, 0, 0, 0.3));\n",
              "      fill: #FFFFFF;\n",
              "    }\n",
              "  </style>\n",
              "\n",
              "    <script>\n",
              "      const buttonEl =\n",
              "        document.querySelector('#df-6969a904-2874-4644-9b52-6019faece6d9 button.colab-df-convert');\n",
              "      buttonEl.style.display =\n",
              "        google.colab.kernel.accessAllowed ? 'block' : 'none';\n",
              "\n",
              "      async function convertToInteractive(key) {\n",
              "        const element = document.querySelector('#df-6969a904-2874-4644-9b52-6019faece6d9');\n",
              "        const dataTable =\n",
              "          await google.colab.kernel.invokeFunction('convertToInteractive',\n",
              "                                                    [key], {});\n",
              "        if (!dataTable) return;\n",
              "\n",
              "        const docLinkHtml = 'Like what you see? Visit the ' +\n",
              "          '<a target=\"_blank\" href=https://colab.research.google.com/notebooks/data_table.ipynb>data table notebook</a>'\n",
              "          + ' to learn more about interactive tables.';\n",
              "        element.innerHTML = '';\n",
              "        dataTable['output_type'] = 'display_data';\n",
              "        await google.colab.output.renderOutput(dataTable, element);\n",
              "        const docLink = document.createElement('div');\n",
              "        docLink.innerHTML = docLinkHtml;\n",
              "        element.appendChild(docLink);\n",
              "      }\n",
              "    </script>\n",
              "  </div>\n",
              "\n",
              "\n",
              "<div id=\"df-bc9e4420-ddca-4306-98ae-b257654e08be\">\n",
              "  <button class=\"colab-df-quickchart\" onclick=\"quickchart('df-bc9e4420-ddca-4306-98ae-b257654e08be')\"\n",
              "            title=\"Suggest charts\"\n",
              "            style=\"display:none;\">\n",
              "\n",
              "<svg xmlns=\"http://www.w3.org/2000/svg\" height=\"24px\"viewBox=\"0 0 24 24\"\n",
              "     width=\"24px\">\n",
              "    <g>\n",
              "        <path d=\"M19 3H5c-1.1 0-2 .9-2 2v14c0 1.1.9 2 2 2h14c1.1 0 2-.9 2-2V5c0-1.1-.9-2-2-2zM9 17H7v-7h2v7zm4 0h-2V7h2v10zm4 0h-2v-4h2v4z\"/>\n",
              "    </g>\n",
              "</svg>\n",
              "  </button>\n",
              "\n",
              "<style>\n",
              "  .colab-df-quickchart {\n",
              "      --bg-color: #E8F0FE;\n",
              "      --fill-color: #1967D2;\n",
              "      --hover-bg-color: #E2EBFA;\n",
              "      --hover-fill-color: #174EA6;\n",
              "      --disabled-fill-color: #AAA;\n",
              "      --disabled-bg-color: #DDD;\n",
              "  }\n",
              "\n",
              "  [theme=dark] .colab-df-quickchart {\n",
              "      --bg-color: #3B4455;\n",
              "      --fill-color: #D2E3FC;\n",
              "      --hover-bg-color: #434B5C;\n",
              "      --hover-fill-color: #FFFFFF;\n",
              "      --disabled-bg-color: #3B4455;\n",
              "      --disabled-fill-color: #666;\n",
              "  }\n",
              "\n",
              "  .colab-df-quickchart {\n",
              "    background-color: var(--bg-color);\n",
              "    border: none;\n",
              "    border-radius: 50%;\n",
              "    cursor: pointer;\n",
              "    display: none;\n",
              "    fill: var(--fill-color);\n",
              "    height: 32px;\n",
              "    padding: 0;\n",
              "    width: 32px;\n",
              "  }\n",
              "\n",
              "  .colab-df-quickchart:hover {\n",
              "    background-color: var(--hover-bg-color);\n",
              "    box-shadow: 0 1px 2px rgba(60, 64, 67, 0.3), 0 1px 3px 1px rgba(60, 64, 67, 0.15);\n",
              "    fill: var(--button-hover-fill-color);\n",
              "  }\n",
              "\n",
              "  .colab-df-quickchart-complete:disabled,\n",
              "  .colab-df-quickchart-complete:disabled:hover {\n",
              "    background-color: var(--disabled-bg-color);\n",
              "    fill: var(--disabled-fill-color);\n",
              "    box-shadow: none;\n",
              "  }\n",
              "\n",
              "  .colab-df-spinner {\n",
              "    border: 2px solid var(--fill-color);\n",
              "    border-color: transparent;\n",
              "    border-bottom-color: var(--fill-color);\n",
              "    animation:\n",
              "      spin 1s steps(1) infinite;\n",
              "  }\n",
              "\n",
              "  @keyframes spin {\n",
              "    0% {\n",
              "      border-color: transparent;\n",
              "      border-bottom-color: var(--fill-color);\n",
              "      border-left-color: var(--fill-color);\n",
              "    }\n",
              "    20% {\n",
              "      border-color: transparent;\n",
              "      border-left-color: var(--fill-color);\n",
              "      border-top-color: var(--fill-color);\n",
              "    }\n",
              "    30% {\n",
              "      border-color: transparent;\n",
              "      border-left-color: var(--fill-color);\n",
              "      border-top-color: var(--fill-color);\n",
              "      border-right-color: var(--fill-color);\n",
              "    }\n",
              "    40% {\n",
              "      border-color: transparent;\n",
              "      border-right-color: var(--fill-color);\n",
              "      border-top-color: var(--fill-color);\n",
              "    }\n",
              "    60% {\n",
              "      border-color: transparent;\n",
              "      border-right-color: var(--fill-color);\n",
              "    }\n",
              "    80% {\n",
              "      border-color: transparent;\n",
              "      border-right-color: var(--fill-color);\n",
              "      border-bottom-color: var(--fill-color);\n",
              "    }\n",
              "    90% {\n",
              "      border-color: transparent;\n",
              "      border-bottom-color: var(--fill-color);\n",
              "    }\n",
              "  }\n",
              "</style>\n",
              "\n",
              "  <script>\n",
              "    async function quickchart(key) {\n",
              "      const quickchartButtonEl =\n",
              "        document.querySelector('#' + key + ' button');\n",
              "      quickchartButtonEl.disabled = true;  // To prevent multiple clicks.\n",
              "      quickchartButtonEl.classList.add('colab-df-spinner');\n",
              "      try {\n",
              "        const charts = await google.colab.kernel.invokeFunction(\n",
              "            'suggestCharts', [key], {});\n",
              "      } catch (error) {\n",
              "        console.error('Error during call to suggestCharts:', error);\n",
              "      }\n",
              "      quickchartButtonEl.classList.remove('colab-df-spinner');\n",
              "      quickchartButtonEl.classList.add('colab-df-quickchart-complete');\n",
              "    }\n",
              "    (() => {\n",
              "      let quickchartButtonEl =\n",
              "        document.querySelector('#df-bc9e4420-ddca-4306-98ae-b257654e08be button');\n",
              "      quickchartButtonEl.style.display =\n",
              "        google.colab.kernel.accessAllowed ? 'block' : 'none';\n",
              "    })();\n",
              "  </script>\n",
              "</div>\n",
              "    </div>\n",
              "  </div>\n"
            ],
            "application/vnd.google.colaboratory.intrinsic+json": {
              "type": "dataframe",
              "variable_name": "summary_df",
              "summary": "{\n  \"name\": \"summary_df\",\n  \"rows\": 50,\n  \"fields\": [\n    {\n      \"column\": \"feature\",\n      \"properties\": {\n        \"dtype\": \"string\",\n        \"num_unique_values\": 50,\n        \"samples\": [\n          \"description\",\n          \"zpid\",\n          \"cityId\"\n        ],\n        \"semantic_type\": \"\",\n        \"description\": \"\"\n      }\n    },\n    {\n      \"column\": \"shap_value\",\n      \"properties\": {\n        \"dtype\": \"number\",\n        \"std\": 0.0020569505039392537,\n        \"min\": -0.013198228002856324,\n        \"max\": 0.0037495771775095756,\n        \"num_unique_values\": 36,\n        \"samples\": [\n          0.0037495771775095756,\n          1.909923187664971e-06,\n          0.00021246836572948494\n        ],\n        \"semantic_type\": \"\",\n        \"description\": \"\"\n      }\n    }\n  ]\n}"
            }
          },
          "metadata": {},
          "execution_count": 31
        }
      ]
    },
    {
      "cell_type": "code",
      "source": [
        "summary_df = summary_df.sort_values(by='shap_value', ignore_index=True, ascending=False)\n",
        "best_cols = summary_df.loc[:3, 'feature'].values\n",
        "summary_df.head(3)"
      ],
      "metadata": {
        "colab": {
          "base_uri": "https://localhost:8080/",
          "height": 0
        },
        "id": "6PhmswdJyQ9X",
        "outputId": "2da39ec0-ee35-4970-dd5f-d9a4c3b1b3ff"
      },
      "execution_count": 32,
      "outputs": [
        {
          "output_type": "execute_result",
          "data": {
            "text/plain": [
              "                 feature  shap_value\n",
              "0  propertyTypeDimension    0.003750\n",
              "1              zestimate    0.003222\n",
              "2        attributionInfo    0.001420"
            ],
            "text/html": [
              "\n",
              "  <div id=\"df-20743337-a3c3-4422-a012-6df43dcaf587\" class=\"colab-df-container\">\n",
              "    <div>\n",
              "<style scoped>\n",
              "    .dataframe tbody tr th:only-of-type {\n",
              "        vertical-align: middle;\n",
              "    }\n",
              "\n",
              "    .dataframe tbody tr th {\n",
              "        vertical-align: top;\n",
              "    }\n",
              "\n",
              "    .dataframe thead th {\n",
              "        text-align: right;\n",
              "    }\n",
              "</style>\n",
              "<table border=\"1\" class=\"dataframe\">\n",
              "  <thead>\n",
              "    <tr style=\"text-align: right;\">\n",
              "      <th></th>\n",
              "      <th>feature</th>\n",
              "      <th>shap_value</th>\n",
              "    </tr>\n",
              "  </thead>\n",
              "  <tbody>\n",
              "    <tr>\n",
              "      <th>0</th>\n",
              "      <td>propertyTypeDimension</td>\n",
              "      <td>0.003750</td>\n",
              "    </tr>\n",
              "    <tr>\n",
              "      <th>1</th>\n",
              "      <td>zestimate</td>\n",
              "      <td>0.003222</td>\n",
              "    </tr>\n",
              "    <tr>\n",
              "      <th>2</th>\n",
              "      <td>attributionInfo</td>\n",
              "      <td>0.001420</td>\n",
              "    </tr>\n",
              "  </tbody>\n",
              "</table>\n",
              "</div>\n",
              "    <div class=\"colab-df-buttons\">\n",
              "\n",
              "  <div class=\"colab-df-container\">\n",
              "    <button class=\"colab-df-convert\" onclick=\"convertToInteractive('df-20743337-a3c3-4422-a012-6df43dcaf587')\"\n",
              "            title=\"Convert this dataframe to an interactive table.\"\n",
              "            style=\"display:none;\">\n",
              "\n",
              "  <svg xmlns=\"http://www.w3.org/2000/svg\" height=\"24px\" viewBox=\"0 -960 960 960\">\n",
              "    <path d=\"M120-120v-720h720v720H120Zm60-500h600v-160H180v160Zm220 220h160v-160H400v160Zm0 220h160v-160H400v160ZM180-400h160v-160H180v160Zm440 0h160v-160H620v160ZM180-180h160v-160H180v160Zm440 0h160v-160H620v160Z\"/>\n",
              "  </svg>\n",
              "    </button>\n",
              "\n",
              "  <style>\n",
              "    .colab-df-container {\n",
              "      display:flex;\n",
              "      gap: 12px;\n",
              "    }\n",
              "\n",
              "    .colab-df-convert {\n",
              "      background-color: #E8F0FE;\n",
              "      border: none;\n",
              "      border-radius: 50%;\n",
              "      cursor: pointer;\n",
              "      display: none;\n",
              "      fill: #1967D2;\n",
              "      height: 32px;\n",
              "      padding: 0 0 0 0;\n",
              "      width: 32px;\n",
              "    }\n",
              "\n",
              "    .colab-df-convert:hover {\n",
              "      background-color: #E2EBFA;\n",
              "      box-shadow: 0px 1px 2px rgba(60, 64, 67, 0.3), 0px 1px 3px 1px rgba(60, 64, 67, 0.15);\n",
              "      fill: #174EA6;\n",
              "    }\n",
              "\n",
              "    .colab-df-buttons div {\n",
              "      margin-bottom: 4px;\n",
              "    }\n",
              "\n",
              "    [theme=dark] .colab-df-convert {\n",
              "      background-color: #3B4455;\n",
              "      fill: #D2E3FC;\n",
              "    }\n",
              "\n",
              "    [theme=dark] .colab-df-convert:hover {\n",
              "      background-color: #434B5C;\n",
              "      box-shadow: 0px 1px 3px 1px rgba(0, 0, 0, 0.15);\n",
              "      filter: drop-shadow(0px 1px 2px rgba(0, 0, 0, 0.3));\n",
              "      fill: #FFFFFF;\n",
              "    }\n",
              "  </style>\n",
              "\n",
              "    <script>\n",
              "      const buttonEl =\n",
              "        document.querySelector('#df-20743337-a3c3-4422-a012-6df43dcaf587 button.colab-df-convert');\n",
              "      buttonEl.style.display =\n",
              "        google.colab.kernel.accessAllowed ? 'block' : 'none';\n",
              "\n",
              "      async function convertToInteractive(key) {\n",
              "        const element = document.querySelector('#df-20743337-a3c3-4422-a012-6df43dcaf587');\n",
              "        const dataTable =\n",
              "          await google.colab.kernel.invokeFunction('convertToInteractive',\n",
              "                                                    [key], {});\n",
              "        if (!dataTable) return;\n",
              "\n",
              "        const docLinkHtml = 'Like what you see? Visit the ' +\n",
              "          '<a target=\"_blank\" href=https://colab.research.google.com/notebooks/data_table.ipynb>data table notebook</a>'\n",
              "          + ' to learn more about interactive tables.';\n",
              "        element.innerHTML = '';\n",
              "        dataTable['output_type'] = 'display_data';\n",
              "        await google.colab.output.renderOutput(dataTable, element);\n",
              "        const docLink = document.createElement('div');\n",
              "        docLink.innerHTML = docLinkHtml;\n",
              "        element.appendChild(docLink);\n",
              "      }\n",
              "    </script>\n",
              "  </div>\n",
              "\n",
              "\n",
              "<div id=\"df-4f7dbe51-9918-43ba-874b-fdd3e8152fba\">\n",
              "  <button class=\"colab-df-quickchart\" onclick=\"quickchart('df-4f7dbe51-9918-43ba-874b-fdd3e8152fba')\"\n",
              "            title=\"Suggest charts\"\n",
              "            style=\"display:none;\">\n",
              "\n",
              "<svg xmlns=\"http://www.w3.org/2000/svg\" height=\"24px\"viewBox=\"0 0 24 24\"\n",
              "     width=\"24px\">\n",
              "    <g>\n",
              "        <path d=\"M19 3H5c-1.1 0-2 .9-2 2v14c0 1.1.9 2 2 2h14c1.1 0 2-.9 2-2V5c0-1.1-.9-2-2-2zM9 17H7v-7h2v7zm4 0h-2V7h2v10zm4 0h-2v-4h2v4z\"/>\n",
              "    </g>\n",
              "</svg>\n",
              "  </button>\n",
              "\n",
              "<style>\n",
              "  .colab-df-quickchart {\n",
              "      --bg-color: #E8F0FE;\n",
              "      --fill-color: #1967D2;\n",
              "      --hover-bg-color: #E2EBFA;\n",
              "      --hover-fill-color: #174EA6;\n",
              "      --disabled-fill-color: #AAA;\n",
              "      --disabled-bg-color: #DDD;\n",
              "  }\n",
              "\n",
              "  [theme=dark] .colab-df-quickchart {\n",
              "      --bg-color: #3B4455;\n",
              "      --fill-color: #D2E3FC;\n",
              "      --hover-bg-color: #434B5C;\n",
              "      --hover-fill-color: #FFFFFF;\n",
              "      --disabled-bg-color: #3B4455;\n",
              "      --disabled-fill-color: #666;\n",
              "  }\n",
              "\n",
              "  .colab-df-quickchart {\n",
              "    background-color: var(--bg-color);\n",
              "    border: none;\n",
              "    border-radius: 50%;\n",
              "    cursor: pointer;\n",
              "    display: none;\n",
              "    fill: var(--fill-color);\n",
              "    height: 32px;\n",
              "    padding: 0;\n",
              "    width: 32px;\n",
              "  }\n",
              "\n",
              "  .colab-df-quickchart:hover {\n",
              "    background-color: var(--hover-bg-color);\n",
              "    box-shadow: 0 1px 2px rgba(60, 64, 67, 0.3), 0 1px 3px 1px rgba(60, 64, 67, 0.15);\n",
              "    fill: var(--button-hover-fill-color);\n",
              "  }\n",
              "\n",
              "  .colab-df-quickchart-complete:disabled,\n",
              "  .colab-df-quickchart-complete:disabled:hover {\n",
              "    background-color: var(--disabled-bg-color);\n",
              "    fill: var(--disabled-fill-color);\n",
              "    box-shadow: none;\n",
              "  }\n",
              "\n",
              "  .colab-df-spinner {\n",
              "    border: 2px solid var(--fill-color);\n",
              "    border-color: transparent;\n",
              "    border-bottom-color: var(--fill-color);\n",
              "    animation:\n",
              "      spin 1s steps(1) infinite;\n",
              "  }\n",
              "\n",
              "  @keyframes spin {\n",
              "    0% {\n",
              "      border-color: transparent;\n",
              "      border-bottom-color: var(--fill-color);\n",
              "      border-left-color: var(--fill-color);\n",
              "    }\n",
              "    20% {\n",
              "      border-color: transparent;\n",
              "      border-left-color: var(--fill-color);\n",
              "      border-top-color: var(--fill-color);\n",
              "    }\n",
              "    30% {\n",
              "      border-color: transparent;\n",
              "      border-left-color: var(--fill-color);\n",
              "      border-top-color: var(--fill-color);\n",
              "      border-right-color: var(--fill-color);\n",
              "    }\n",
              "    40% {\n",
              "      border-color: transparent;\n",
              "      border-right-color: var(--fill-color);\n",
              "      border-top-color: var(--fill-color);\n",
              "    }\n",
              "    60% {\n",
              "      border-color: transparent;\n",
              "      border-right-color: var(--fill-color);\n",
              "    }\n",
              "    80% {\n",
              "      border-color: transparent;\n",
              "      border-right-color: var(--fill-color);\n",
              "      border-bottom-color: var(--fill-color);\n",
              "    }\n",
              "    90% {\n",
              "      border-color: transparent;\n",
              "      border-bottom-color: var(--fill-color);\n",
              "    }\n",
              "  }\n",
              "</style>\n",
              "\n",
              "  <script>\n",
              "    async function quickchart(key) {\n",
              "      const quickchartButtonEl =\n",
              "        document.querySelector('#' + key + ' button');\n",
              "      quickchartButtonEl.disabled = true;  // To prevent multiple clicks.\n",
              "      quickchartButtonEl.classList.add('colab-df-spinner');\n",
              "      try {\n",
              "        const charts = await google.colab.kernel.invokeFunction(\n",
              "            'suggestCharts', [key], {});\n",
              "      } catch (error) {\n",
              "        console.error('Error during call to suggestCharts:', error);\n",
              "      }\n",
              "      quickchartButtonEl.classList.remove('colab-df-spinner');\n",
              "      quickchartButtonEl.classList.add('colab-df-quickchart-complete');\n",
              "    }\n",
              "    (() => {\n",
              "      let quickchartButtonEl =\n",
              "        document.querySelector('#df-4f7dbe51-9918-43ba-874b-fdd3e8152fba button');\n",
              "      quickchartButtonEl.style.display =\n",
              "        google.colab.kernel.accessAllowed ? 'block' : 'none';\n",
              "    })();\n",
              "  </script>\n",
              "</div>\n",
              "    </div>\n",
              "  </div>\n"
            ],
            "application/vnd.google.colaboratory.intrinsic+json": {
              "type": "dataframe",
              "variable_name": "summary_df",
              "summary": "{\n  \"name\": \"summary_df\",\n  \"rows\": 50,\n  \"fields\": [\n    {\n      \"column\": \"feature\",\n      \"properties\": {\n        \"dtype\": \"string\",\n        \"num_unique_values\": 50,\n        \"samples\": [\n          \"latitude\",\n          \"longitude\",\n          \"url\"\n        ],\n        \"semantic_type\": \"\",\n        \"description\": \"\"\n      }\n    },\n    {\n      \"column\": \"shap_value\",\n      \"properties\": {\n        \"dtype\": \"number\",\n        \"std\": 0.0020569505039392537,\n        \"min\": -0.013198228002856324,\n        \"max\": 0.0037495771775095756,\n        \"num_unique_values\": 36,\n        \"samples\": [\n          -0.013198228002856324,\n          9.041404358245787e-05,\n          -1.6016801829922934e-05\n        ],\n        \"semantic_type\": \"\",\n        \"description\": \"\"\n      }\n    }\n  ]\n}"
            }
          },
          "metadata": {},
          "execution_count": 32
        }
      ]
    },
    {
      "cell_type": "code",
      "source": [
        "# del bad cols\n",
        "train.drop(columns=del_cols, inplace=True)"
      ],
      "metadata": {
        "id": "i0Dowstzywj_"
      },
      "execution_count": 47,
      "outputs": []
    },
    {
      "cell_type": "code",
      "source": [
        "# create math cols\n",
        "cols_for_math = [i for i in best_cols if i in numerical_columns]\n",
        "for col in cols_for_math:\n",
        "  train[col+'_log2'] = np.log2(train[col])\n",
        "  test[col+'_log2'] = np.log2(test[col])\n",
        "\n",
        "  train[col+'_log10'] = np.log10(train[col])\n",
        "  test[col+'_log10'] = np.log10(test[col])\n",
        "\n",
        "train['best_cols_mean'] = train[cols_for_math].transpose().mean().values\n",
        "test['best_cols_mean'] = test[cols_for_math].transpose().mean().values"
      ],
      "metadata": {
        "colab": {
          "base_uri": "https://localhost:8080/"
        },
        "id": "fHUhABWzw4ZF",
        "outputId": "b2b6c817-3755-46a8-9987-daef53e5d0db"
      },
      "execution_count": 48,
      "outputs": [
        {
          "output_type": "stream",
          "name": "stderr",
          "text": [
            "/usr/local/lib/python3.10/dist-packages/pandas/core/arraylike.py:399: RuntimeWarning: invalid value encountered in log2\n",
            "  result = getattr(ufunc, method)(*inputs, **kwargs)\n",
            "/usr/local/lib/python3.10/dist-packages/pandas/core/arraylike.py:399: RuntimeWarning: invalid value encountered in log2\n",
            "  result = getattr(ufunc, method)(*inputs, **kwargs)\n",
            "/usr/local/lib/python3.10/dist-packages/pandas/core/arraylike.py:399: RuntimeWarning: invalid value encountered in log10\n",
            "  result = getattr(ufunc, method)(*inputs, **kwargs)\n",
            "/usr/local/lib/python3.10/dist-packages/pandas/core/arraylike.py:399: RuntimeWarning: invalid value encountered in log10\n",
            "  result = getattr(ufunc, method)(*inputs, **kwargs)\n",
            "/usr/local/lib/python3.10/dist-packages/pandas/core/arraylike.py:399: RuntimeWarning: invalid value encountered in log2\n",
            "  result = getattr(ufunc, method)(*inputs, **kwargs)\n",
            "/usr/local/lib/python3.10/dist-packages/pandas/core/arraylike.py:399: RuntimeWarning: invalid value encountered in log2\n",
            "  result = getattr(ufunc, method)(*inputs, **kwargs)\n",
            "/usr/local/lib/python3.10/dist-packages/pandas/core/arraylike.py:399: RuntimeWarning: invalid value encountered in log10\n",
            "  result = getattr(ufunc, method)(*inputs, **kwargs)\n",
            "/usr/local/lib/python3.10/dist-packages/pandas/core/arraylike.py:399: RuntimeWarning: invalid value encountered in log10\n",
            "  result = getattr(ufunc, method)(*inputs, **kwargs)\n"
          ]
        }
      ]
    },
    {
      "cell_type": "code",
      "source": [],
      "metadata": {
        "id": "-mwi4lUG5U3V"
      },
      "execution_count": null,
      "outputs": []
    }
  ]
}