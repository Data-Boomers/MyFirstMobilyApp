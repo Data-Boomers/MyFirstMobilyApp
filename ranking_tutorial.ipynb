{
  "cells": [
    {
      "cell_type": "markdown",
      "metadata": {
        "id": "hQ9CFZXkScLo"
      },
      "source": [
        "# <i>CatBoost learning to rank on Microsoft dataset</i>"
      ]
    },
    {
      "cell_type": "markdown",
      "metadata": {
        "id": "PNPnw9TmScLw"
      },
      "source": [
        "[![Open In Colab](https://colab.research.google.com/assets/colab-badge.svg)](https://colab.research.google.com/github/catboost/tutorials/blob/master/ranking/ranking_tutorial.ipynb)"
      ]
    },
    {
      "cell_type": "code",
      "source": [
        "%pip install catboost -q"
      ],
      "metadata": {
        "id": "D3eUgQz1SmJW",
        "outputId": "152e84a5-a611-4477-fa5c-e30f9b6a9844",
        "colab": {
          "base_uri": "https://localhost:8080/"
        }
      },
      "execution_count": 3,
      "outputs": [
        {
          "output_type": "stream",
          "name": "stdout",
          "text": [
            "\u001b[2K   \u001b[90m━━━━━━━━━━━━━━━━━━━━━━━━━━━━━━━━━━━━━━━━\u001b[0m \u001b[32m98.7/98.7 MB\u001b[0m \u001b[31m8.7 MB/s\u001b[0m eta \u001b[36m0:00:00\u001b[0m\n",
            "\u001b[?25h"
          ]
        }
      ]
    },
    {
      "cell_type": "code",
      "execution_count": 4,
      "metadata": {
        "scrolled": true,
        "id": "4yP8D1_VScLx"
      },
      "outputs": [],
      "source": [
        "from catboost import CatBoostRanker, Pool, MetricVisualizer\n",
        "from copy import deepcopy\n",
        "import numpy as np\n",
        "import os\n",
        "import pandas as pd"
      ]
    },
    {
      "cell_type": "markdown",
      "metadata": {
        "id": "E0vIdSuUScL0"
      },
      "source": [
        "### Ranking problem\n",
        "\n",
        "Let's introduce a notation:\n",
        "* Let $Q = \\{q_1, \\dots, q_n\\}$ be the set of groups\n",
        "* $D_q = \\{d_{q1}, \\dots, d_{qm}\\}$ -- set of objects retrieved for a group $q$\n",
        "* $L_q = \\{l_{q1}, \\dots, l_{qm}\\}$ -- relevance labels for the objects from the set $D_q$\n",
        "\n",
        "Every object $d_{qi}$ is represented in the vector space of features, describing the associatinos between the group and the object.\n",
        "\n",
        "So every group is associated with set of objects. For example, group is a query and object is a document if we are ranking documents for a search query.\n",
        "\n",
        "The goal is to learn the ranking function $f = f(d_{qi})$, such that the ranking of objects $d_{qi}$ for all groups from $Q$ based on their scores $x_{qi} = f(d_{qi})$, is as close as possible to the ideal ranking from the editorial judgements $l_{qi}$."
      ]
    },
    {
      "cell_type": "markdown",
      "metadata": {
        "id": "zDHvquP0ScL1"
      },
      "source": [
        "### Ranking quality metrics:\n",
        "* __Precision__\n",
        "    $$ \\mbox{P}=\\frac{|\\{\\mbox{relevant docs}\\}\\cap\\{\\mbox{retrieved docs}\\}|}{|\\{\\mbox{retrieved docs}\\}|} $$\n",
        "* __Recall__\n",
        "    $$ \\mbox{R}=\\frac{|\\{\\mbox{relevant docs}\\}\\cap\\{\\mbox{retrieved docs}\\}|}{|\\{\\mbox{relevant docs}\\}|} $$\n",
        "    \n",
        "    Notation $@k$ means that metric is calculated on the first $k$ documents from ranking list.\n",
        "\n",
        "    For example, if 1,2,5,7,9 is the ranks of relevant documents (enumerations starts from number 1) from ten retrivied then $P@5$ will be $\\frac{3}{5}$.\n",
        "\n",
        "* __Mean average precision (MAP)__\n",
        "    $$\\frac{1}{|Q|}\\sum_{q \\in Q} \\frac{1}{|\\mbox{relevant docs in } D_q|} \\sum_{k} P@k(q) \\times rel(q, k) $$\n",
        "    \n",
        "    Where $rel(q, k)$ is a relevance label of the document at k-th position in our ranking of $D_q$. This metric calculates average precision for a query weighted with document relevances and then calculate mean between all queries.\n",
        "    \n",
        "* __Discounted cumulative gain (DCG)__\n",
        "    $$\\sum_{k=1}^{mq} \\frac{2 ^ {l_{qk}}}{\\log_2(k+1)}$$\n",
        "    \n",
        "    This metric takes into account user behavior: user attention is high on the top and then nonlinear decrease to the end.\n",
        "    \n",
        "* __NDCG__ - normalized DCG = DCG $~ / ~$ IDCG, where IDCG is a maximum possible value of DCG with given set of relevance labels.\n",
        "\n",
        "* __AverageGain__ - represents the average value of the label values for objects with the defined top  label values.\n",
        "\n",
        "* __[PFound](https://tech.yandex.com/catboost/doc/dg/references/pfound-docpage/#pfound)__\n",
        "    \n",
        "More on wiki: https://en.wikipedia.org/wiki/Evaluation_measures_(information_retrieval)\n",
        "\n",
        "Parameter $@k$ for every metric can be specified through metric parameter \"top\", for example \"NDCG:top=10\", would mean NDCG@10."
      ]
    },
    {
      "cell_type": "markdown",
      "metadata": {
        "id": "nMGDZR1zScL3"
      },
      "source": [
        "### Download part of [MSRank](https://www.microsoft.com/en-us/research/project/mslr/) dataset from CatBoost datasets storage"
      ]
    },
    {
      "cell_type": "code",
      "execution_count": 5,
      "metadata": {
        "scrolled": true,
        "id": "m7kkUSEgScL4"
      },
      "outputs": [],
      "source": [
        "from catboost.datasets import msrank_10k\n",
        "train_df, test_df = msrank_10k()\n",
        "\n",
        "X_train = train_df.drop([0, 1], axis=1).values\n",
        "y_train = train_df[0].values\n",
        "queries_train = train_df[1].values\n",
        "\n",
        "X_test = test_df.drop([0, 1], axis=1).values\n",
        "y_test = test_df[0].values\n",
        "queries_test = test_df[1].values"
      ]
    },
    {
      "cell_type": "code",
      "source": [
        "queries_train"
      ],
      "metadata": {
        "id": "A4rKzprrS4Q6",
        "outputId": "7ae7e107-ee46-47e1-a191-e0c1f4df3d3e",
        "colab": {
          "base_uri": "https://localhost:8080/"
        }
      },
      "execution_count": 8,
      "outputs": [
        {
          "output_type": "execute_result",
          "data": {
            "text/plain": [
              "array([   1,    1,    1, ..., 1291, 1291, 1291])"
            ]
          },
          "metadata": {},
          "execution_count": 8
        }
      ]
    },
    {
      "cell_type": "code",
      "source": [
        "train_df"
      ],
      "metadata": {
        "id": "J9DmDpJ4SxhY",
        "outputId": "ea52432b-e35d-466e-895e-5d0be1a3ef75",
        "colab": {
          "base_uri": "https://localhost:8080/",
          "height": 423
        }
      },
      "execution_count": 7,
      "outputs": [
        {
          "output_type": "execute_result",
          "data": {
            "text/plain": [
              "      0     1    2    3    4    5    6    7    8         9    ...  128  \\\n",
              "0     2.0     1    3    3    0    0    3  1.0  1.0  0.000000  ...   62   \n",
              "1     2.0     1    3    0    3    0    3  1.0  0.0  1.000000  ...   54   \n",
              "2     0.0     1    3    0    2    0    3  1.0  0.0  0.666667  ...   45   \n",
              "3     2.0     1    3    0    3    0    3  1.0  0.0  1.000000  ...   56   \n",
              "4     1.0     1    3    0    3    0    3  1.0  0.0  1.000000  ...   64   \n",
              "...   ...   ...  ...  ...  ...  ...  ...  ...  ...       ...  ...  ...   \n",
              "9995  1.0  1291    2    0    1    0    2  1.0  0.0  0.500000  ...   22   \n",
              "9996  0.0  1291    2    0    1    1    2  1.0  0.0  0.500000  ...   39   \n",
              "9997  2.0  1291    2    0    2    0    2  1.0  0.0  1.000000  ...   14   \n",
              "9998  2.0  1291    2    0    1    0    2  1.0  0.0  0.500000  ...   31   \n",
              "9999  1.0  1291    2    1    1    2    2  1.0  0.5  0.500000  ...   47   \n",
              "\n",
              "           129  130    131    132  133  134  135  136  137  \n",
              "0     11089534    2    116  64034   13    3    0    0  0.0  \n",
              "1     11089534    2    124  64034    1    2    0    0  0.0  \n",
              "2            3    1    124   3344   14   67    0    0  0.0  \n",
              "3     11089534   13    123  63933    1    3    0    0  0.0  \n",
              "4            5    7    256  49697    1   13    0    0  0.0  \n",
              "...        ...  ...    ...    ...  ...  ...  ...  ...  ...  \n",
              "9995       131    2  24231   4897   95  228    0    0  0.0  \n",
              "9996         0    1  52316  55891   79  124    0    0  0.0  \n",
              "9997     11040    6  44336  26674   81  153    0    0  0.0  \n",
              "9998       105    0  10394   4079   34  155    0    0  0.0  \n",
              "9999         8    3   5820  32540   35  153    0    0  0.0  \n",
              "\n",
              "[10000 rows x 138 columns]"
            ],
            "text/html": [
              "\n",
              "  <div id=\"df-0672a834-6fa9-4aa8-b395-8a6af56a65b5\" class=\"colab-df-container\">\n",
              "    <div>\n",
              "<style scoped>\n",
              "    .dataframe tbody tr th:only-of-type {\n",
              "        vertical-align: middle;\n",
              "    }\n",
              "\n",
              "    .dataframe tbody tr th {\n",
              "        vertical-align: top;\n",
              "    }\n",
              "\n",
              "    .dataframe thead th {\n",
              "        text-align: right;\n",
              "    }\n",
              "</style>\n",
              "<table border=\"1\" class=\"dataframe\">\n",
              "  <thead>\n",
              "    <tr style=\"text-align: right;\">\n",
              "      <th></th>\n",
              "      <th>0</th>\n",
              "      <th>1</th>\n",
              "      <th>2</th>\n",
              "      <th>3</th>\n",
              "      <th>4</th>\n",
              "      <th>5</th>\n",
              "      <th>6</th>\n",
              "      <th>7</th>\n",
              "      <th>8</th>\n",
              "      <th>9</th>\n",
              "      <th>...</th>\n",
              "      <th>128</th>\n",
              "      <th>129</th>\n",
              "      <th>130</th>\n",
              "      <th>131</th>\n",
              "      <th>132</th>\n",
              "      <th>133</th>\n",
              "      <th>134</th>\n",
              "      <th>135</th>\n",
              "      <th>136</th>\n",
              "      <th>137</th>\n",
              "    </tr>\n",
              "  </thead>\n",
              "  <tbody>\n",
              "    <tr>\n",
              "      <th>0</th>\n",
              "      <td>2.0</td>\n",
              "      <td>1</td>\n",
              "      <td>3</td>\n",
              "      <td>3</td>\n",
              "      <td>0</td>\n",
              "      <td>0</td>\n",
              "      <td>3</td>\n",
              "      <td>1.0</td>\n",
              "      <td>1.0</td>\n",
              "      <td>0.000000</td>\n",
              "      <td>...</td>\n",
              "      <td>62</td>\n",
              "      <td>11089534</td>\n",
              "      <td>2</td>\n",
              "      <td>116</td>\n",
              "      <td>64034</td>\n",
              "      <td>13</td>\n",
              "      <td>3</td>\n",
              "      <td>0</td>\n",
              "      <td>0</td>\n",
              "      <td>0.0</td>\n",
              "    </tr>\n",
              "    <tr>\n",
              "      <th>1</th>\n",
              "      <td>2.0</td>\n",
              "      <td>1</td>\n",
              "      <td>3</td>\n",
              "      <td>0</td>\n",
              "      <td>3</td>\n",
              "      <td>0</td>\n",
              "      <td>3</td>\n",
              "      <td>1.0</td>\n",
              "      <td>0.0</td>\n",
              "      <td>1.000000</td>\n",
              "      <td>...</td>\n",
              "      <td>54</td>\n",
              "      <td>11089534</td>\n",
              "      <td>2</td>\n",
              "      <td>124</td>\n",
              "      <td>64034</td>\n",
              "      <td>1</td>\n",
              "      <td>2</td>\n",
              "      <td>0</td>\n",
              "      <td>0</td>\n",
              "      <td>0.0</td>\n",
              "    </tr>\n",
              "    <tr>\n",
              "      <th>2</th>\n",
              "      <td>0.0</td>\n",
              "      <td>1</td>\n",
              "      <td>3</td>\n",
              "      <td>0</td>\n",
              "      <td>2</td>\n",
              "      <td>0</td>\n",
              "      <td>3</td>\n",
              "      <td>1.0</td>\n",
              "      <td>0.0</td>\n",
              "      <td>0.666667</td>\n",
              "      <td>...</td>\n",
              "      <td>45</td>\n",
              "      <td>3</td>\n",
              "      <td>1</td>\n",
              "      <td>124</td>\n",
              "      <td>3344</td>\n",
              "      <td>14</td>\n",
              "      <td>67</td>\n",
              "      <td>0</td>\n",
              "      <td>0</td>\n",
              "      <td>0.0</td>\n",
              "    </tr>\n",
              "    <tr>\n",
              "      <th>3</th>\n",
              "      <td>2.0</td>\n",
              "      <td>1</td>\n",
              "      <td>3</td>\n",
              "      <td>0</td>\n",
              "      <td>3</td>\n",
              "      <td>0</td>\n",
              "      <td>3</td>\n",
              "      <td>1.0</td>\n",
              "      <td>0.0</td>\n",
              "      <td>1.000000</td>\n",
              "      <td>...</td>\n",
              "      <td>56</td>\n",
              "      <td>11089534</td>\n",
              "      <td>13</td>\n",
              "      <td>123</td>\n",
              "      <td>63933</td>\n",
              "      <td>1</td>\n",
              "      <td>3</td>\n",
              "      <td>0</td>\n",
              "      <td>0</td>\n",
              "      <td>0.0</td>\n",
              "    </tr>\n",
              "    <tr>\n",
              "      <th>4</th>\n",
              "      <td>1.0</td>\n",
              "      <td>1</td>\n",
              "      <td>3</td>\n",
              "      <td>0</td>\n",
              "      <td>3</td>\n",
              "      <td>0</td>\n",
              "      <td>3</td>\n",
              "      <td>1.0</td>\n",
              "      <td>0.0</td>\n",
              "      <td>1.000000</td>\n",
              "      <td>...</td>\n",
              "      <td>64</td>\n",
              "      <td>5</td>\n",
              "      <td>7</td>\n",
              "      <td>256</td>\n",
              "      <td>49697</td>\n",
              "      <td>1</td>\n",
              "      <td>13</td>\n",
              "      <td>0</td>\n",
              "      <td>0</td>\n",
              "      <td>0.0</td>\n",
              "    </tr>\n",
              "    <tr>\n",
              "      <th>...</th>\n",
              "      <td>...</td>\n",
              "      <td>...</td>\n",
              "      <td>...</td>\n",
              "      <td>...</td>\n",
              "      <td>...</td>\n",
              "      <td>...</td>\n",
              "      <td>...</td>\n",
              "      <td>...</td>\n",
              "      <td>...</td>\n",
              "      <td>...</td>\n",
              "      <td>...</td>\n",
              "      <td>...</td>\n",
              "      <td>...</td>\n",
              "      <td>...</td>\n",
              "      <td>...</td>\n",
              "      <td>...</td>\n",
              "      <td>...</td>\n",
              "      <td>...</td>\n",
              "      <td>...</td>\n",
              "      <td>...</td>\n",
              "      <td>...</td>\n",
              "    </tr>\n",
              "    <tr>\n",
              "      <th>9995</th>\n",
              "      <td>1.0</td>\n",
              "      <td>1291</td>\n",
              "      <td>2</td>\n",
              "      <td>0</td>\n",
              "      <td>1</td>\n",
              "      <td>0</td>\n",
              "      <td>2</td>\n",
              "      <td>1.0</td>\n",
              "      <td>0.0</td>\n",
              "      <td>0.500000</td>\n",
              "      <td>...</td>\n",
              "      <td>22</td>\n",
              "      <td>131</td>\n",
              "      <td>2</td>\n",
              "      <td>24231</td>\n",
              "      <td>4897</td>\n",
              "      <td>95</td>\n",
              "      <td>228</td>\n",
              "      <td>0</td>\n",
              "      <td>0</td>\n",
              "      <td>0.0</td>\n",
              "    </tr>\n",
              "    <tr>\n",
              "      <th>9996</th>\n",
              "      <td>0.0</td>\n",
              "      <td>1291</td>\n",
              "      <td>2</td>\n",
              "      <td>0</td>\n",
              "      <td>1</td>\n",
              "      <td>1</td>\n",
              "      <td>2</td>\n",
              "      <td>1.0</td>\n",
              "      <td>0.0</td>\n",
              "      <td>0.500000</td>\n",
              "      <td>...</td>\n",
              "      <td>39</td>\n",
              "      <td>0</td>\n",
              "      <td>1</td>\n",
              "      <td>52316</td>\n",
              "      <td>55891</td>\n",
              "      <td>79</td>\n",
              "      <td>124</td>\n",
              "      <td>0</td>\n",
              "      <td>0</td>\n",
              "      <td>0.0</td>\n",
              "    </tr>\n",
              "    <tr>\n",
              "      <th>9997</th>\n",
              "      <td>2.0</td>\n",
              "      <td>1291</td>\n",
              "      <td>2</td>\n",
              "      <td>0</td>\n",
              "      <td>2</td>\n",
              "      <td>0</td>\n",
              "      <td>2</td>\n",
              "      <td>1.0</td>\n",
              "      <td>0.0</td>\n",
              "      <td>1.000000</td>\n",
              "      <td>...</td>\n",
              "      <td>14</td>\n",
              "      <td>11040</td>\n",
              "      <td>6</td>\n",
              "      <td>44336</td>\n",
              "      <td>26674</td>\n",
              "      <td>81</td>\n",
              "      <td>153</td>\n",
              "      <td>0</td>\n",
              "      <td>0</td>\n",
              "      <td>0.0</td>\n",
              "    </tr>\n",
              "    <tr>\n",
              "      <th>9998</th>\n",
              "      <td>2.0</td>\n",
              "      <td>1291</td>\n",
              "      <td>2</td>\n",
              "      <td>0</td>\n",
              "      <td>1</td>\n",
              "      <td>0</td>\n",
              "      <td>2</td>\n",
              "      <td>1.0</td>\n",
              "      <td>0.0</td>\n",
              "      <td>0.500000</td>\n",
              "      <td>...</td>\n",
              "      <td>31</td>\n",
              "      <td>105</td>\n",
              "      <td>0</td>\n",
              "      <td>10394</td>\n",
              "      <td>4079</td>\n",
              "      <td>34</td>\n",
              "      <td>155</td>\n",
              "      <td>0</td>\n",
              "      <td>0</td>\n",
              "      <td>0.0</td>\n",
              "    </tr>\n",
              "    <tr>\n",
              "      <th>9999</th>\n",
              "      <td>1.0</td>\n",
              "      <td>1291</td>\n",
              "      <td>2</td>\n",
              "      <td>1</td>\n",
              "      <td>1</td>\n",
              "      <td>2</td>\n",
              "      <td>2</td>\n",
              "      <td>1.0</td>\n",
              "      <td>0.5</td>\n",
              "      <td>0.500000</td>\n",
              "      <td>...</td>\n",
              "      <td>47</td>\n",
              "      <td>8</td>\n",
              "      <td>3</td>\n",
              "      <td>5820</td>\n",
              "      <td>32540</td>\n",
              "      <td>35</td>\n",
              "      <td>153</td>\n",
              "      <td>0</td>\n",
              "      <td>0</td>\n",
              "      <td>0.0</td>\n",
              "    </tr>\n",
              "  </tbody>\n",
              "</table>\n",
              "<p>10000 rows × 138 columns</p>\n",
              "</div>\n",
              "    <div class=\"colab-df-buttons\">\n",
              "\n",
              "  <div class=\"colab-df-container\">\n",
              "    <button class=\"colab-df-convert\" onclick=\"convertToInteractive('df-0672a834-6fa9-4aa8-b395-8a6af56a65b5')\"\n",
              "            title=\"Convert this dataframe to an interactive table.\"\n",
              "            style=\"display:none;\">\n",
              "\n",
              "  <svg xmlns=\"http://www.w3.org/2000/svg\" height=\"24px\" viewBox=\"0 -960 960 960\">\n",
              "    <path d=\"M120-120v-720h720v720H120Zm60-500h600v-160H180v160Zm220 220h160v-160H400v160Zm0 220h160v-160H400v160ZM180-400h160v-160H180v160Zm440 0h160v-160H620v160ZM180-180h160v-160H180v160Zm440 0h160v-160H620v160Z\"/>\n",
              "  </svg>\n",
              "    </button>\n",
              "\n",
              "  <style>\n",
              "    .colab-df-container {\n",
              "      display:flex;\n",
              "      gap: 12px;\n",
              "    }\n",
              "\n",
              "    .colab-df-convert {\n",
              "      background-color: #E8F0FE;\n",
              "      border: none;\n",
              "      border-radius: 50%;\n",
              "      cursor: pointer;\n",
              "      display: none;\n",
              "      fill: #1967D2;\n",
              "      height: 32px;\n",
              "      padding: 0 0 0 0;\n",
              "      width: 32px;\n",
              "    }\n",
              "\n",
              "    .colab-df-convert:hover {\n",
              "      background-color: #E2EBFA;\n",
              "      box-shadow: 0px 1px 2px rgba(60, 64, 67, 0.3), 0px 1px 3px 1px rgba(60, 64, 67, 0.15);\n",
              "      fill: #174EA6;\n",
              "    }\n",
              "\n",
              "    .colab-df-buttons div {\n",
              "      margin-bottom: 4px;\n",
              "    }\n",
              "\n",
              "    [theme=dark] .colab-df-convert {\n",
              "      background-color: #3B4455;\n",
              "      fill: #D2E3FC;\n",
              "    }\n",
              "\n",
              "    [theme=dark] .colab-df-convert:hover {\n",
              "      background-color: #434B5C;\n",
              "      box-shadow: 0px 1px 3px 1px rgba(0, 0, 0, 0.15);\n",
              "      filter: drop-shadow(0px 1px 2px rgba(0, 0, 0, 0.3));\n",
              "      fill: #FFFFFF;\n",
              "    }\n",
              "  </style>\n",
              "\n",
              "    <script>\n",
              "      const buttonEl =\n",
              "        document.querySelector('#df-0672a834-6fa9-4aa8-b395-8a6af56a65b5 button.colab-df-convert');\n",
              "      buttonEl.style.display =\n",
              "        google.colab.kernel.accessAllowed ? 'block' : 'none';\n",
              "\n",
              "      async function convertToInteractive(key) {\n",
              "        const element = document.querySelector('#df-0672a834-6fa9-4aa8-b395-8a6af56a65b5');\n",
              "        const dataTable =\n",
              "          await google.colab.kernel.invokeFunction('convertToInteractive',\n",
              "                                                    [key], {});\n",
              "        if (!dataTable) return;\n",
              "\n",
              "        const docLinkHtml = 'Like what you see? Visit the ' +\n",
              "          '<a target=\"_blank\" href=https://colab.research.google.com/notebooks/data_table.ipynb>data table notebook</a>'\n",
              "          + ' to learn more about interactive tables.';\n",
              "        element.innerHTML = '';\n",
              "        dataTable['output_type'] = 'display_data';\n",
              "        await google.colab.output.renderOutput(dataTable, element);\n",
              "        const docLink = document.createElement('div');\n",
              "        docLink.innerHTML = docLinkHtml;\n",
              "        element.appendChild(docLink);\n",
              "      }\n",
              "    </script>\n",
              "  </div>\n",
              "\n",
              "\n",
              "<div id=\"df-c57760e1-abba-4a00-bcb1-bf006889d7cd\">\n",
              "  <button class=\"colab-df-quickchart\" onclick=\"quickchart('df-c57760e1-abba-4a00-bcb1-bf006889d7cd')\"\n",
              "            title=\"Suggest charts\"\n",
              "            style=\"display:none;\">\n",
              "\n",
              "<svg xmlns=\"http://www.w3.org/2000/svg\" height=\"24px\"viewBox=\"0 0 24 24\"\n",
              "     width=\"24px\">\n",
              "    <g>\n",
              "        <path d=\"M19 3H5c-1.1 0-2 .9-2 2v14c0 1.1.9 2 2 2h14c1.1 0 2-.9 2-2V5c0-1.1-.9-2-2-2zM9 17H7v-7h2v7zm4 0h-2V7h2v10zm4 0h-2v-4h2v4z\"/>\n",
              "    </g>\n",
              "</svg>\n",
              "  </button>\n",
              "\n",
              "<style>\n",
              "  .colab-df-quickchart {\n",
              "      --bg-color: #E8F0FE;\n",
              "      --fill-color: #1967D2;\n",
              "      --hover-bg-color: #E2EBFA;\n",
              "      --hover-fill-color: #174EA6;\n",
              "      --disabled-fill-color: #AAA;\n",
              "      --disabled-bg-color: #DDD;\n",
              "  }\n",
              "\n",
              "  [theme=dark] .colab-df-quickchart {\n",
              "      --bg-color: #3B4455;\n",
              "      --fill-color: #D2E3FC;\n",
              "      --hover-bg-color: #434B5C;\n",
              "      --hover-fill-color: #FFFFFF;\n",
              "      --disabled-bg-color: #3B4455;\n",
              "      --disabled-fill-color: #666;\n",
              "  }\n",
              "\n",
              "  .colab-df-quickchart {\n",
              "    background-color: var(--bg-color);\n",
              "    border: none;\n",
              "    border-radius: 50%;\n",
              "    cursor: pointer;\n",
              "    display: none;\n",
              "    fill: var(--fill-color);\n",
              "    height: 32px;\n",
              "    padding: 0;\n",
              "    width: 32px;\n",
              "  }\n",
              "\n",
              "  .colab-df-quickchart:hover {\n",
              "    background-color: var(--hover-bg-color);\n",
              "    box-shadow: 0 1px 2px rgba(60, 64, 67, 0.3), 0 1px 3px 1px rgba(60, 64, 67, 0.15);\n",
              "    fill: var(--button-hover-fill-color);\n",
              "  }\n",
              "\n",
              "  .colab-df-quickchart-complete:disabled,\n",
              "  .colab-df-quickchart-complete:disabled:hover {\n",
              "    background-color: var(--disabled-bg-color);\n",
              "    fill: var(--disabled-fill-color);\n",
              "    box-shadow: none;\n",
              "  }\n",
              "\n",
              "  .colab-df-spinner {\n",
              "    border: 2px solid var(--fill-color);\n",
              "    border-color: transparent;\n",
              "    border-bottom-color: var(--fill-color);\n",
              "    animation:\n",
              "      spin 1s steps(1) infinite;\n",
              "  }\n",
              "\n",
              "  @keyframes spin {\n",
              "    0% {\n",
              "      border-color: transparent;\n",
              "      border-bottom-color: var(--fill-color);\n",
              "      border-left-color: var(--fill-color);\n",
              "    }\n",
              "    20% {\n",
              "      border-color: transparent;\n",
              "      border-left-color: var(--fill-color);\n",
              "      border-top-color: var(--fill-color);\n",
              "    }\n",
              "    30% {\n",
              "      border-color: transparent;\n",
              "      border-left-color: var(--fill-color);\n",
              "      border-top-color: var(--fill-color);\n",
              "      border-right-color: var(--fill-color);\n",
              "    }\n",
              "    40% {\n",
              "      border-color: transparent;\n",
              "      border-right-color: var(--fill-color);\n",
              "      border-top-color: var(--fill-color);\n",
              "    }\n",
              "    60% {\n",
              "      border-color: transparent;\n",
              "      border-right-color: var(--fill-color);\n",
              "    }\n",
              "    80% {\n",
              "      border-color: transparent;\n",
              "      border-right-color: var(--fill-color);\n",
              "      border-bottom-color: var(--fill-color);\n",
              "    }\n",
              "    90% {\n",
              "      border-color: transparent;\n",
              "      border-bottom-color: var(--fill-color);\n",
              "    }\n",
              "  }\n",
              "</style>\n",
              "\n",
              "  <script>\n",
              "    async function quickchart(key) {\n",
              "      const quickchartButtonEl =\n",
              "        document.querySelector('#' + key + ' button');\n",
              "      quickchartButtonEl.disabled = true;  // To prevent multiple clicks.\n",
              "      quickchartButtonEl.classList.add('colab-df-spinner');\n",
              "      try {\n",
              "        const charts = await google.colab.kernel.invokeFunction(\n",
              "            'suggestCharts', [key], {});\n",
              "      } catch (error) {\n",
              "        console.error('Error during call to suggestCharts:', error);\n",
              "      }\n",
              "      quickchartButtonEl.classList.remove('colab-df-spinner');\n",
              "      quickchartButtonEl.classList.add('colab-df-quickchart-complete');\n",
              "    }\n",
              "    (() => {\n",
              "      let quickchartButtonEl =\n",
              "        document.querySelector('#df-c57760e1-abba-4a00-bcb1-bf006889d7cd button');\n",
              "      quickchartButtonEl.style.display =\n",
              "        google.colab.kernel.accessAllowed ? 'block' : 'none';\n",
              "    })();\n",
              "  </script>\n",
              "</div>\n",
              "\n",
              "  <div id=\"id_9597c772-3ccd-40ae-a591-c9a907314b33\">\n",
              "    <style>\n",
              "      .colab-df-generate {\n",
              "        background-color: #E8F0FE;\n",
              "        border: none;\n",
              "        border-radius: 50%;\n",
              "        cursor: pointer;\n",
              "        display: none;\n",
              "        fill: #1967D2;\n",
              "        height: 32px;\n",
              "        padding: 0 0 0 0;\n",
              "        width: 32px;\n",
              "      }\n",
              "\n",
              "      .colab-df-generate:hover {\n",
              "        background-color: #E2EBFA;\n",
              "        box-shadow: 0px 1px 2px rgba(60, 64, 67, 0.3), 0px 1px 3px 1px rgba(60, 64, 67, 0.15);\n",
              "        fill: #174EA6;\n",
              "      }\n",
              "\n",
              "      [theme=dark] .colab-df-generate {\n",
              "        background-color: #3B4455;\n",
              "        fill: #D2E3FC;\n",
              "      }\n",
              "\n",
              "      [theme=dark] .colab-df-generate:hover {\n",
              "        background-color: #434B5C;\n",
              "        box-shadow: 0px 1px 3px 1px rgba(0, 0, 0, 0.15);\n",
              "        filter: drop-shadow(0px 1px 2px rgba(0, 0, 0, 0.3));\n",
              "        fill: #FFFFFF;\n",
              "      }\n",
              "    </style>\n",
              "    <button class=\"colab-df-generate\" onclick=\"generateWithVariable('train_df')\"\n",
              "            title=\"Generate code using this dataframe.\"\n",
              "            style=\"display:none;\">\n",
              "\n",
              "  <svg xmlns=\"http://www.w3.org/2000/svg\" height=\"24px\"viewBox=\"0 0 24 24\"\n",
              "       width=\"24px\">\n",
              "    <path d=\"M7,19H8.4L18.45,9,17,7.55,7,17.6ZM5,21V16.75L18.45,3.32a2,2,0,0,1,2.83,0l1.4,1.43a1.91,1.91,0,0,1,.58,1.4,1.91,1.91,0,0,1-.58,1.4L9.25,21ZM18.45,9,17,7.55Zm-12,3A5.31,5.31,0,0,0,4.9,8.1,5.31,5.31,0,0,0,1,6.5,5.31,5.31,0,0,0,4.9,4.9,5.31,5.31,0,0,0,6.5,1,5.31,5.31,0,0,0,8.1,4.9,5.31,5.31,0,0,0,12,6.5,5.46,5.46,0,0,0,6.5,12Z\"/>\n",
              "  </svg>\n",
              "    </button>\n",
              "    <script>\n",
              "      (() => {\n",
              "      const buttonEl =\n",
              "        document.querySelector('#id_9597c772-3ccd-40ae-a591-c9a907314b33 button.colab-df-generate');\n",
              "      buttonEl.style.display =\n",
              "        google.colab.kernel.accessAllowed ? 'block' : 'none';\n",
              "\n",
              "      buttonEl.onclick = () => {\n",
              "        google.colab.notebook.generateWithVariable('train_df');\n",
              "      }\n",
              "      })();\n",
              "    </script>\n",
              "  </div>\n",
              "\n",
              "    </div>\n",
              "  </div>\n"
            ],
            "application/vnd.google.colaboratory.intrinsic+json": {
              "type": "dataframe",
              "variable_name": "train_df"
            }
          },
          "metadata": {},
          "execution_count": 7
        }
      ]
    },
    {
      "cell_type": "code",
      "source": [
        "X_train"
      ],
      "metadata": {
        "id": "PjYPMJUSSv8L",
        "outputId": "9d96192a-cda7-4954-de6c-6763e955f77c",
        "colab": {
          "base_uri": "https://localhost:8080/"
        }
      },
      "execution_count": 6,
      "outputs": [
        {
          "output_type": "execute_result",
          "data": {
            "text/plain": [
              "array([[3., 3., 0., ..., 0., 0., 0.],\n",
              "       [3., 0., 3., ..., 0., 0., 0.],\n",
              "       [3., 0., 2., ..., 0., 0., 0.],\n",
              "       ...,\n",
              "       [2., 0., 2., ..., 0., 0., 0.],\n",
              "       [2., 0., 1., ..., 0., 0., 0.],\n",
              "       [2., 1., 1., ..., 0., 0., 0.]])"
            ]
          },
          "metadata": {},
          "execution_count": 6
        }
      ]
    },
    {
      "cell_type": "markdown",
      "metadata": {
        "id": "ACnzwDiSScL5"
      },
      "source": [
        "### Dataset analysis"
      ]
    },
    {
      "cell_type": "markdown",
      "metadata": {
        "id": "FaE6rwd2ScL5"
      },
      "source": [
        "__Number of documents__"
      ]
    },
    {
      "cell_type": "code",
      "execution_count": null,
      "metadata": {
        "scrolled": false,
        "id": "BZigQddmScL6"
      },
      "outputs": [],
      "source": [
        "num_documents = X_train.shape[0]\n",
        "print(num_documents)"
      ]
    },
    {
      "cell_type": "markdown",
      "metadata": {
        "id": "wjUaysb5ScL7"
      },
      "source": [
        "__Number of features__"
      ]
    },
    {
      "cell_type": "code",
      "execution_count": null,
      "metadata": {
        "scrolled": true,
        "id": "4jgBsS8zScL7"
      },
      "outputs": [],
      "source": [
        "X_train.shape[1]"
      ]
    },
    {
      "cell_type": "markdown",
      "metadata": {
        "id": "edY-VmbBScL8"
      },
      "source": [
        "__Relevance labels statistics__\n",
        "\n",
        "0 - irrelevant, 1 - highly relevant. Table represents number of documents for each value."
      ]
    },
    {
      "cell_type": "code",
      "execution_count": null,
      "metadata": {
        "scrolled": true,
        "id": "nIDB9jo8ScL8"
      },
      "outputs": [],
      "source": [
        "from collections import Counter\n",
        "Counter(y_train).items()"
      ]
    },
    {
      "cell_type": "markdown",
      "metadata": {
        "id": "4RDxZk7lScL9"
      },
      "source": [
        "For calculation such metrics as NDCG and PFound relevances should be in segment \\[0,1\\]."
      ]
    },
    {
      "cell_type": "code",
      "execution_count": null,
      "metadata": {
        "scrolled": true,
        "id": "wecrR-y7ScL9"
      },
      "outputs": [],
      "source": [
        "max_relevance = np.max(y_train)\n",
        "y_train /= max_relevance\n",
        "y_test /= max_relevance"
      ]
    },
    {
      "cell_type": "markdown",
      "metadata": {
        "id": "NgiL9Ka5ScL-"
      },
      "source": [
        "__Number of queries__"
      ]
    },
    {
      "cell_type": "code",
      "execution_count": null,
      "metadata": {
        "scrolled": true,
        "id": "ADOIWmLyScL-"
      },
      "outputs": [],
      "source": [
        "num_queries = np.unique(queries_train).shape[0]\n",
        "num_queries"
      ]
    },
    {
      "cell_type": "markdown",
      "metadata": {
        "id": "ee5Ph6FyScL_"
      },
      "source": [
        "### Creation of CatBoost pools"
      ]
    },
    {
      "cell_type": "code",
      "execution_count": null,
      "metadata": {
        "scrolled": true,
        "id": "XMONmk6MScL_"
      },
      "outputs": [],
      "source": [
        "train = Pool(\n",
        "    data=X_train,\n",
        "    label=y_train,\n",
        "    group_id=queries_train\n",
        ")\n",
        "\n",
        "test = Pool(\n",
        "    data=X_test,\n",
        "    label=y_test,\n",
        "    group_id=queries_test\n",
        ")"
      ]
    },
    {
      "cell_type": "markdown",
      "metadata": {
        "id": "9OiHBlD5ScMA"
      },
      "source": [
        "### You can also create pools from files"
      ]
    },
    {
      "cell_type": "code",
      "execution_count": null,
      "metadata": {
        "scrolled": true,
        "id": "ocj19eVZScMA"
      },
      "outputs": [],
      "source": [
        "data_dir = './msrank'\n",
        "\n",
        "if not os.path.exists(data_dir):\n",
        "    os.makedirs(data_dir)\n",
        "\n",
        "train_file = os.path.join(data_dir, 'train.csv')\n",
        "test_file = os.path.join(data_dir, 'test.csv')\n",
        "\n",
        "train_df.to_csv(train_file, index=False, header=False)\n",
        "test_df.to_csv(test_file, index=False, header=False)"
      ]
    },
    {
      "cell_type": "code",
      "execution_count": null,
      "metadata": {
        "scrolled": true,
        "id": "XRmMz3iqScMA"
      },
      "outputs": [],
      "source": [
        "description_file = os.path.join(data_dir, 'dataset.cd')\n",
        "with open(description_file, 'w') as f:\n",
        "    f.write('0\\tLabel\\n')\n",
        "    f.write('1\\tQueryId\\n')"
      ]
    },
    {
      "cell_type": "code",
      "execution_count": null,
      "metadata": {
        "scrolled": true,
        "id": "GvLgZSYsScMA"
      },
      "outputs": [],
      "source": [
        "Pool(data=train_file, column_description=description_file, delimiter=',')"
      ]
    },
    {
      "cell_type": "markdown",
      "metadata": {
        "id": "FyifgPfiScMB"
      },
      "source": [
        "### <span style=\"color:#ce2029\">Attention:</span> all objects in dataset must be grouped by group_id\n",
        "\n",
        "For example, if the dataset consits of five documents\n",
        "\\[d1, d2, d3, d4, d5\\] with corresponding queries \\[q1, q2, q2, q1, q2\\] then the dataset should be look like:\n",
        "\n",
        "$$\\begin{pmatrix}\n",
        "    d_1, q_1, f_1\\\\\n",
        "    d_4, q_1, f_4\\\\\n",
        "    d_2, q_2, f_2\\\\\n",
        "    d_3, q_2, f_3\\\\\n",
        "    d_5, q_2, f_5\\\\\n",
        "\\end{pmatrix} \\hspace{6px} \\texttt{or} \\hspace{6px}\n",
        "\\begin{pmatrix}\n",
        "    d_2, q_2, f_2\\\\\n",
        "    d_3, q_2, f_3\\\\\n",
        "    d_5, q_2, f_5\\\\\n",
        "    d_1, q_1, f_1\\\\\n",
        "    d_4, q_1, f_4\\\\\n",
        "\\end{pmatrix}$$\n",
        "\n",
        "where $f_i$ is feature vector of i-th document."
      ]
    },
    {
      "cell_type": "markdown",
      "metadata": {
        "id": "TWBX7OETScMB"
      },
      "source": [
        "### Reducing problem to machine learning task\n",
        "\n",
        "The first and simplest idea is to try predicting document relevance $l_q$ minimizing RMSE.\n",
        "\n",
        "$$\\frac{1}{N}\\sqrt{ \\sum_q \\sum_{d_{qk}} \\left(f(d_{qk}) - l_{qk} \\right)^2 }$$"
      ]
    },
    {
      "cell_type": "code",
      "execution_count": null,
      "metadata": {
        "scrolled": true,
        "id": "l-tOr414ScMB"
      },
      "outputs": [],
      "source": [
        "default_parameters = {\n",
        "    'iterations': 2000,\n",
        "    'custom_metric': ['NDCG', 'PFound', 'AverageGain:top=10'],\n",
        "    'verbose': False,\n",
        "    'random_seed': 0,\n",
        "}\n",
        "\n",
        "parameters = {}"
      ]
    },
    {
      "cell_type": "code",
      "execution_count": null,
      "metadata": {
        "scrolled": true,
        "id": "7UG8hmAVScMB"
      },
      "outputs": [],
      "source": [
        "def fit_model(loss_function, additional_params=None, train_pool=train, test_pool=test):\n",
        "    parameters = deepcopy(default_parameters)\n",
        "    parameters['loss_function'] = loss_function\n",
        "    parameters['train_dir'] = loss_function\n",
        "\n",
        "    if additional_params is not None:\n",
        "        parameters.update(additional_params)\n",
        "\n",
        "    model = CatBoostRanker(**parameters)\n",
        "    model.fit(train_pool, eval_set=test_pool, plot=True)\n",
        "\n",
        "    return model"
      ]
    },
    {
      "cell_type": "markdown",
      "metadata": {
        "id": "b-U1CMBLScMC"
      },
      "source": [
        "Lets train the simplest model and also demonstrate precision/recall metrics from introduction."
      ]
    },
    {
      "cell_type": "code",
      "execution_count": null,
      "metadata": {
        "scrolled": false,
        "id": "wAViXd4kScMC"
      },
      "outputs": [],
      "source": [
        "model = fit_model('RMSE', {'custom_metric': ['PrecisionAt:top=10', 'RecallAt:top=10', 'MAP:top=10']})"
      ]
    },
    {
      "cell_type": "markdown",
      "metadata": {
        "id": "a5fb6ZDMScMC"
      },
      "source": [
        "### Group weights parameter\n",
        "Suppose we know that some queries are more important than others for us.<br/>\n",
        "The word \"importance\" used here in terms of accuracy or quality of CatBoostRanker prediction for given queries.<br/>\n",
        "You can pass this additional information for learner using a ``group_weights`` parameter.<br/>\n",
        "Under the hood, CatBoostRanker uses this weights in loss function simply multiplying it on a group summand.<br/>\n",
        "So the bigger weight $\\rightarrow$ the more attention for query.<br/>\n",
        "Let's show an example of training procedure with random query weights."
      ]
    },
    {
      "cell_type": "code",
      "execution_count": null,
      "metadata": {
        "scrolled": false,
        "id": "2wQmkzYSScMC"
      },
      "outputs": [],
      "source": [
        "def create_weights(queries):\n",
        "    query_set = np.unique(queries)\n",
        "    query_weights = np.random.uniform(size=query_set.shape[0])\n",
        "    weights = np.zeros(shape=queries.shape)\n",
        "\n",
        "    for i, query_id in enumerate(query_set):\n",
        "        weights[queries == query_id] = query_weights[i]\n",
        "\n",
        "    return weights\n",
        "\n",
        "\n",
        "train_with_weights = Pool(\n",
        "    data=X_train,\n",
        "    label=y_train,\n",
        "    group_weight=create_weights(queries_train),\n",
        "    group_id=queries_train\n",
        ")\n",
        "\n",
        "test_with_weights = Pool(\n",
        "    data=X_test,\n",
        "    label=y_test,\n",
        "    group_weight=create_weights(queries_test),\n",
        "    group_id=queries_test\n",
        ")\n",
        "\n",
        "fit_model(\n",
        "    'RMSE',\n",
        "    additional_params={'train_dir': 'RMSE_weigths'},\n",
        "    train_pool=train_with_weights,\n",
        "    test_pool=test_with_weights\n",
        ")"
      ]
    },
    {
      "cell_type": "markdown",
      "metadata": {
        "id": "39hbC3V0ScMD"
      },
      "source": [
        "### A special case: top-1 prediction\n",
        "\n",
        "Someday you may face with a problem $-$ you will need to predict the top one most relevant object for a given query.<br/>\n",
        "For this purpose CatBoostRanker has a mode called __QuerySoftMax__.\n",
        "\n",
        "Suppose our dataset contain a binary target: 1 $-$ mean best document for a query, 0 $-$ others.<br/>\n",
        "We will maximize the probability of being the best document for given query.<br/>\n",
        "MSRANK dataset doesn't contain binary labels, but for example of method __QuerySoftMax__ we convert it to that format,<br/> choosing a best document for every query."
      ]
    },
    {
      "cell_type": "code",
      "execution_count": null,
      "metadata": {
        "scrolled": true,
        "id": "Q-bVi8H9ScMD"
      },
      "outputs": [],
      "source": [
        "def get_best_documents(labels, queries):\n",
        "    query_set = np.unique(queries)\n",
        "    num_queries = query_set.shape[0]\n",
        "    by_query_arg_max = {query: -1 for query in query_set}\n",
        "\n",
        "    for i, query in enumerate(queries):\n",
        "        best_idx = by_query_arg_max[query]\n",
        "        if best_idx == -1 or labels[best_idx] < labels[i]:\n",
        "            by_query_arg_max[query] = i\n",
        "\n",
        "    binary_best_docs = np.zeros(shape=labels.shape)\n",
        "    for arg_max in by_query_arg_max.values():\n",
        "        binary_best_docs[arg_max] = 1.\n",
        "\n",
        "    return binary_best_docs"
      ]
    },
    {
      "cell_type": "code",
      "execution_count": null,
      "metadata": {
        "scrolled": false,
        "id": "cvPNG25RScMD"
      },
      "outputs": [],
      "source": [
        "best_docs_train = get_best_documents(y_train, queries_train)\n",
        "best_docs_test = get_best_documents(y_test, queries_test)\n",
        "\n",
        "train_with_weights = Pool(\n",
        "    data=X_train,\n",
        "    label=best_docs_train,\n",
        "    group_id=queries_train,\n",
        "    group_weight=create_weights(queries_train)\n",
        ")\n",
        "\n",
        "test_with_weights = Pool(\n",
        "    data=X_test,\n",
        "    label=best_docs_test,\n",
        "    group_id=queries_test,\n",
        "    group_weight=create_weights(queries_test)\n",
        ")\n",
        "\n",
        "fit_model(\n",
        "    'QuerySoftMax',\n",
        "    additional_params={'custom_metric': 'AverageGain:top=1'},\n",
        "    train_pool=train_with_weights,\n",
        "    test_pool=test_with_weights\n",
        ")"
      ]
    },
    {
      "cell_type": "markdown",
      "metadata": {
        "id": "MvSrI7F_ScMD"
      },
      "source": [
        "### Reducing ploblem, step 2\n",
        "\n",
        "Now lets look at example of documents relevance:\n",
        "\n",
        "$$\n",
        "    \\begin{align}\n",
        "    labels(q_1) &= \\begin{bmatrix}\n",
        "           4 \\\\\n",
        "           3 \\\\\n",
        "           3 \\\\\n",
        "           1\n",
        "         \\end{bmatrix},\n",
        "    labels(q_2) &= \\begin{bmatrix}\n",
        "           2 \\\\\n",
        "           1 \\\\\n",
        "           1 \\\\\n",
        "           0\n",
        "         \\end{bmatrix}\n",
        "   \\end{align}\n",
        "$$\n",
        "\n",
        "This means that with RMSE loss function we pay more attention to q1 than q2.\n",
        "\n",
        "To avoid this problem we introduce into RMSE a coefficient $c_q$ which depends only on query (and if fact equals to the mean of the difference between prediction and label).\n",
        "\n",
        "$$\\frac{1}{N}\\sqrt{ \\sum_q \\sum_{d_{qk}} \\left(f(d_{qk}) - l_{qk} - \\color{red}{c_{q}} \\right)^2 }$$"
      ]
    },
    {
      "cell_type": "code",
      "execution_count": null,
      "metadata": {
        "scrolled": false,
        "id": "5b0w0T9bScME"
      },
      "outputs": [],
      "source": [
        "fit_model('QueryRMSE')"
      ]
    },
    {
      "cell_type": "markdown",
      "metadata": {
        "id": "Un33qJ6sScME"
      },
      "source": [
        "### Reducing problem, step 3\n",
        "\n",
        "Since the goal of ranking is to predict a list of documents (which can be generated from given document relevances) RMSE loss function doesn't take into account relations between documents: the first is better than second, second is better than third and fifth etc.\n",
        "\n",
        "We can easily bring this information into the loss function, reducing problem not to regression but classification for two documents $(d_i, d_j)$ -- does $i$th better than $j$th or not.\n",
        "\n",
        "So we minimize the negative loglikelihood:\n",
        "\n",
        "$$ - \\sum_{i,j \\in Pairs} \\log \\left( \\frac{1}{1 + \\exp{-(f(d_i) - f(d_j))}} \\right) $$\n",
        "\n",
        "Methods based on pair comparisons called __pairwise__ in CatBoostRanker this objective called __PairLogit__.\n",
        "\n",
        "There's no need to change the dataset CatBoost generate the pairs for us. The number of generating pairs managed via parameter max_size."
      ]
    },
    {
      "cell_type": "code",
      "execution_count": null,
      "metadata": {
        "scrolled": false,
        "id": "yil2kTX8ScMF"
      },
      "outputs": [],
      "source": [
        "fit_model('PairLogit')"
      ]
    },
    {
      "cell_type": "markdown",
      "metadata": {
        "id": "Gbp1KYf3ScMP"
      },
      "source": [
        "Also we can to specify the pairs directly. There are two ways to do that:\n",
        "\n",
        "1. Two-dimensional matrix with shape=(num_pairs, 2) $\\rightarrow$ (winner_id, loser_id): list, numpy.ndarray, pandas.DataFrame.\n",
        "2. Path two the input file that contains pair descriptions:\n",
        "    * Row format: $\\texttt{[winner index, loser index, pair weight]}$"
      ]
    },
    {
      "cell_type": "code",
      "execution_count": null,
      "metadata": {
        "scrolled": true,
        "id": "hTPFELsyScMQ"
      },
      "outputs": [],
      "source": [
        "def read_groups(file_name):\n",
        "    groups = {}\n",
        "    group_ids = []\n",
        "\n",
        "    with open(file_name) as f:\n",
        "        for doc_id, line in enumerate(f):\n",
        "            line = line.split(',')[:2]\n",
        "\n",
        "            label, query_id = float(line[0]), int(line[1])\n",
        "            if query_id not in groups:\n",
        "                groups[query_id] = []\n",
        "            groups[query_id].append((doc_id, label))\n",
        "\n",
        "            group_ids.append(query_id)\n",
        "\n",
        "    return groups, group_ids\n",
        "\n",
        "train_groups, train_group_ids = read_groups(train_file)\n",
        "assert num_queries == len(train_groups)"
      ]
    },
    {
      "cell_type": "code",
      "execution_count": null,
      "metadata": {
        "scrolled": true,
        "id": "PvFhQ7-UScMQ"
      },
      "outputs": [],
      "source": [
        "pairs = []\n",
        "\n",
        "for group in train_groups.values():\n",
        "    for i in range(len(group)):\n",
        "        for j in range(i, len(group)):\n",
        "            if i == j:\n",
        "                continue\n",
        "            doc_i, relevance_i = group[i]\n",
        "            doc_j, relevance_j = group[j]\n",
        "            if relevance_i < relevance_j:\n",
        "                pairs.append((doc_j, doc_i))\n",
        "            else:\n",
        "                pairs.append((doc_i, doc_j))\n",
        "\n",
        "pairs_file = os.path.join(data_dir, 'pairs.csv')\n",
        "\n",
        "with open(pairs_file, 'w') as f:\n",
        "    for pair in pairs:\n",
        "        f.write(str(pair[0]) + '\\t' + str(pair[1]) + '\\t1\\n')"
      ]
    },
    {
      "cell_type": "code",
      "execution_count": null,
      "metadata": {
        "scrolled": true,
        "id": "ZjtM1I9QScMR"
      },
      "outputs": [],
      "source": [
        "pool1 = Pool(data=X_train, label=y_train, group_id=train_group_ids, pairs=pairs)\n",
        "pool2 = Pool(data=train_file, column_description=description_file, pairs=pairs_file, delimiter=',')"
      ]
    },
    {
      "cell_type": "markdown",
      "metadata": {
        "id": "ZGcuJhrPScMR"
      },
      "source": [
        "### Reducing problem, step 3.1\n",
        "\n",
        "Thus we know that $f(d_{qk})$ is a ensemble of trees, we can accurately solve the minimization task from step 3.\n",
        "\n",
        "This method called __PairLogitPairwise__."
      ]
    },
    {
      "cell_type": "code",
      "execution_count": null,
      "metadata": {
        "scrolled": false,
        "id": "M7hBUnmkScMR"
      },
      "outputs": [],
      "source": [
        "fit_model('PairLogitPairwise')"
      ]
    },
    {
      "cell_type": "markdown",
      "metadata": {
        "id": "hS5iXCH_ScMS"
      },
      "source": [
        "### Reducing problem, step 4\n",
        "\n",
        "Previous loss function directly minimize the number of pairs $(d_i, d_j)$ where $l_i > l_j$ but $f(d_i) < f(d_j)$, simply said the number of incorrectly placed documents.\n",
        "\n",
        "Since the user attention is high on the first documents and low on last the incorrect switch of the first two documents and last two has different cost.\n",
        "\n",
        "In steps 3 and 3.1 user can set the weight for pair.\n",
        "\n",
        "Method __YetiRank__ take this effect into account and generates weights for pairs according to their positions ([paper](https://cache-mskstoredata08.cdn.yandex.net/download.yandex.ru/company/to_rank_challenge_with_yetirank.pdf)).\n",
        "\n",
        "$$ - \\sum_{i,j \\in Pairs} \\color{red}{w_{ij}} \\log \\left( \\frac{1}{1 + \\exp{-(f(d_i) - f(d_j))}} \\right) $$"
      ]
    },
    {
      "cell_type": "code",
      "execution_count": null,
      "metadata": {
        "scrolled": true,
        "id": "uhpmioGaScMS"
      },
      "outputs": [],
      "source": [
        "fit_model('YetiRank')"
      ]
    },
    {
      "cell_type": "markdown",
      "metadata": {
        "id": "eeQHHJPzScMS"
      },
      "source": [
        "### Step 4.1\n",
        "\n",
        "As in step 3.1 __YetiRankPairwise__ is slower than __YetiRank__, but gives more accurate results."
      ]
    },
    {
      "cell_type": "code",
      "execution_count": null,
      "metadata": {
        "scrolled": true,
        "id": "JDUNqFytScMS"
      },
      "outputs": [],
      "source": [
        "fit_model('YetiRankPairwise')"
      ]
    },
    {
      "cell_type": "code",
      "execution_count": null,
      "metadata": {
        "scrolled": false,
        "id": "snSbg_3KScMT"
      },
      "outputs": [],
      "source": [
        "widget = MetricVisualizer(['RMSE', 'QueryRMSE', 'PairLogit', 'PairLogitPairwise', 'YetiRank', 'YetiRankPairwise'])\n",
        "widget.start()"
      ]
    },
    {
      "cell_type": "markdown",
      "metadata": {
        "id": "vPneZYr3ScMT"
      },
      "source": [
        "### Simple classification\n",
        "\n",
        "Very fast $\\rightarrow$ very slow; Simple method $\\rightarrow$ complex method; Low quality $\\rightarrow$ high quality.\n",
        "\n",
        "1. RMSE\n",
        "2. QueryRMSE\n",
        "3. PairLogit\n",
        "4. PairLogitPairwise\n",
        "5. YetiRank\n",
        "6. YetiRankPairwise\n",
        "\n",
        "Besides our classification, the quality of the concrete method may depend on your dataset."
      ]
    },
    {
      "cell_type": "markdown",
      "metadata": {
        "id": "NziIlnAzScMT"
      },
      "source": [
        "Look on NDCG metric of method YetiRank $-$ it's underfitted."
      ]
    },
    {
      "cell_type": "code",
      "execution_count": null,
      "metadata": {
        "scrolled": true,
        "id": "7WR3kpwGScMT"
      },
      "outputs": [],
      "source": [
        "fit_model('YetiRank', {'train_dir': 'YetiRank-lr-0.3', 'learning_rate': 0.3})"
      ]
    },
    {
      "cell_type": "code",
      "execution_count": null,
      "metadata": {
        "scrolled": true,
        "id": "3F5W8qm1ScMT"
      },
      "outputs": [],
      "source": [
        "widget = MetricVisualizer(['YetiRank', 'YetiRank-lr-0.3'])\n",
        "widget.start()"
      ]
    },
    {
      "cell_type": "markdown",
      "metadata": {
        "id": "KUofhom-ScMT"
      },
      "source": [
        "### Additional parameters"
      ]
    },
    {
      "cell_type": "markdown",
      "metadata": {
        "id": "gUSGbA18ScMU"
      },
      "source": [
        "__Metric period__\n",
        "\n",
        "Period in iterations of calculation metrics. This parameter can speed up training process."
      ]
    },
    {
      "cell_type": "code",
      "execution_count": null,
      "metadata": {
        "scrolled": true,
        "id": "v9iaqYYhScMU"
      },
      "outputs": [],
      "source": [
        "fit_model('YetiRank', {'metric_period': 50})"
      ]
    },
    {
      "cell_type": "markdown",
      "metadata": {
        "id": "QqFFPWfaScMV"
      },
      "source": [
        "__Task type__\n",
        "\n",
        "You can significantly speed up training procedure by switching to GPU."
      ]
    },
    {
      "cell_type": "code",
      "execution_count": null,
      "metadata": {
        "scrolled": true,
        "id": "rSXlXB3cScMV"
      },
      "outputs": [],
      "source": [
        "fit_model('YetiRank', {'task_type': 'GPU'})"
      ]
    }
  ],
  "metadata": {
    "kernelspec": {
      "display_name": "Python 3",
      "language": "python",
      "name": "python3"
    },
    "language_info": {
      "codemirror_mode": {
        "name": "ipython",
        "version": 3
      },
      "file_extension": ".py",
      "mimetype": "text/x-python",
      "name": "python",
      "nbconvert_exporter": "python",
      "pygments_lexer": "ipython3",
      "version": "3.7.4"
    },
    "colab": {
      "provenance": []
    }
  },
  "nbformat": 4,
  "nbformat_minor": 0
}